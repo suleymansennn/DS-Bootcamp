{
 "cells": [
  {
   "cell_type": "markdown",
   "id": "f62fa224-7d3c-41cb-b34f-adfca6e995bb",
   "metadata": {
    "pycharm": {
     "name": "#%% md\n"
    }
   },
   "source": [
    "# Customer Lifetime Value Prediction\n",
    "- Zaman projeksiyonlu olasılıklsal lifetime value tahmini\n",
    "- Öyle bir işlem yapılması gerekir ki bütün kitlenin satın alma davranışı ve bütün kitlenin işlem başına ortalama bırakacağı kazanç olasılıksal olarak modelleyelim ve bu modele yeni bir kullanıcı göndererek bir tahmin işleminde bulunalım.\n",
    "- Bütün kitlenin satın alma davranışları bir olasılık dağılımı ile modellenir. Daha sonra modeli koşullu, kişi özelinde biçimlendirerek beklenen satın almayı tahmin edeceğiz.\n",
    "### CLTV = Purchase Frequency * Average Order Value\n",
    "### CLTV = Expected Number of Transaction * Expected Average Profit\n",
    "### CLTV = BG/NBD Model * Gamma Gamma Submodel"
   ]
  },
  {
   "cell_type": "markdown",
   "id": "d80b90af-77fb-4546-a6a8-4fa9dfd45af2",
   "metadata": {
    "pycharm": {
     "name": "#%% md\n"
    }
   },
   "source": [
    "# BG/NBD (Beta Geometric / Negative Binomial Distribution) ile Beklenen Satın Alma Sayısı\n",
    "- BG-NBD satış tahmin modeli olarak kullanılır.\n",
    "- Olasılık dağılımları aracılığıyla genel kitlemizin satın alma davranışlarını modelleyip kişi özeline indirgemek.\n",
    "- BG-NBD modeli satın alma sürecini(transaction process) ve markayı terk etme sürecini modeller.\n",
    "- Transaction Process(buy):\n",
    "    - Alive olduğu sürece, belirli bir zaman periyodunda, bir müşteri tarafından gerçekleştirilecek işlem sayısı transaction rate parametresi ile poisson dağılır.\n",
    "    - Bir müşteri canlı olduğu sürece kendi transaction rate'i etrafında rastgele satın alma yapmaya devam edecektir.\n",
    "    - **Transaction rate'ler her bir müşteriye göre değişir ve tüm kitle için gamma dağılır. (r, a)**\n",
    "- Dropout Process (till you die):\n",
    "    - Her bir müşterinin p olasılığı ile dropout rate'i vardır.\n",
    "    - Bir müşteri alışveriş yaptıktan sonra belirli bir olasılıkla drop olur.\n",
    "    - **Dropout rate'ler her bir müşteriye göre değişir ve tüm kitle için beta dağılır (a, b)**\n",
    "    "
   ]
  },
  {
   "cell_type": "markdown",
   "id": "7ef13ad0-1403-4c53-bcf2-9aa7c605dee2",
   "metadata": {
    "pycharm": {
     "name": "#%% md\n"
    }
   },
   "source": [
    "# Gamma Gamma Submodel (Expected Average Profit)\n",
    "- Bir müşterinin işlem başına ortalama ne kadar kar getirebileceğini tahmin etmek için kullanılır.\n",
    "- Bir müşterinin yaptığı toplam harcama, transaction value'ların ortalaması etrafında rastgele dağılır.\n",
    "- Ortalama transaction value, zaman içinde kullanıcılar arasında değişebilir fakat tek bir kullanıcı için değişmez.\n",
    "- Ortalama transaction value tüm müşteriler arasında gamma dağılır."
   ]
  },
  {
   "cell_type": "markdown",
   "id": "02caee59-a40a-4074-a90a-c3d909ad7a29",
   "metadata": {
    "pycharm": {
     "name": "#%% md\n"
    }
   },
   "source": [
    "# BG-NBD ve Gamma-Gamma ile CLTV Prediction\n",
    "1. Verinin hazırlanması\n",
    "2. BG-NBD modeli ile expected number of transaction\n",
    "3. Gamma-Gamma modeli ile expected average profit\n",
    "4. BG-NBD ve Gamma-Gamma modeli ile CLTV'nin hesaplanması\n",
    "5. CLTV'ye göre segmentlerin oluşturulması\n",
    "6. Çalışmanın fonksiyonlaştırılması"
   ]
  },
  {
   "cell_type": "markdown",
   "id": "9c5c480f-8d4c-4407-a127-5d2da1154ef1",
   "metadata": {
    "pycharm": {
     "name": "#%% md\n"
    }
   },
   "source": [
    "### 1. Verinin hazırlanması"
   ]
  },
  {
   "cell_type": "code",
   "execution_count": 2,
   "id": "5a3a32ca-3cc9-4a0a-b95b-f8561efc4e1e",
   "metadata": {
    "pycharm": {
     "name": "#%%\n"
    }
   },
   "outputs": [
    {
     "name": "stdout",
     "output_type": "stream",
     "text": [
      "Collecting lifetimes\n",
      "  Downloading Lifetimes-0.11.3-py3-none-any.whl (584 kB)\n",
      "     -------------------------------------- 584.2/584.2 kB 2.6 MB/s eta 0:00:00\n",
      "Requirement already satisfied: pandas>=0.24.0 in c:\\users\\suley\\anaconda3\\lib\\site-packages (from lifetimes) (1.4.4)\n",
      "Requirement already satisfied: scipy>=1.0.0 in c:\\users\\suley\\anaconda3\\lib\\site-packages (from lifetimes) (1.9.1)\n",
      "Requirement already satisfied: numpy>=1.10.0 in c:\\users\\suley\\anaconda3\\lib\\site-packages (from lifetimes) (1.21.5)\n",
      "Collecting autograd>=1.2.0\n",
      "  Downloading autograd-1.5-py3-none-any.whl (48 kB)\n",
      "     ---------------------------------------- 48.9/48.9 kB 2.4 MB/s eta 0:00:00\n",
      "Collecting dill>=0.2.6\n",
      "  Downloading dill-0.3.6-py3-none-any.whl (110 kB)\n",
      "     ---------------------------------------- 110.5/110.5 kB ? eta 0:00:00\n",
      "Requirement already satisfied: future>=0.15.2 in c:\\users\\suley\\anaconda3\\lib\\site-packages (from autograd>=1.2.0->lifetimes) (0.18.2)\n",
      "Requirement already satisfied: pytz>=2020.1 in c:\\users\\suley\\anaconda3\\lib\\site-packages (from pandas>=0.24.0->lifetimes) (2022.1)\n",
      "Requirement already satisfied: python-dateutil>=2.8.1 in c:\\users\\suley\\anaconda3\\lib\\site-packages (from pandas>=0.24.0->lifetimes) (2.8.2)\n",
      "Requirement already satisfied: six>=1.5 in c:\\users\\suley\\anaconda3\\lib\\site-packages (from python-dateutil>=2.8.1->pandas>=0.24.0->lifetimes) (1.16.0)\n",
      "Installing collected packages: dill, autograd, lifetimes\n",
      "Successfully installed autograd-1.5 dill-0.3.6 lifetimes-0.11.3\n"
     ]
    }
   ],
   "source": [
    "!pip install lifetimes"
   ]
  },
  {
   "cell_type": "code",
   "execution_count": 3,
   "id": "d091e6be-6c54-4bf6-ba51-abad23935216",
   "metadata": {
    "pycharm": {
     "name": "#%%\n"
    }
   },
   "outputs": [],
   "source": [
    "import pandas as pd\n",
    "import datetime as dt\n",
    "import matplotlib.pyplot as plt\n",
    "from lifetimes import BetaGeoFitter\n",
    "from lifetimes import GammaGammaFitter\n",
    "from lifetimes.plotting import plot_period_transactions\n",
    "from sklearn.preprocessing import MinMaxScaler\n",
    "\n",
    "pd.set_option(\"display.max_columns\", None)\n",
    "pd.set_option(\"display.float_format\", lambda x: \"%.4f\" % x)"
   ]
  },
  {
   "cell_type": "code",
   "execution_count": 5,
   "id": "93653859-bb3c-4318-9ef3-d47cf4060fa9",
   "metadata": {
    "pycharm": {
     "name": "#%%\n"
    }
   },
   "outputs": [],
   "source": [
    "df_ = pd.read_excel(\"C:/Users/suley/bootcamp/crm/crm//online_retail_II.xlsx\", sheet_name=\"Year 2010-2011\")"
   ]
  },
  {
   "cell_type": "code",
   "execution_count": 6,
   "id": "ad9f6543-973f-4b51-b8ca-20475cd3a6c7",
   "metadata": {
    "pycharm": {
     "name": "#%%\n"
    }
   },
   "outputs": [
    {
     "data": {
      "text/html": [
       "<div>\n",
       "<style scoped>\n",
       "    .dataframe tbody tr th:only-of-type {\n",
       "        vertical-align: middle;\n",
       "    }\n",
       "\n",
       "    .dataframe tbody tr th {\n",
       "        vertical-align: top;\n",
       "    }\n",
       "\n",
       "    .dataframe thead th {\n",
       "        text-align: right;\n",
       "    }\n",
       "</style>\n",
       "<table border=\"1\" class=\"dataframe\">\n",
       "  <thead>\n",
       "    <tr style=\"text-align: right;\">\n",
       "      <th></th>\n",
       "      <th>Invoice</th>\n",
       "      <th>StockCode</th>\n",
       "      <th>Description</th>\n",
       "      <th>Quantity</th>\n",
       "      <th>InvoiceDate</th>\n",
       "      <th>Price</th>\n",
       "      <th>Customer ID</th>\n",
       "      <th>Country</th>\n",
       "    </tr>\n",
       "  </thead>\n",
       "  <tbody>\n",
       "    <tr>\n",
       "      <th>0</th>\n",
       "      <td>536365</td>\n",
       "      <td>85123A</td>\n",
       "      <td>WHITE HANGING HEART T-LIGHT HOLDER</td>\n",
       "      <td>6</td>\n",
       "      <td>2010-12-01 08:26:00</td>\n",
       "      <td>2.5500</td>\n",
       "      <td>17850.0000</td>\n",
       "      <td>United Kingdom</td>\n",
       "    </tr>\n",
       "    <tr>\n",
       "      <th>1</th>\n",
       "      <td>536365</td>\n",
       "      <td>71053</td>\n",
       "      <td>WHITE METAL LANTERN</td>\n",
       "      <td>6</td>\n",
       "      <td>2010-12-01 08:26:00</td>\n",
       "      <td>3.3900</td>\n",
       "      <td>17850.0000</td>\n",
       "      <td>United Kingdom</td>\n",
       "    </tr>\n",
       "    <tr>\n",
       "      <th>2</th>\n",
       "      <td>536365</td>\n",
       "      <td>84406B</td>\n",
       "      <td>CREAM CUPID HEARTS COAT HANGER</td>\n",
       "      <td>8</td>\n",
       "      <td>2010-12-01 08:26:00</td>\n",
       "      <td>2.7500</td>\n",
       "      <td>17850.0000</td>\n",
       "      <td>United Kingdom</td>\n",
       "    </tr>\n",
       "    <tr>\n",
       "      <th>3</th>\n",
       "      <td>536365</td>\n",
       "      <td>84029G</td>\n",
       "      <td>KNITTED UNION FLAG HOT WATER BOTTLE</td>\n",
       "      <td>6</td>\n",
       "      <td>2010-12-01 08:26:00</td>\n",
       "      <td>3.3900</td>\n",
       "      <td>17850.0000</td>\n",
       "      <td>United Kingdom</td>\n",
       "    </tr>\n",
       "    <tr>\n",
       "      <th>4</th>\n",
       "      <td>536365</td>\n",
       "      <td>84029E</td>\n",
       "      <td>RED WOOLLY HOTTIE WHITE HEART.</td>\n",
       "      <td>6</td>\n",
       "      <td>2010-12-01 08:26:00</td>\n",
       "      <td>3.3900</td>\n",
       "      <td>17850.0000</td>\n",
       "      <td>United Kingdom</td>\n",
       "    </tr>\n",
       "  </tbody>\n",
       "</table>\n",
       "</div>"
      ],
      "text/plain": [
       "  Invoice StockCode                          Description  Quantity  \\\n",
       "0  536365    85123A   WHITE HANGING HEART T-LIGHT HOLDER         6   \n",
       "1  536365     71053                  WHITE METAL LANTERN         6   \n",
       "2  536365    84406B       CREAM CUPID HEARTS COAT HANGER         8   \n",
       "3  536365    84029G  KNITTED UNION FLAG HOT WATER BOTTLE         6   \n",
       "4  536365    84029E       RED WOOLLY HOTTIE WHITE HEART.         6   \n",
       "\n",
       "          InvoiceDate  Price  Customer ID         Country  \n",
       "0 2010-12-01 08:26:00 2.5500   17850.0000  United Kingdom  \n",
       "1 2010-12-01 08:26:00 3.3900   17850.0000  United Kingdom  \n",
       "2 2010-12-01 08:26:00 2.7500   17850.0000  United Kingdom  \n",
       "3 2010-12-01 08:26:00 3.3900   17850.0000  United Kingdom  \n",
       "4 2010-12-01 08:26:00 3.3900   17850.0000  United Kingdom  "
      ]
     },
     "execution_count": 6,
     "metadata": {},
     "output_type": "execute_result"
    }
   ],
   "source": [
    "df = df_.copy()\n",
    "df.head()"
   ]
  },
  {
   "cell_type": "code",
   "execution_count": 7,
   "id": "bec6217e-56b2-4db6-b7dd-ea6751e49037",
   "metadata": {
    "pycharm": {
     "name": "#%%\n"
    }
   },
   "outputs": [],
   "source": [
    "def outlier_threshold(dataframe, variable, q1=.01, q3=.99):\n",
    "    quartile1 = dataframe[variable].quantile(q1)\n",
    "    quartile3= dataframe[variable].quantile(q3)\n",
    "    interquantile_range = quartile3 - quartile1\n",
    "    up_limit =  quartile3 + 1.5 * interquantile_range\n",
    "    low_limit = quartile1 - 1.5 * interquantile_range\n",
    "    return low_limit, up_limit\n",
    "\n",
    "def replace_with_thresholds(dataframe, variable):\n",
    "    low_limit, up_limit = outlier_threshold(dataframe, variable)\n",
    "    dataframe[variable] = dataframe[variable].apply(lambda x: up_limit if x > up_limit else (low_limit if x < low_limit else x))"
   ]
  },
  {
   "cell_type": "code",
   "execution_count": 8,
   "id": "5b9836de-3d13-4d1a-a358-09eb9406fe62",
   "metadata": {
    "pycharm": {
     "name": "#%%\n"
    }
   },
   "outputs": [
    {
     "data": {
      "text/html": [
       "<div>\n",
       "<style scoped>\n",
       "    .dataframe tbody tr th:only-of-type {\n",
       "        vertical-align: middle;\n",
       "    }\n",
       "\n",
       "    .dataframe tbody tr th {\n",
       "        vertical-align: top;\n",
       "    }\n",
       "\n",
       "    .dataframe thead th {\n",
       "        text-align: right;\n",
       "    }\n",
       "</style>\n",
       "<table border=\"1\" class=\"dataframe\">\n",
       "  <thead>\n",
       "    <tr style=\"text-align: right;\">\n",
       "      <th></th>\n",
       "      <th>count</th>\n",
       "      <th>mean</th>\n",
       "      <th>std</th>\n",
       "      <th>min</th>\n",
       "      <th>25%</th>\n",
       "      <th>50%</th>\n",
       "      <th>75%</th>\n",
       "      <th>max</th>\n",
       "    </tr>\n",
       "  </thead>\n",
       "  <tbody>\n",
       "    <tr>\n",
       "      <th>Quantity</th>\n",
       "      <td>397885.0000</td>\n",
       "      <td>12.9882</td>\n",
       "      <td>179.3316</td>\n",
       "      <td>1.0000</td>\n",
       "      <td>2.0000</td>\n",
       "      <td>6.0000</td>\n",
       "      <td>12.0000</td>\n",
       "      <td>80995.0000</td>\n",
       "    </tr>\n",
       "    <tr>\n",
       "      <th>Price</th>\n",
       "      <td>397885.0000</td>\n",
       "      <td>3.1165</td>\n",
       "      <td>22.0979</td>\n",
       "      <td>0.0010</td>\n",
       "      <td>1.2500</td>\n",
       "      <td>1.9500</td>\n",
       "      <td>3.7500</td>\n",
       "      <td>8142.7500</td>\n",
       "    </tr>\n",
       "    <tr>\n",
       "      <th>Customer ID</th>\n",
       "      <td>397885.0000</td>\n",
       "      <td>15294.4169</td>\n",
       "      <td>1713.1444</td>\n",
       "      <td>12346.0000</td>\n",
       "      <td>13969.0000</td>\n",
       "      <td>15159.0000</td>\n",
       "      <td>16795.0000</td>\n",
       "      <td>18287.0000</td>\n",
       "    </tr>\n",
       "  </tbody>\n",
       "</table>\n",
       "</div>"
      ],
      "text/plain": [
       "                  count       mean       std        min        25%        50%  \\\n",
       "Quantity    397885.0000    12.9882  179.3316     1.0000     2.0000     6.0000   \n",
       "Price       397885.0000     3.1165   22.0979     0.0010     1.2500     1.9500   \n",
       "Customer ID 397885.0000 15294.4169 1713.1444 12346.0000 13969.0000 15159.0000   \n",
       "\n",
       "                   75%        max  \n",
       "Quantity       12.0000 80995.0000  \n",
       "Price           3.7500  8142.7500  \n",
       "Customer ID 16795.0000 18287.0000  "
      ]
     },
     "execution_count": 8,
     "metadata": {},
     "output_type": "execute_result"
    }
   ],
   "source": [
    "# Veri Ön İşleme\n",
    "df.dropna(inplace=True)\n",
    "df = df.loc[~df[\"Invoice\"].str.contains(\"C\", na=False)]\n",
    "df = df.loc[df[\"Price\"]>0]\n",
    "df.describe().T"
   ]
  },
  {
   "cell_type": "code",
   "execution_count": 9,
   "id": "0c792f73-4027-4051-a9ff-21e3aef44520",
   "metadata": {
    "pycharm": {
     "name": "#%%\n"
    }
   },
   "outputs": [
    {
     "data": {
      "text/html": [
       "<div>\n",
       "<style scoped>\n",
       "    .dataframe tbody tr th:only-of-type {\n",
       "        vertical-align: middle;\n",
       "    }\n",
       "\n",
       "    .dataframe tbody tr th {\n",
       "        vertical-align: top;\n",
       "    }\n",
       "\n",
       "    .dataframe thead th {\n",
       "        text-align: right;\n",
       "    }\n",
       "</style>\n",
       "<table border=\"1\" class=\"dataframe\">\n",
       "  <thead>\n",
       "    <tr style=\"text-align: right;\">\n",
       "      <th></th>\n",
       "      <th>count</th>\n",
       "      <th>mean</th>\n",
       "      <th>std</th>\n",
       "      <th>min</th>\n",
       "      <th>25%</th>\n",
       "      <th>50%</th>\n",
       "      <th>75%</th>\n",
       "      <th>max</th>\n",
       "    </tr>\n",
       "  </thead>\n",
       "  <tbody>\n",
       "    <tr>\n",
       "      <th>Quantity</th>\n",
       "      <td>397885.0000</td>\n",
       "      <td>11.8308</td>\n",
       "      <td>25.5231</td>\n",
       "      <td>1.0000</td>\n",
       "      <td>2.0000</td>\n",
       "      <td>6.0000</td>\n",
       "      <td>12.0000</td>\n",
       "      <td>298.5000</td>\n",
       "    </tr>\n",
       "    <tr>\n",
       "      <th>Price</th>\n",
       "      <td>397885.0000</td>\n",
       "      <td>3.1165</td>\n",
       "      <td>22.0979</td>\n",
       "      <td>0.0010</td>\n",
       "      <td>1.2500</td>\n",
       "      <td>1.9500</td>\n",
       "      <td>3.7500</td>\n",
       "      <td>8142.7500</td>\n",
       "    </tr>\n",
       "    <tr>\n",
       "      <th>Customer ID</th>\n",
       "      <td>397885.0000</td>\n",
       "      <td>15294.4169</td>\n",
       "      <td>1713.1444</td>\n",
       "      <td>12346.0000</td>\n",
       "      <td>13969.0000</td>\n",
       "      <td>15159.0000</td>\n",
       "      <td>16795.0000</td>\n",
       "      <td>18287.0000</td>\n",
       "    </tr>\n",
       "  </tbody>\n",
       "</table>\n",
       "</div>"
      ],
      "text/plain": [
       "                  count       mean       std        min        25%        50%  \\\n",
       "Quantity    397885.0000    11.8308   25.5231     1.0000     2.0000     6.0000   \n",
       "Price       397885.0000     3.1165   22.0979     0.0010     1.2500     1.9500   \n",
       "Customer ID 397885.0000 15294.4169 1713.1444 12346.0000 13969.0000 15159.0000   \n",
       "\n",
       "                   75%        max  \n",
       "Quantity       12.0000   298.5000  \n",
       "Price           3.7500  8142.7500  \n",
       "Customer ID 16795.0000 18287.0000  "
      ]
     },
     "execution_count": 9,
     "metadata": {},
     "output_type": "execute_result"
    }
   ],
   "source": [
    "replace_with_thresholds(df, \"Quantity\")\n",
    "df.describe().T"
   ]
  },
  {
   "cell_type": "code",
   "execution_count": 10,
   "id": "d308c610-0c78-43e0-aa4b-46c31280c250",
   "metadata": {
    "pycharm": {
     "name": "#%%\n"
    }
   },
   "outputs": [
    {
     "data": {
      "text/html": [
       "<div>\n",
       "<style scoped>\n",
       "    .dataframe tbody tr th:only-of-type {\n",
       "        vertical-align: middle;\n",
       "    }\n",
       "\n",
       "    .dataframe tbody tr th {\n",
       "        vertical-align: top;\n",
       "    }\n",
       "\n",
       "    .dataframe thead th {\n",
       "        text-align: right;\n",
       "    }\n",
       "</style>\n",
       "<table border=\"1\" class=\"dataframe\">\n",
       "  <thead>\n",
       "    <tr style=\"text-align: right;\">\n",
       "      <th></th>\n",
       "      <th>count</th>\n",
       "      <th>mean</th>\n",
       "      <th>std</th>\n",
       "      <th>min</th>\n",
       "      <th>25%</th>\n",
       "      <th>50%</th>\n",
       "      <th>75%</th>\n",
       "      <th>max</th>\n",
       "    </tr>\n",
       "  </thead>\n",
       "  <tbody>\n",
       "    <tr>\n",
       "      <th>Quantity</th>\n",
       "      <td>397885.0000</td>\n",
       "      <td>11.8308</td>\n",
       "      <td>25.5231</td>\n",
       "      <td>1.0000</td>\n",
       "      <td>2.0000</td>\n",
       "      <td>6.0000</td>\n",
       "      <td>12.0000</td>\n",
       "      <td>298.5000</td>\n",
       "    </tr>\n",
       "    <tr>\n",
       "      <th>Price</th>\n",
       "      <td>397885.0000</td>\n",
       "      <td>2.8935</td>\n",
       "      <td>3.2272</td>\n",
       "      <td>0.0010</td>\n",
       "      <td>1.2500</td>\n",
       "      <td>1.9500</td>\n",
       "      <td>3.7500</td>\n",
       "      <td>37.0600</td>\n",
       "    </tr>\n",
       "    <tr>\n",
       "      <th>Customer ID</th>\n",
       "      <td>397885.0000</td>\n",
       "      <td>15294.4169</td>\n",
       "      <td>1713.1444</td>\n",
       "      <td>12346.0000</td>\n",
       "      <td>13969.0000</td>\n",
       "      <td>15159.0000</td>\n",
       "      <td>16795.0000</td>\n",
       "      <td>18287.0000</td>\n",
       "    </tr>\n",
       "  </tbody>\n",
       "</table>\n",
       "</div>"
      ],
      "text/plain": [
       "                  count       mean       std        min        25%        50%  \\\n",
       "Quantity    397885.0000    11.8308   25.5231     1.0000     2.0000     6.0000   \n",
       "Price       397885.0000     2.8935    3.2272     0.0010     1.2500     1.9500   \n",
       "Customer ID 397885.0000 15294.4169 1713.1444 12346.0000 13969.0000 15159.0000   \n",
       "\n",
       "                   75%        max  \n",
       "Quantity       12.0000   298.5000  \n",
       "Price           3.7500    37.0600  \n",
       "Customer ID 16795.0000 18287.0000  "
      ]
     },
     "execution_count": 10,
     "metadata": {},
     "output_type": "execute_result"
    }
   ],
   "source": [
    "replace_with_thresholds(df, \"Price\")\n",
    "df.describe().T"
   ]
  },
  {
   "cell_type": "code",
   "execution_count": 11,
   "id": "7aaefde3-2ce0-438a-91a3-1848e8ec7af0",
   "metadata": {
    "pycharm": {
     "name": "#%%\n"
    }
   },
   "outputs": [
    {
     "data": {
      "text/plain": [
       "Timestamp('2011-12-11 12:50:00')"
      ]
     },
     "execution_count": 11,
     "metadata": {},
     "output_type": "execute_result"
    }
   ],
   "source": [
    "df[\"TotalPrice\"] = df[\"Quantity\"] * df[\"Price\"]\n",
    "df[\"InvoiceDate\"] = pd.to_datetime(df[\"InvoiceDate\"])\n",
    "today_date = df[\"InvoiceDate\"].max() + dt.timedelta(days=2)\n",
    "today_date"
   ]
  },
  {
   "cell_type": "markdown",
   "id": "8a311515-065a-48b2-8d68-1fc1a0229982",
   "metadata": {
    "pycharm": {
     "name": "#%% md\n"
    }
   },
   "source": [
    "#### Lifetime Veri Yapısının Hazırlanması\n",
    "- Recency : Son satın alma tarihi üzerinden geçen zaman. Haftalık. Müşterinin ilk satın alması ile son satın alması arasındaki süre.\n",
    "- T: Müşteri yaşı. Haftalık(analiz tarihinden ne kadar süre önce ilk satın alma yapılmış)\n",
    "- Frequency: Tekrar eden toplam satın alma sayısı (frequency>1)\n",
    "- Monetary_value: Satın alma başına ortalama kazanç"
   ]
  },
  {
   "cell_type": "code",
   "execution_count": 12,
   "id": "606cf174-abc8-45d8-a53e-31c30c58ef19",
   "metadata": {
    "pycharm": {
     "name": "#%%\n"
    }
   },
   "outputs": [
    {
     "data": {
      "text/html": [
       "<div>\n",
       "<style scoped>\n",
       "    .dataframe tbody tr th:only-of-type {\n",
       "        vertical-align: middle;\n",
       "    }\n",
       "\n",
       "    .dataframe tbody tr th {\n",
       "        vertical-align: top;\n",
       "    }\n",
       "\n",
       "    .dataframe thead tr th {\n",
       "        text-align: left;\n",
       "    }\n",
       "\n",
       "    .dataframe thead tr:last-of-type th {\n",
       "        text-align: right;\n",
       "    }\n",
       "</style>\n",
       "<table border=\"1\" class=\"dataframe\">\n",
       "  <thead>\n",
       "    <tr>\n",
       "      <th></th>\n",
       "      <th colspan=\"2\" halign=\"left\">InvoiceDate</th>\n",
       "      <th>Invoice</th>\n",
       "      <th>TotalPrice</th>\n",
       "    </tr>\n",
       "    <tr>\n",
       "      <th></th>\n",
       "      <th>&lt;lambda_0&gt;</th>\n",
       "      <th>&lt;lambda_1&gt;</th>\n",
       "      <th>&lt;lambda&gt;</th>\n",
       "      <th>&lt;lambda&gt;</th>\n",
       "    </tr>\n",
       "    <tr>\n",
       "      <th>Customer ID</th>\n",
       "      <th></th>\n",
       "      <th></th>\n",
       "      <th></th>\n",
       "      <th></th>\n",
       "    </tr>\n",
       "  </thead>\n",
       "  <tbody>\n",
       "    <tr>\n",
       "      <th>12346.0000</th>\n",
       "      <td>0</td>\n",
       "      <td>327</td>\n",
       "      <td>1</td>\n",
       "      <td>310.4400</td>\n",
       "    </tr>\n",
       "    <tr>\n",
       "      <th>12347.0000</th>\n",
       "      <td>365</td>\n",
       "      <td>368</td>\n",
       "      <td>7</td>\n",
       "      <td>4310.0000</td>\n",
       "    </tr>\n",
       "    <tr>\n",
       "      <th>12348.0000</th>\n",
       "      <td>282</td>\n",
       "      <td>359</td>\n",
       "      <td>4</td>\n",
       "      <td>1770.7800</td>\n",
       "    </tr>\n",
       "    <tr>\n",
       "      <th>12349.0000</th>\n",
       "      <td>0</td>\n",
       "      <td>20</td>\n",
       "      <td>1</td>\n",
       "      <td>1491.7200</td>\n",
       "    </tr>\n",
       "    <tr>\n",
       "      <th>12350.0000</th>\n",
       "      <td>0</td>\n",
       "      <td>311</td>\n",
       "      <td>1</td>\n",
       "      <td>331.4600</td>\n",
       "    </tr>\n",
       "  </tbody>\n",
       "</table>\n",
       "</div>"
      ],
      "text/plain": [
       "            InvoiceDate             Invoice TotalPrice\n",
       "             <lambda_0> <lambda_1> <lambda>   <lambda>\n",
       "Customer ID                                           \n",
       "12346.0000            0        327        1   310.4400\n",
       "12347.0000          365        368        7  4310.0000\n",
       "12348.0000          282        359        4  1770.7800\n",
       "12349.0000            0         20        1  1491.7200\n",
       "12350.0000            0        311        1   331.4600"
      ]
     },
     "execution_count": 12,
     "metadata": {},
     "output_type": "execute_result"
    }
   ],
   "source": [
    "cltv_df = df.groupby(\"Customer ID\").agg({\n",
    "        \"InvoiceDate\": [lambda x: (x.max() - x.min()).days,\n",
    "                       lambda x: (today_date - x.min()).days],\n",
    "        \"Invoice\": lambda x: x.nunique(),\n",
    "        \"TotalPrice\": lambda x: x.sum()\n",
    "        })\n",
    "cltv_df.head()"
   ]
  },
  {
   "cell_type": "code",
   "execution_count": 13,
   "id": "5ee9cb55-4c86-44ca-b08d-d050b3e63818",
   "metadata": {
    "pycharm": {
     "name": "#%%\n"
    }
   },
   "outputs": [
    {
     "data": {
      "text/html": [
       "<div>\n",
       "<style scoped>\n",
       "    .dataframe tbody tr th:only-of-type {\n",
       "        vertical-align: middle;\n",
       "    }\n",
       "\n",
       "    .dataframe tbody tr th {\n",
       "        vertical-align: top;\n",
       "    }\n",
       "\n",
       "    .dataframe thead th {\n",
       "        text-align: right;\n",
       "    }\n",
       "</style>\n",
       "<table border=\"1\" class=\"dataframe\">\n",
       "  <thead>\n",
       "    <tr style=\"text-align: right;\">\n",
       "      <th></th>\n",
       "      <th>recency</th>\n",
       "      <th>T</th>\n",
       "      <th>frequency</th>\n",
       "      <th>monetary</th>\n",
       "    </tr>\n",
       "    <tr>\n",
       "      <th>Customer ID</th>\n",
       "      <th></th>\n",
       "      <th></th>\n",
       "      <th></th>\n",
       "      <th></th>\n",
       "    </tr>\n",
       "  </thead>\n",
       "  <tbody>\n",
       "    <tr>\n",
       "      <th>12346.0000</th>\n",
       "      <td>0</td>\n",
       "      <td>327</td>\n",
       "      <td>1</td>\n",
       "      <td>310.4400</td>\n",
       "    </tr>\n",
       "    <tr>\n",
       "      <th>12347.0000</th>\n",
       "      <td>365</td>\n",
       "      <td>368</td>\n",
       "      <td>7</td>\n",
       "      <td>4310.0000</td>\n",
       "    </tr>\n",
       "    <tr>\n",
       "      <th>12348.0000</th>\n",
       "      <td>282</td>\n",
       "      <td>359</td>\n",
       "      <td>4</td>\n",
       "      <td>1770.7800</td>\n",
       "    </tr>\n",
       "    <tr>\n",
       "      <th>12349.0000</th>\n",
       "      <td>0</td>\n",
       "      <td>20</td>\n",
       "      <td>1</td>\n",
       "      <td>1491.7200</td>\n",
       "    </tr>\n",
       "    <tr>\n",
       "      <th>12350.0000</th>\n",
       "      <td>0</td>\n",
       "      <td>311</td>\n",
       "      <td>1</td>\n",
       "      <td>331.4600</td>\n",
       "    </tr>\n",
       "    <tr>\n",
       "      <th>...</th>\n",
       "      <td>...</td>\n",
       "      <td>...</td>\n",
       "      <td>...</td>\n",
       "      <td>...</td>\n",
       "    </tr>\n",
       "    <tr>\n",
       "      <th>18280.0000</th>\n",
       "      <td>0</td>\n",
       "      <td>279</td>\n",
       "      <td>1</td>\n",
       "      <td>180.6000</td>\n",
       "    </tr>\n",
       "    <tr>\n",
       "      <th>18281.0000</th>\n",
       "      <td>0</td>\n",
       "      <td>182</td>\n",
       "      <td>1</td>\n",
       "      <td>80.8200</td>\n",
       "    </tr>\n",
       "    <tr>\n",
       "      <th>18282.0000</th>\n",
       "      <td>118</td>\n",
       "      <td>127</td>\n",
       "      <td>2</td>\n",
       "      <td>178.0500</td>\n",
       "    </tr>\n",
       "    <tr>\n",
       "      <th>18283.0000</th>\n",
       "      <td>333</td>\n",
       "      <td>338</td>\n",
       "      <td>16</td>\n",
       "      <td>2094.8800</td>\n",
       "    </tr>\n",
       "    <tr>\n",
       "      <th>18287.0000</th>\n",
       "      <td>158</td>\n",
       "      <td>203</td>\n",
       "      <td>3</td>\n",
       "      <td>1837.2800</td>\n",
       "    </tr>\n",
       "  </tbody>\n",
       "</table>\n",
       "<p>4338 rows × 4 columns</p>\n",
       "</div>"
      ],
      "text/plain": [
       "             recency    T  frequency  monetary\n",
       "Customer ID                                   \n",
       "12346.0000         0  327          1  310.4400\n",
       "12347.0000       365  368          7 4310.0000\n",
       "12348.0000       282  359          4 1770.7800\n",
       "12349.0000         0   20          1 1491.7200\n",
       "12350.0000         0  311          1  331.4600\n",
       "...              ...  ...        ...       ...\n",
       "18280.0000         0  279          1  180.6000\n",
       "18281.0000         0  182          1   80.8200\n",
       "18282.0000       118  127          2  178.0500\n",
       "18283.0000       333  338         16 2094.8800\n",
       "18287.0000       158  203          3 1837.2800\n",
       "\n",
       "[4338 rows x 4 columns]"
      ]
     },
     "execution_count": 13,
     "metadata": {},
     "output_type": "execute_result"
    }
   ],
   "source": [
    "cltv_df.columns = cltv_df.columns.droplevel(0)\n",
    "cltv_df.columns = [\"recency\", \"T\", \"frequency\", \"monetary\"]\n",
    "cltv_df"
   ]
  },
  {
   "cell_type": "code",
   "execution_count": 14,
   "id": "373e658c-d645-40bb-929b-53f47a82e97e",
   "metadata": {
    "pycharm": {
     "name": "#%%\n"
    }
   },
   "outputs": [
    {
     "data": {
      "text/html": [
       "<div>\n",
       "<style scoped>\n",
       "    .dataframe tbody tr th:only-of-type {\n",
       "        vertical-align: middle;\n",
       "    }\n",
       "\n",
       "    .dataframe tbody tr th {\n",
       "        vertical-align: top;\n",
       "    }\n",
       "\n",
       "    .dataframe thead th {\n",
       "        text-align: right;\n",
       "    }\n",
       "</style>\n",
       "<table border=\"1\" class=\"dataframe\">\n",
       "  <thead>\n",
       "    <tr style=\"text-align: right;\">\n",
       "      <th></th>\n",
       "      <th>count</th>\n",
       "      <th>mean</th>\n",
       "      <th>std</th>\n",
       "      <th>min</th>\n",
       "      <th>25%</th>\n",
       "      <th>50%</th>\n",
       "      <th>75%</th>\n",
       "      <th>max</th>\n",
       "    </tr>\n",
       "  </thead>\n",
       "  <tbody>\n",
       "    <tr>\n",
       "      <th>recency</th>\n",
       "      <td>4338.0000</td>\n",
       "      <td>130.4486</td>\n",
       "      <td>132.0396</td>\n",
       "      <td>0.0000</td>\n",
       "      <td>0.0000</td>\n",
       "      <td>92.5000</td>\n",
       "      <td>251.7500</td>\n",
       "      <td>373.0000</td>\n",
       "    </tr>\n",
       "    <tr>\n",
       "      <th>T</th>\n",
       "      <td>4338.0000</td>\n",
       "      <td>224.3082</td>\n",
       "      <td>117.8865</td>\n",
       "      <td>2.0000</td>\n",
       "      <td>114.0000</td>\n",
       "      <td>250.0000</td>\n",
       "      <td>328.0000</td>\n",
       "      <td>375.0000</td>\n",
       "    </tr>\n",
       "    <tr>\n",
       "      <th>frequency</th>\n",
       "      <td>4338.0000</td>\n",
       "      <td>4.2720</td>\n",
       "      <td>7.6980</td>\n",
       "      <td>1.0000</td>\n",
       "      <td>1.0000</td>\n",
       "      <td>2.0000</td>\n",
       "      <td>5.0000</td>\n",
       "      <td>209.0000</td>\n",
       "    </tr>\n",
       "    <tr>\n",
       "      <th>monetary</th>\n",
       "      <td>4338.0000</td>\n",
       "      <td>364.1185</td>\n",
       "      <td>367.2582</td>\n",
       "      <td>3.4500</td>\n",
       "      <td>176.8512</td>\n",
       "      <td>288.2255</td>\n",
       "      <td>422.0294</td>\n",
       "      <td>6207.6700</td>\n",
       "    </tr>\n",
       "  </tbody>\n",
       "</table>\n",
       "</div>"
      ],
      "text/plain": [
       "              count     mean      std    min      25%      50%      75%  \\\n",
       "recency   4338.0000 130.4486 132.0396 0.0000   0.0000  92.5000 251.7500   \n",
       "T         4338.0000 224.3082 117.8865 2.0000 114.0000 250.0000 328.0000   \n",
       "frequency 4338.0000   4.2720   7.6980 1.0000   1.0000   2.0000   5.0000   \n",
       "monetary  4338.0000 364.1185 367.2582 3.4500 176.8512 288.2255 422.0294   \n",
       "\n",
       "                max  \n",
       "recency    373.0000  \n",
       "T          375.0000  \n",
       "frequency  209.0000  \n",
       "monetary  6207.6700  "
      ]
     },
     "execution_count": 14,
     "metadata": {},
     "output_type": "execute_result"
    }
   ],
   "source": [
    "cltv_df[\"monetary\"] = cltv_df[\"monetary\"] / cltv_df[\"frequency\"]\n",
    "cltv_df.describe().T"
   ]
  },
  {
   "cell_type": "code",
   "execution_count": 15,
   "id": "77f0a0ec-aa22-4767-ab9f-205683abeffa",
   "metadata": {
    "pycharm": {
     "name": "#%%\n"
    }
   },
   "outputs": [
    {
     "data": {
      "text/html": [
       "<div>\n",
       "<style scoped>\n",
       "    .dataframe tbody tr th:only-of-type {\n",
       "        vertical-align: middle;\n",
       "    }\n",
       "\n",
       "    .dataframe tbody tr th {\n",
       "        vertical-align: top;\n",
       "    }\n",
       "\n",
       "    .dataframe thead th {\n",
       "        text-align: right;\n",
       "    }\n",
       "</style>\n",
       "<table border=\"1\" class=\"dataframe\">\n",
       "  <thead>\n",
       "    <tr style=\"text-align: right;\">\n",
       "      <th></th>\n",
       "      <th>count</th>\n",
       "      <th>mean</th>\n",
       "      <th>std</th>\n",
       "      <th>min</th>\n",
       "      <th>25%</th>\n",
       "      <th>50%</th>\n",
       "      <th>75%</th>\n",
       "      <th>max</th>\n",
       "    </tr>\n",
       "  </thead>\n",
       "  <tbody>\n",
       "    <tr>\n",
       "      <th>recency</th>\n",
       "      <td>2845.0000</td>\n",
       "      <td>28.4151</td>\n",
       "      <td>16.2667</td>\n",
       "      <td>0.0000</td>\n",
       "      <td>14.0000</td>\n",
       "      <td>29.5714</td>\n",
       "      <td>42.7143</td>\n",
       "      <td>53.2857</td>\n",
       "    </tr>\n",
       "    <tr>\n",
       "      <th>T</th>\n",
       "      <td>2845.0000</td>\n",
       "      <td>37.0389</td>\n",
       "      <td>14.7167</td>\n",
       "      <td>0.5714</td>\n",
       "      <td>27.5714</td>\n",
       "      <td>40.5714</td>\n",
       "      <td>51.2857</td>\n",
       "      <td>53.5714</td>\n",
       "    </tr>\n",
       "    <tr>\n",
       "      <th>frequency</th>\n",
       "      <td>2845.0000</td>\n",
       "      <td>5.9891</td>\n",
       "      <td>9.0442</td>\n",
       "      <td>2.0000</td>\n",
       "      <td>2.0000</td>\n",
       "      <td>4.0000</td>\n",
       "      <td>6.0000</td>\n",
       "      <td>209.0000</td>\n",
       "    </tr>\n",
       "    <tr>\n",
       "      <th>monetary</th>\n",
       "      <td>2845.0000</td>\n",
       "      <td>372.1736</td>\n",
       "      <td>349.3012</td>\n",
       "      <td>3.4500</td>\n",
       "      <td>191.0733</td>\n",
       "      <td>300.4873</td>\n",
       "      <td>436.8700</td>\n",
       "      <td>5724.3026</td>\n",
       "    </tr>\n",
       "  </tbody>\n",
       "</table>\n",
       "</div>"
      ],
      "text/plain": [
       "              count     mean      std    min      25%      50%      75%  \\\n",
       "recency   2845.0000  28.4151  16.2667 0.0000  14.0000  29.5714  42.7143   \n",
       "T         2845.0000  37.0389  14.7167 0.5714  27.5714  40.5714  51.2857   \n",
       "frequency 2845.0000   5.9891   9.0442 2.0000   2.0000   4.0000   6.0000   \n",
       "monetary  2845.0000 372.1736 349.3012 3.4500 191.0733 300.4873 436.8700   \n",
       "\n",
       "                max  \n",
       "recency     53.2857  \n",
       "T           53.5714  \n",
       "frequency  209.0000  \n",
       "monetary  5724.3026  "
      ]
     },
     "execution_count": 15,
     "metadata": {},
     "output_type": "execute_result"
    }
   ],
   "source": [
    "cltv_df = cltv_df.loc[cltv_df[\"frequency\"] > 1]\n",
    "cltv_df[\"recency\"] = cltv_df[\"recency\"] / 7\n",
    "cltv_df[\"T\"] = cltv_df[\"T\"] / 7\n",
    "cltv_df.describe().T"
   ]
  },
  {
   "cell_type": "markdown",
   "id": "1a722bec-2798-4a43-981c-ee9acc533e22",
   "metadata": {
    "pycharm": {
     "name": "#%% md\n"
    }
   },
   "source": [
    "## 2. BG-NBD Modelinin Kurulması "
   ]
  },
  {
   "cell_type": "code",
   "execution_count": 16,
   "id": "7cae176b-ce9b-4c3b-923c-4f4fcc353f90",
   "metadata": {
    "pycharm": {
     "name": "#%%\n"
    }
   },
   "outputs": [
    {
     "data": {
      "text/plain": [
       "<lifetimes.BetaGeoFitter: fitted with 2845 subjects, a: 0.12, alpha: 11.44, b: 2.50, r: 2.18>"
      ]
     },
     "execution_count": 16,
     "metadata": {},
     "output_type": "execute_result"
    }
   ],
   "source": [
    "bgf = BetaGeoFitter(penalizer_coef=0.001)\n",
    "bgf.fit(cltv_df[\"frequency\"],\n",
    "       cltv_df[\"recency\"],\n",
    "       cltv_df[\"T\"])"
   ]
  },
  {
   "cell_type": "markdown",
   "id": "9e2d761a-e04e-4a22-b0b9-9e9f11920540",
   "metadata": {
    "pycharm": {
     "name": "#%% md\n"
    }
   },
   "source": [
    "- 1 hafta içerisinde en çok satın alma beklediğimiz 10 müşteri kimdir?"
   ]
  },
  {
   "cell_type": "code",
   "execution_count": 17,
   "id": "87349700-bfc3-47ce-a052-8fc34bcdb5b3",
   "metadata": {
    "pycharm": {
     "name": "#%%\n"
    }
   },
   "outputs": [
    {
     "data": {
      "text/plain": [
       "Customer ID\n",
       "12748.0000   3.2381\n",
       "14911.0000   3.1250\n",
       "17841.0000   1.9393\n",
       "13089.0000   1.5322\n",
       "14606.0000   1.4632\n",
       "15311.0000   1.4293\n",
       "12971.0000   1.3563\n",
       "14646.0000   1.2025\n",
       "13408.0000   0.9831\n",
       "18102.0000   0.9681\n",
       "dtype: float64"
      ]
     },
     "execution_count": 17,
     "metadata": {},
     "output_type": "execute_result"
    }
   ],
   "source": [
    "bgf.conditional_expected_number_of_purchases_up_to_time(1,\n",
    "                                                      cltv_df[\"frequency\"],\n",
    "                                                      cltv_df[\"recency\"],\n",
    "                                                      cltv_df[\"T\"]).sort_values(ascending=False).head(10)"
   ]
  },
  {
   "cell_type": "code",
   "execution_count": 18,
   "id": "42a9056c-dacd-4480-885e-4a65f4348b91",
   "metadata": {
    "pycharm": {
     "name": "#%%\n"
    }
   },
   "outputs": [
    {
     "data": {
      "text/plain": [
       "Customer ID\n",
       "12748.0000   3.2381\n",
       "14911.0000   3.1250\n",
       "17841.0000   1.9393\n",
       "13089.0000   1.5322\n",
       "14606.0000   1.4632\n",
       "15311.0000   1.4293\n",
       "12971.0000   1.3563\n",
       "14646.0000   1.2025\n",
       "13408.0000   0.9831\n",
       "18102.0000   0.9681\n",
       "dtype: float64"
      ]
     },
     "execution_count": 18,
     "metadata": {},
     "output_type": "execute_result"
    }
   ],
   "source": [
    "bgf.predict(1,\n",
    "           cltv_df[\"frequency\"],\n",
    "           cltv_df[\"recency\"],\n",
    "           cltv_df[\"T\"]).sort_values(ascending=False).head(10)"
   ]
  },
  {
   "cell_type": "code",
   "execution_count": 19,
   "id": "8f6e4e1c-fc56-4849-b5a5-36d72e246676",
   "metadata": {
    "pycharm": {
     "name": "#%%\n"
    }
   },
   "outputs": [
    {
     "data": {
      "text/html": [
       "<div>\n",
       "<style scoped>\n",
       "    .dataframe tbody tr th:only-of-type {\n",
       "        vertical-align: middle;\n",
       "    }\n",
       "\n",
       "    .dataframe tbody tr th {\n",
       "        vertical-align: top;\n",
       "    }\n",
       "\n",
       "    .dataframe thead th {\n",
       "        text-align: right;\n",
       "    }\n",
       "</style>\n",
       "<table border=\"1\" class=\"dataframe\">\n",
       "  <thead>\n",
       "    <tr style=\"text-align: right;\">\n",
       "      <th></th>\n",
       "      <th>recency</th>\n",
       "      <th>T</th>\n",
       "      <th>frequency</th>\n",
       "      <th>monetary</th>\n",
       "      <th>expected_purchase_1_week</th>\n",
       "    </tr>\n",
       "    <tr>\n",
       "      <th>Customer ID</th>\n",
       "      <th></th>\n",
       "      <th></th>\n",
       "      <th></th>\n",
       "      <th></th>\n",
       "      <th></th>\n",
       "    </tr>\n",
       "  </thead>\n",
       "  <tbody>\n",
       "    <tr>\n",
       "      <th>12347.0000</th>\n",
       "      <td>52.1429</td>\n",
       "      <td>52.5714</td>\n",
       "      <td>7</td>\n",
       "      <td>615.7143</td>\n",
       "      <td>0.1412</td>\n",
       "    </tr>\n",
       "    <tr>\n",
       "      <th>12348.0000</th>\n",
       "      <td>40.2857</td>\n",
       "      <td>51.2857</td>\n",
       "      <td>4</td>\n",
       "      <td>442.6950</td>\n",
       "      <td>0.0919</td>\n",
       "    </tr>\n",
       "    <tr>\n",
       "      <th>12352.0000</th>\n",
       "      <td>37.1429</td>\n",
       "      <td>42.5714</td>\n",
       "      <td>8</td>\n",
       "      <td>219.5425</td>\n",
       "      <td>0.1816</td>\n",
       "    </tr>\n",
       "    <tr>\n",
       "      <th>12356.0000</th>\n",
       "      <td>43.1429</td>\n",
       "      <td>46.7143</td>\n",
       "      <td>3</td>\n",
       "      <td>937.1433</td>\n",
       "      <td>0.0859</td>\n",
       "    </tr>\n",
       "    <tr>\n",
       "      <th>12358.0000</th>\n",
       "      <td>21.2857</td>\n",
       "      <td>21.7143</td>\n",
       "      <td>2</td>\n",
       "      <td>575.2100</td>\n",
       "      <td>0.1216</td>\n",
       "    </tr>\n",
       "  </tbody>\n",
       "</table>\n",
       "</div>"
      ],
      "text/plain": [
       "             recency       T  frequency  monetary  expected_purchase_1_week\n",
       "Customer ID                                                                \n",
       "12347.0000   52.1429 52.5714          7  615.7143                    0.1412\n",
       "12348.0000   40.2857 51.2857          4  442.6950                    0.0919\n",
       "12352.0000   37.1429 42.5714          8  219.5425                    0.1816\n",
       "12356.0000   43.1429 46.7143          3  937.1433                    0.0859\n",
       "12358.0000   21.2857 21.7143          2  575.2100                    0.1216"
      ]
     },
     "execution_count": 19,
     "metadata": {},
     "output_type": "execute_result"
    }
   ],
   "source": [
    "cltv_df[\"expected_purchase_1_week\"] = bgf.predict(1,\n",
    "                                                  cltv_df[\"frequency\"],\n",
    "                                                  cltv_df[\"recency\"],\n",
    "                                                  cltv_df[\"T\"])\n",
    "cltv_df.head()"
   ]
  },
  {
   "cell_type": "markdown",
   "id": "7f6d73ed-b77a-441b-bb45-7813676cc89a",
   "metadata": {
    "pycharm": {
     "name": "#%% md\n"
    }
   },
   "source": [
    "- 1 ay içerisinde en çok satın alma beklediğimiz 10 müşteri kimdir?"
   ]
  },
  {
   "cell_type": "code",
   "execution_count": 20,
   "id": "e3f0512a-6c96-4efb-a4af-c87deaed4d39",
   "metadata": {
    "pycharm": {
     "name": "#%%\n"
    }
   },
   "outputs": [
    {
     "data": {
      "text/plain": [
       "Customer ID\n",
       "12748.0000   12.9175\n",
       "14911.0000   12.4661\n",
       "17841.0000    7.7360\n",
       "13089.0000    6.1120\n",
       "14606.0000    5.8370\n",
       "15311.0000    5.7017\n",
       "12971.0000    5.4104\n",
       "14646.0000    4.7964\n",
       "13408.0000    3.9219\n",
       "18102.0000    3.8617\n",
       "dtype: float64"
      ]
     },
     "execution_count": 20,
     "metadata": {},
     "output_type": "execute_result"
    }
   ],
   "source": [
    "bgf.predict(4,\n",
    "           cltv_df[\"frequency\"],\n",
    "           cltv_df[\"recency\"],\n",
    "           cltv_df[\"T\"]).sort_values(ascending=False).head(10)"
   ]
  },
  {
   "cell_type": "code",
   "execution_count": 21,
   "id": "40c94b76-744b-4c75-a18f-aa0e4ae77603",
   "metadata": {
    "pycharm": {
     "name": "#%%\n"
    }
   },
   "outputs": [
    {
     "data": {
      "text/html": [
       "<div>\n",
       "<style scoped>\n",
       "    .dataframe tbody tr th:only-of-type {\n",
       "        vertical-align: middle;\n",
       "    }\n",
       "\n",
       "    .dataframe tbody tr th {\n",
       "        vertical-align: top;\n",
       "    }\n",
       "\n",
       "    .dataframe thead th {\n",
       "        text-align: right;\n",
       "    }\n",
       "</style>\n",
       "<table border=\"1\" class=\"dataframe\">\n",
       "  <thead>\n",
       "    <tr style=\"text-align: right;\">\n",
       "      <th></th>\n",
       "      <th>recency</th>\n",
       "      <th>T</th>\n",
       "      <th>frequency</th>\n",
       "      <th>monetary</th>\n",
       "      <th>expected_purchase_1_week</th>\n",
       "      <th>expected_purchase_1_month</th>\n",
       "    </tr>\n",
       "    <tr>\n",
       "      <th>Customer ID</th>\n",
       "      <th></th>\n",
       "      <th></th>\n",
       "      <th></th>\n",
       "      <th></th>\n",
       "      <th></th>\n",
       "      <th></th>\n",
       "    </tr>\n",
       "  </thead>\n",
       "  <tbody>\n",
       "    <tr>\n",
       "      <th>12347.0000</th>\n",
       "      <td>52.1429</td>\n",
       "      <td>52.5714</td>\n",
       "      <td>7</td>\n",
       "      <td>615.7143</td>\n",
       "      <td>0.1412</td>\n",
       "      <td>0.5633</td>\n",
       "    </tr>\n",
       "    <tr>\n",
       "      <th>12348.0000</th>\n",
       "      <td>40.2857</td>\n",
       "      <td>51.2857</td>\n",
       "      <td>4</td>\n",
       "      <td>442.6950</td>\n",
       "      <td>0.0919</td>\n",
       "      <td>0.3664</td>\n",
       "    </tr>\n",
       "    <tr>\n",
       "      <th>12352.0000</th>\n",
       "      <td>37.1429</td>\n",
       "      <td>42.5714</td>\n",
       "      <td>8</td>\n",
       "      <td>219.5425</td>\n",
       "      <td>0.1816</td>\n",
       "      <td>0.7239</td>\n",
       "    </tr>\n",
       "    <tr>\n",
       "      <th>12356.0000</th>\n",
       "      <td>43.1429</td>\n",
       "      <td>46.7143</td>\n",
       "      <td>3</td>\n",
       "      <td>937.1433</td>\n",
       "      <td>0.0859</td>\n",
       "      <td>0.3424</td>\n",
       "    </tr>\n",
       "    <tr>\n",
       "      <th>12358.0000</th>\n",
       "      <td>21.2857</td>\n",
       "      <td>21.7143</td>\n",
       "      <td>2</td>\n",
       "      <td>575.2100</td>\n",
       "      <td>0.1216</td>\n",
       "      <td>0.4835</td>\n",
       "    </tr>\n",
       "  </tbody>\n",
       "</table>\n",
       "</div>"
      ],
      "text/plain": [
       "             recency       T  frequency  monetary  expected_purchase_1_week  \\\n",
       "Customer ID                                                                   \n",
       "12347.0000   52.1429 52.5714          7  615.7143                    0.1412   \n",
       "12348.0000   40.2857 51.2857          4  442.6950                    0.0919   \n",
       "12352.0000   37.1429 42.5714          8  219.5425                    0.1816   \n",
       "12356.0000   43.1429 46.7143          3  937.1433                    0.0859   \n",
       "12358.0000   21.2857 21.7143          2  575.2100                    0.1216   \n",
       "\n",
       "             expected_purchase_1_month  \n",
       "Customer ID                             \n",
       "12347.0000                      0.5633  \n",
       "12348.0000                      0.3664  \n",
       "12352.0000                      0.7239  \n",
       "12356.0000                      0.3424  \n",
       "12358.0000                      0.4835  "
      ]
     },
     "execution_count": 21,
     "metadata": {},
     "output_type": "execute_result"
    }
   ],
   "source": [
    "cltv_df[\"expected_purchase_1_month\"] = bgf.predict(4,\n",
    "                                                  cltv_df[\"frequency\"],\n",
    "                                                  cltv_df[\"recency\"],\n",
    "                                                  cltv_df[\"T\"])\n",
    "cltv_df.head()"
   ]
  },
  {
   "cell_type": "code",
   "execution_count": 22,
   "id": "7928bc68-e569-40b9-acb3-9bfe88ed45d9",
   "metadata": {
    "pycharm": {
     "name": "#%%\n"
    }
   },
   "outputs": [
    {
     "data": {
      "text/plain": [
       "1770.6226131536384"
      ]
     },
     "execution_count": 22,
     "metadata": {},
     "output_type": "execute_result"
    }
   ],
   "source": [
    "cltv_df[\"expected_purchase_1_month\"].sum()"
   ]
  },
  {
   "cell_type": "markdown",
   "id": "837d252b-6fd4-431e-9a13-5ea04cb28aad",
   "metadata": {
    "pycharm": {
     "name": "#%% md\n"
    }
   },
   "source": [
    "- 3 ay içerisinde beklenen satış sayısı nedir?"
   ]
  },
  {
   "cell_type": "code",
   "execution_count": 23,
   "id": "b263c763-17df-411e-a81e-3457e96b5b4e",
   "metadata": {
    "pycharm": {
     "name": "#%%\n"
    }
   },
   "outputs": [
    {
     "data": {
      "text/html": [
       "<div>\n",
       "<style scoped>\n",
       "    .dataframe tbody tr th:only-of-type {\n",
       "        vertical-align: middle;\n",
       "    }\n",
       "\n",
       "    .dataframe tbody tr th {\n",
       "        vertical-align: top;\n",
       "    }\n",
       "\n",
       "    .dataframe thead th {\n",
       "        text-align: right;\n",
       "    }\n",
       "</style>\n",
       "<table border=\"1\" class=\"dataframe\">\n",
       "  <thead>\n",
       "    <tr style=\"text-align: right;\">\n",
       "      <th></th>\n",
       "      <th>recency</th>\n",
       "      <th>T</th>\n",
       "      <th>frequency</th>\n",
       "      <th>monetary</th>\n",
       "      <th>expected_purchase_1_week</th>\n",
       "      <th>expected_purchase_1_month</th>\n",
       "      <th>expected_purchase_3_month</th>\n",
       "    </tr>\n",
       "    <tr>\n",
       "      <th>Customer ID</th>\n",
       "      <th></th>\n",
       "      <th></th>\n",
       "      <th></th>\n",
       "      <th></th>\n",
       "      <th></th>\n",
       "      <th></th>\n",
       "      <th></th>\n",
       "    </tr>\n",
       "  </thead>\n",
       "  <tbody>\n",
       "    <tr>\n",
       "      <th>12347.0000</th>\n",
       "      <td>52.1429</td>\n",
       "      <td>52.5714</td>\n",
       "      <td>7</td>\n",
       "      <td>615.7143</td>\n",
       "      <td>0.1412</td>\n",
       "      <td>0.5633</td>\n",
       "      <td>1.6775</td>\n",
       "    </tr>\n",
       "    <tr>\n",
       "      <th>12348.0000</th>\n",
       "      <td>40.2857</td>\n",
       "      <td>51.2857</td>\n",
       "      <td>4</td>\n",
       "      <td>442.6950</td>\n",
       "      <td>0.0919</td>\n",
       "      <td>0.3664</td>\n",
       "      <td>1.0910</td>\n",
       "    </tr>\n",
       "    <tr>\n",
       "      <th>12352.0000</th>\n",
       "      <td>37.1429</td>\n",
       "      <td>42.5714</td>\n",
       "      <td>8</td>\n",
       "      <td>219.5425</td>\n",
       "      <td>0.1816</td>\n",
       "      <td>0.7239</td>\n",
       "      <td>2.1535</td>\n",
       "    </tr>\n",
       "    <tr>\n",
       "      <th>12356.0000</th>\n",
       "      <td>43.1429</td>\n",
       "      <td>46.7143</td>\n",
       "      <td>3</td>\n",
       "      <td>937.1433</td>\n",
       "      <td>0.0859</td>\n",
       "      <td>0.3424</td>\n",
       "      <td>1.0186</td>\n",
       "    </tr>\n",
       "    <tr>\n",
       "      <th>12358.0000</th>\n",
       "      <td>21.2857</td>\n",
       "      <td>21.7143</td>\n",
       "      <td>2</td>\n",
       "      <td>575.2100</td>\n",
       "      <td>0.1216</td>\n",
       "      <td>0.4835</td>\n",
       "      <td>1.4305</td>\n",
       "    </tr>\n",
       "  </tbody>\n",
       "</table>\n",
       "</div>"
      ],
      "text/plain": [
       "             recency       T  frequency  monetary  expected_purchase_1_week  \\\n",
       "Customer ID                                                                   \n",
       "12347.0000   52.1429 52.5714          7  615.7143                    0.1412   \n",
       "12348.0000   40.2857 51.2857          4  442.6950                    0.0919   \n",
       "12352.0000   37.1429 42.5714          8  219.5425                    0.1816   \n",
       "12356.0000   43.1429 46.7143          3  937.1433                    0.0859   \n",
       "12358.0000   21.2857 21.7143          2  575.2100                    0.1216   \n",
       "\n",
       "             expected_purchase_1_month  expected_purchase_3_month  \n",
       "Customer ID                                                        \n",
       "12347.0000                      0.5633                     1.6775  \n",
       "12348.0000                      0.3664                     1.0910  \n",
       "12352.0000                      0.7239                     2.1535  \n",
       "12356.0000                      0.3424                     1.0186  \n",
       "12358.0000                      0.4835                     1.4305  "
      ]
     },
     "execution_count": 23,
     "metadata": {},
     "output_type": "execute_result"
    }
   ],
   "source": [
    "cltv_df[\"expected_purchase_3_month\"] = bgf.predict(12,\n",
    "                                                  cltv_df[\"frequency\"],\n",
    "                                                  cltv_df[\"recency\"],\n",
    "                                                  cltv_df[\"T\"])\n",
    "cltv_df.head()"
   ]
  },
  {
   "cell_type": "code",
   "execution_count": 24,
   "id": "2c955400-30a1-42bd-82dd-d248371c0d11",
   "metadata": {
    "pycharm": {
     "name": "#%%\n"
    }
   },
   "outputs": [
    {
     "data": {
      "text/plain": [
       "5252.035277902483"
      ]
     },
     "execution_count": 24,
     "metadata": {},
     "output_type": "execute_result"
    }
   ],
   "source": [
    "cltv_df[\"expected_purchase_3_month\"].sum()"
   ]
  },
  {
   "cell_type": "markdown",
   "id": "0de49cf5-dea5-4065-90f2-a936d86d1bd8",
   "metadata": {
    "pycharm": {
     "name": "#%% md\n"
    }
   },
   "source": [
    "### Tahmin Sonuçlarının Değerlendirilmesi"
   ]
  },
  {
   "cell_type": "code",
   "execution_count": 25,
   "id": "92945306-6215-4b2e-8ef0-fb899061ce88",
   "metadata": {
    "pycharm": {
     "name": "#%%\n"
    }
   },
   "outputs": [
    {
     "data": {
      "image/png": "[encoded data removed]",
      "text/plain": [
       "<Figure size 640x480 with 1 Axes>"
      ]
     },
     "metadata": {},
     "output_type": "display_data"
    }
   ],
   "source": [
    "plot_period_transactions(bgf)\n",
    "plt.show()"
   ]
  },
  {
   "cell_type": "markdown",
   "id": "75b10612-af7e-4359-b9a1-4c7cb098a15b",
   "metadata": {
    "pycharm": {
     "name": "#%% md\n"
    }
   },
   "source": [
    "## 3. Gamma-Gamma Modelin Kurulması"
   ]
  },
  {
   "cell_type": "code",
   "execution_count": 26,
   "id": "8e3ca4e3-3cee-480d-863b-723745a06af5",
   "metadata": {
    "pycharm": {
     "name": "#%%\n"
    }
   },
   "outputs": [],
   "source": [
    "ggf = GammaGammaFitter(penalizer_coef=0.01)"
   ]
  },
  {
   "cell_type": "code",
   "execution_count": 27,
   "id": "906dcf72-fe0d-4e7e-8a75-21c712492939",
   "metadata": {
    "pycharm": {
     "name": "#%%\n"
    }
   },
   "outputs": [
    {
     "data": {
      "text/plain": [
       "<lifetimes.GammaGammaFitter: fitted with 2845 subjects, p: 3.79, q: 0.34, v: 3.73>"
      ]
     },
     "execution_count": 27,
     "metadata": {},
     "output_type": "execute_result"
    }
   ],
   "source": [
    "ggf.fit(cltv_df[\"frequency\"], cltv_df[\"monetary\"])"
   ]
  },
  {
   "cell_type": "code",
   "execution_count": 28,
   "id": "786a42c5-c204-4a93-8a56-ae9288bb898b",
   "metadata": {
    "pycharm": {
     "name": "#%%\n"
    }
   },
   "outputs": [
    {
     "data": {
      "text/plain": [
       "Customer ID\n",
       "12347.0000   631.9123\n",
       "12348.0000   463.7460\n",
       "12352.0000   224.8868\n",
       "12356.0000   995.9989\n",
       "12358.0000   631.9022\n",
       "dtype: float64"
      ]
     },
     "execution_count": 28,
     "metadata": {},
     "output_type": "execute_result"
    }
   ],
   "source": [
    "ggf.conditional_expected_average_profit(cltv_df[\"frequency\"],\n",
    "                                       cltv_df[\"monetary\"]).head()"
   ]
  },
  {
   "cell_type": "code",
   "execution_count": 29,
   "id": "8a8f5b61-5db3-445f-8879-2c94f191d7c6",
   "metadata": {
    "pycharm": {
     "name": "#%%\n"
    }
   },
   "outputs": [
    {
     "data": {
      "text/plain": [
       "Customer ID\n",
       "12415.0000   5772.1782\n",
       "12590.0000   5029.4196\n",
       "12435.0000   4288.9440\n",
       "12409.0000   3918.8128\n",
       "14088.0000   3917.1297\n",
       "dtype: float64"
      ]
     },
     "execution_count": 29,
     "metadata": {},
     "output_type": "execute_result"
    }
   ],
   "source": [
    "ggf.conditional_expected_average_profit(cltv_df[\"frequency\"],\n",
    "                                       cltv_df[\"monetary\"]).sort_values(ascending=False).head()"
   ]
  },
  {
   "cell_type": "code",
   "execution_count": 31,
   "id": "ab0a4682-d455-46d4-92bc-085ca9b8334c",
   "metadata": {
    "pycharm": {
     "name": "#%%\n"
    }
   },
   "outputs": [
    {
     "data": {
      "text/html": [
       "<div>\n",
       "<style scoped>\n",
       "    .dataframe tbody tr th:only-of-type {\n",
       "        vertical-align: middle;\n",
       "    }\n",
       "\n",
       "    .dataframe tbody tr th {\n",
       "        vertical-align: top;\n",
       "    }\n",
       "\n",
       "    .dataframe thead th {\n",
       "        text-align: right;\n",
       "    }\n",
       "</style>\n",
       "<table border=\"1\" class=\"dataframe\">\n",
       "  <thead>\n",
       "    <tr style=\"text-align: right;\">\n",
       "      <th></th>\n",
       "      <th>recency</th>\n",
       "      <th>T</th>\n",
       "      <th>frequency</th>\n",
       "      <th>monetary</th>\n",
       "      <th>expected_purchase_1_week</th>\n",
       "      <th>expected_purchase_1_month</th>\n",
       "      <th>expected_purchase_3_month</th>\n",
       "      <th>expected_average_profit</th>\n",
       "    </tr>\n",
       "    <tr>\n",
       "      <th>Customer ID</th>\n",
       "      <th></th>\n",
       "      <th></th>\n",
       "      <th></th>\n",
       "      <th></th>\n",
       "      <th></th>\n",
       "      <th></th>\n",
       "      <th></th>\n",
       "      <th></th>\n",
       "    </tr>\n",
       "  </thead>\n",
       "  <tbody>\n",
       "    <tr>\n",
       "      <th>12415.0000</th>\n",
       "      <td>44.7143</td>\n",
       "      <td>48.4286</td>\n",
       "      <td>21</td>\n",
       "      <td>5724.3026</td>\n",
       "      <td>0.3780</td>\n",
       "      <td>1.5074</td>\n",
       "      <td>4.4883</td>\n",
       "      <td>5772.1782</td>\n",
       "    </tr>\n",
       "    <tr>\n",
       "      <th>12590.0000</th>\n",
       "      <td>0.0000</td>\n",
       "      <td>30.2857</td>\n",
       "      <td>2</td>\n",
       "      <td>4591.1725</td>\n",
       "      <td>0.0115</td>\n",
       "      <td>0.0458</td>\n",
       "      <td>0.1358</td>\n",
       "      <td>5029.4196</td>\n",
       "    </tr>\n",
       "    <tr>\n",
       "      <th>12435.0000</th>\n",
       "      <td>26.8571</td>\n",
       "      <td>38.4286</td>\n",
       "      <td>2</td>\n",
       "      <td>3914.9450</td>\n",
       "      <td>0.0759</td>\n",
       "      <td>0.3026</td>\n",
       "      <td>0.8990</td>\n",
       "      <td>4288.9440</td>\n",
       "    </tr>\n",
       "    <tr>\n",
       "      <th>12409.0000</th>\n",
       "      <td>14.7143</td>\n",
       "      <td>26.2857</td>\n",
       "      <td>3</td>\n",
       "      <td>3690.8900</td>\n",
       "      <td>0.1164</td>\n",
       "      <td>0.4634</td>\n",
       "      <td>1.3736</td>\n",
       "      <td>3918.8128</td>\n",
       "    </tr>\n",
       "    <tr>\n",
       "      <th>14088.0000</th>\n",
       "      <td>44.5714</td>\n",
       "      <td>46.1429</td>\n",
       "      <td>13</td>\n",
       "      <td>3864.5546</td>\n",
       "      <td>0.2601</td>\n",
       "      <td>1.0373</td>\n",
       "      <td>3.0876</td>\n",
       "      <td>3917.1297</td>\n",
       "    </tr>\n",
       "    <tr>\n",
       "      <th>18102.0000</th>\n",
       "      <td>52.2857</td>\n",
       "      <td>52.5714</td>\n",
       "      <td>60</td>\n",
       "      <td>3859.7391</td>\n",
       "      <td>0.9681</td>\n",
       "      <td>3.8617</td>\n",
       "      <td>11.5046</td>\n",
       "      <td>3870.9969</td>\n",
       "    </tr>\n",
       "    <tr>\n",
       "      <th>12753.0000</th>\n",
       "      <td>48.4286</td>\n",
       "      <td>52.0000</td>\n",
       "      <td>6</td>\n",
       "      <td>3571.5650</td>\n",
       "      <td>0.1257</td>\n",
       "      <td>0.5011</td>\n",
       "      <td>1.4924</td>\n",
       "      <td>3678.5783</td>\n",
       "    </tr>\n",
       "    <tr>\n",
       "      <th>14646.0000</th>\n",
       "      <td>50.4286</td>\n",
       "      <td>50.8571</td>\n",
       "      <td>73</td>\n",
       "      <td>3646.0757</td>\n",
       "      <td>1.2025</td>\n",
       "      <td>4.7964</td>\n",
       "      <td>14.2869</td>\n",
       "      <td>3654.8148</td>\n",
       "    </tr>\n",
       "    <tr>\n",
       "      <th>15749.0000</th>\n",
       "      <td>13.8571</td>\n",
       "      <td>47.5714</td>\n",
       "      <td>3</td>\n",
       "      <td>3028.7800</td>\n",
       "      <td>0.0278</td>\n",
       "      <td>0.1109</td>\n",
       "      <td>0.3300</td>\n",
       "      <td>3216.0523</td>\n",
       "    </tr>\n",
       "    <tr>\n",
       "      <th>14096.0000</th>\n",
       "      <td>13.8571</td>\n",
       "      <td>14.7143</td>\n",
       "      <td>17</td>\n",
       "      <td>3163.5882</td>\n",
       "      <td>0.7230</td>\n",
       "      <td>2.8729</td>\n",
       "      <td>8.4848</td>\n",
       "      <td>3196.4361</td>\n",
       "    </tr>\n",
       "  </tbody>\n",
       "</table>\n",
       "</div>"
      ],
      "text/plain": [
       "             recency       T  frequency  monetary  expected_purchase_1_week  \\\n",
       "Customer ID                                                                   \n",
       "12415.0000   44.7143 48.4286         21 5724.3026                    0.3780   \n",
       "12590.0000    0.0000 30.2857          2 4591.1725                    0.0115   \n",
       "12435.0000   26.8571 38.4286          2 3914.9450                    0.0759   \n",
       "12409.0000   14.7143 26.2857          3 3690.8900                    0.1164   \n",
       "14088.0000   44.5714 46.1429         13 3864.5546                    0.2601   \n",
       "18102.0000   52.2857 52.5714         60 3859.7391                    0.9681   \n",
       "12753.0000   48.4286 52.0000          6 3571.5650                    0.1257   \n",
       "14646.0000   50.4286 50.8571         73 3646.0757                    1.2025   \n",
       "15749.0000   13.8571 47.5714          3 3028.7800                    0.0278   \n",
       "14096.0000   13.8571 14.7143         17 3163.5882                    0.7230   \n",
       "\n",
       "             expected_purchase_1_month  expected_purchase_3_month  \\\n",
       "Customer ID                                                         \n",
       "12415.0000                      1.5074                     4.4883   \n",
       "12590.0000                      0.0458                     0.1358   \n",
       "12435.0000                      0.3026                     0.8990   \n",
       "12409.0000                      0.4634                     1.3736   \n",
       "14088.0000                      1.0373                     3.0876   \n",
       "18102.0000                      3.8617                    11.5046   \n",
       "12753.0000                      0.5011                     1.4924   \n",
       "14646.0000                      4.7964                    14.2869   \n",
       "15749.0000                      0.1109                     0.3300   \n",
       "14096.0000                      2.8729                     8.4848   \n",
       "\n",
       "             expected_average_profit  \n",
       "Customer ID                           \n",
       "12415.0000                 5772.1782  \n",
       "12590.0000                 5029.4196  \n",
       "12435.0000                 4288.9440  \n",
       "12409.0000                 3918.8128  \n",
       "14088.0000                 3917.1297  \n",
       "18102.0000                 3870.9969  \n",
       "12753.0000                 3678.5783  \n",
       "14646.0000                 3654.8148  \n",
       "15749.0000                 3216.0523  \n",
       "14096.0000                 3196.4361  "
      ]
     },
     "execution_count": 31,
     "metadata": {},
     "output_type": "execute_result"
    }
   ],
   "source": [
    "cltv_df[\"expected_average_profit\"] = ggf.conditional_expected_average_profit(cltv_df[\"frequency\"],\n",
    "                                       cltv_df[\"monetary\"])\n",
    "cltv_df.sort_values(\"expected_average_profit\", ascending=False).head(10)"
   ]
  },
  {
   "cell_type": "markdown",
   "id": "665f8b75-2a50-4248-acba-35fb5e28e0e3",
   "metadata": {
    "pycharm": {
     "name": "#%% md\n"
    }
   },
   "source": [
    "## 4. BG-NBD ve GG Modeli ile CLTV'nin Hesaplanması"
   ]
  },
  {
   "cell_type": "code",
   "execution_count": 33,
   "id": "e83cc3c6-b03f-451d-ae95-8114c42f51a5",
   "metadata": {
    "pycharm": {
     "name": "#%%\n"
    }
   },
   "outputs": [],
   "source": [
    "cltv = ggf.customer_lifetime_value(bgf,\n",
    "                                  cltv_df[\"frequency\"],\n",
    "                                  cltv_df[\"recency\"],\n",
    "                                  cltv_df[\"T\"],\n",
    "                                  cltv_df[\"monetary\"],\n",
    "                                  time = 3, # 3 ay\n",
    "                                  freq = \"W\", # T'nin frekans bilgisi haftalık\n",
    "                                  discount_rate=0.01)"
   ]
  },
  {
   "cell_type": "code",
   "execution_count": 35,
   "id": "caa02baf-e745-4613-984a-a48e32825fa2",
   "metadata": {
    "pycharm": {
     "name": "#%%\n"
    }
   },
   "outputs": [
    {
     "data": {
      "text/html": [
       "<div>\n",
       "<style scoped>\n",
       "    .dataframe tbody tr th:only-of-type {\n",
       "        vertical-align: middle;\n",
       "    }\n",
       "\n",
       "    .dataframe tbody tr th {\n",
       "        vertical-align: top;\n",
       "    }\n",
       "\n",
       "    .dataframe thead th {\n",
       "        text-align: right;\n",
       "    }\n",
       "</style>\n",
       "<table border=\"1\" class=\"dataframe\">\n",
       "  <thead>\n",
       "    <tr style=\"text-align: right;\">\n",
       "      <th></th>\n",
       "      <th>Customer ID</th>\n",
       "      <th>clv</th>\n",
       "    </tr>\n",
       "  </thead>\n",
       "  <tbody>\n",
       "    <tr>\n",
       "      <th>0</th>\n",
       "      <td>12347.0000</td>\n",
       "      <td>1127.8555</td>\n",
       "    </tr>\n",
       "    <tr>\n",
       "      <th>1</th>\n",
       "      <td>12348.0000</td>\n",
       "      <td>538.2954</td>\n",
       "    </tr>\n",
       "    <tr>\n",
       "      <th>2</th>\n",
       "      <td>12352.0000</td>\n",
       "      <td>515.2097</td>\n",
       "    </tr>\n",
       "    <tr>\n",
       "      <th>3</th>\n",
       "      <td>12356.0000</td>\n",
       "      <td>1079.3238</td>\n",
       "    </tr>\n",
       "    <tr>\n",
       "      <th>4</th>\n",
       "      <td>12358.0000</td>\n",
       "      <td>961.0880</td>\n",
       "    </tr>\n",
       "  </tbody>\n",
       "</table>\n",
       "</div>"
      ],
      "text/plain": [
       "   Customer ID       clv\n",
       "0   12347.0000 1127.8555\n",
       "1   12348.0000  538.2954\n",
       "2   12352.0000  515.2097\n",
       "3   12356.0000 1079.3238\n",
       "4   12358.0000  961.0880"
      ]
     },
     "execution_count": 35,
     "metadata": {},
     "output_type": "execute_result"
    }
   ],
   "source": [
    "cltv = cltv.reset_index()\n",
    "cltv.head()"
   ]
  },
  {
   "cell_type": "code",
   "execution_count": 37,
   "id": "3790cfd8-f3ae-4185-818b-54458fdd789b",
   "metadata": {
    "pycharm": {
     "name": "#%%\n"
    }
   },
   "outputs": [
    {
     "data": {
      "text/html": [
       "<div>\n",
       "<style scoped>\n",
       "    .dataframe tbody tr th:only-of-type {\n",
       "        vertical-align: middle;\n",
       "    }\n",
       "\n",
       "    .dataframe tbody tr th {\n",
       "        vertical-align: top;\n",
       "    }\n",
       "\n",
       "    .dataframe thead th {\n",
       "        text-align: right;\n",
       "    }\n",
       "</style>\n",
       "<table border=\"1\" class=\"dataframe\">\n",
       "  <thead>\n",
       "    <tr style=\"text-align: right;\">\n",
       "      <th></th>\n",
       "      <th>Customer ID</th>\n",
       "      <th>recency</th>\n",
       "      <th>T</th>\n",
       "      <th>frequency</th>\n",
       "      <th>monetary</th>\n",
       "      <th>expected_purchase_1_week</th>\n",
       "      <th>expected_purchase_1_month</th>\n",
       "      <th>expected_purchase_3_month</th>\n",
       "      <th>expected_average_profit</th>\n",
       "      <th>clv</th>\n",
       "    </tr>\n",
       "  </thead>\n",
       "  <tbody>\n",
       "    <tr>\n",
       "      <th>1122</th>\n",
       "      <td>14646.0000</td>\n",
       "      <td>50.4286</td>\n",
       "      <td>50.8571</td>\n",
       "      <td>73</td>\n",
       "      <td>3646.0757</td>\n",
       "      <td>1.2025</td>\n",
       "      <td>4.7964</td>\n",
       "      <td>14.2869</td>\n",
       "      <td>3654.8148</td>\n",
       "      <td>55557.5685</td>\n",
       "    </tr>\n",
       "    <tr>\n",
       "      <th>2761</th>\n",
       "      <td>18102.0000</td>\n",
       "      <td>52.2857</td>\n",
       "      <td>52.5714</td>\n",
       "      <td>60</td>\n",
       "      <td>3859.7391</td>\n",
       "      <td>0.9681</td>\n",
       "      <td>3.8617</td>\n",
       "      <td>11.5046</td>\n",
       "      <td>3870.9969</td>\n",
       "      <td>47385.0930</td>\n",
       "    </tr>\n",
       "    <tr>\n",
       "      <th>843</th>\n",
       "      <td>14096.0000</td>\n",
       "      <td>13.8571</td>\n",
       "      <td>14.7143</td>\n",
       "      <td>17</td>\n",
       "      <td>3163.5882</td>\n",
       "      <td>0.7230</td>\n",
       "      <td>2.8729</td>\n",
       "      <td>8.4848</td>\n",
       "      <td>3196.4361</td>\n",
       "      <td>28830.9365</td>\n",
       "    </tr>\n",
       "    <tr>\n",
       "      <th>36</th>\n",
       "      <td>12415.0000</td>\n",
       "      <td>44.7143</td>\n",
       "      <td>48.4286</td>\n",
       "      <td>21</td>\n",
       "      <td>5724.3026</td>\n",
       "      <td>0.3780</td>\n",
       "      <td>1.5074</td>\n",
       "      <td>4.4883</td>\n",
       "      <td>5772.1782</td>\n",
       "      <td>27564.0458</td>\n",
       "    </tr>\n",
       "    <tr>\n",
       "      <th>1257</th>\n",
       "      <td>14911.0000</td>\n",
       "      <td>53.1429</td>\n",
       "      <td>53.4286</td>\n",
       "      <td>201</td>\n",
       "      <td>691.7101</td>\n",
       "      <td>3.1250</td>\n",
       "      <td>12.4661</td>\n",
       "      <td>37.1429</td>\n",
       "      <td>692.3264</td>\n",
       "      <td>27361.5003</td>\n",
       "    </tr>\n",
       "    <tr>\n",
       "      <th>2458</th>\n",
       "      <td>17450.0000</td>\n",
       "      <td>51.2857</td>\n",
       "      <td>52.7143</td>\n",
       "      <td>46</td>\n",
       "      <td>2863.2749</td>\n",
       "      <td>0.7448</td>\n",
       "      <td>2.9711</td>\n",
       "      <td>8.8513</td>\n",
       "      <td>2874.1987</td>\n",
       "      <td>27069.0063</td>\n",
       "    </tr>\n",
       "    <tr>\n",
       "      <th>874</th>\n",
       "      <td>14156.0000</td>\n",
       "      <td>51.5714</td>\n",
       "      <td>53.2857</td>\n",
       "      <td>55</td>\n",
       "      <td>2104.0267</td>\n",
       "      <td>0.8741</td>\n",
       "      <td>3.4868</td>\n",
       "      <td>10.3884</td>\n",
       "      <td>2110.7542</td>\n",
       "      <td>23331.2157</td>\n",
       "    </tr>\n",
       "    <tr>\n",
       "      <th>2487</th>\n",
       "      <td>17511.0000</td>\n",
       "      <td>52.8571</td>\n",
       "      <td>53.5714</td>\n",
       "      <td>31</td>\n",
       "      <td>2933.9431</td>\n",
       "      <td>0.5073</td>\n",
       "      <td>2.0236</td>\n",
       "      <td>6.0289</td>\n",
       "      <td>2950.5801</td>\n",
       "      <td>18927.4448</td>\n",
       "    </tr>\n",
       "    <tr>\n",
       "      <th>2075</th>\n",
       "      <td>16684.0000</td>\n",
       "      <td>50.4286</td>\n",
       "      <td>51.2857</td>\n",
       "      <td>28</td>\n",
       "      <td>2209.9691</td>\n",
       "      <td>0.4778</td>\n",
       "      <td>1.9059</td>\n",
       "      <td>5.6768</td>\n",
       "      <td>2223.8850</td>\n",
       "      <td>13432.3751</td>\n",
       "    </tr>\n",
       "    <tr>\n",
       "      <th>650</th>\n",
       "      <td>13694.0000</td>\n",
       "      <td>52.7143</td>\n",
       "      <td>53.5714</td>\n",
       "      <td>50</td>\n",
       "      <td>1275.7005</td>\n",
       "      <td>0.7983</td>\n",
       "      <td>3.1844</td>\n",
       "      <td>9.4876</td>\n",
       "      <td>1280.2183</td>\n",
       "      <td>12923.8832</td>\n",
       "    </tr>\n",
       "  </tbody>\n",
       "</table>\n",
       "</div>"
      ],
      "text/plain": [
       "      Customer ID  recency       T  frequency  monetary  \\\n",
       "1122   14646.0000  50.4286 50.8571         73 3646.0757   \n",
       "2761   18102.0000  52.2857 52.5714         60 3859.7391   \n",
       "843    14096.0000  13.8571 14.7143         17 3163.5882   \n",
       "36     12415.0000  44.7143 48.4286         21 5724.3026   \n",
       "1257   14911.0000  53.1429 53.4286        201  691.7101   \n",
       "2458   17450.0000  51.2857 52.7143         46 2863.2749   \n",
       "874    14156.0000  51.5714 53.2857         55 2104.0267   \n",
       "2487   17511.0000  52.8571 53.5714         31 2933.9431   \n",
       "2075   16684.0000  50.4286 51.2857         28 2209.9691   \n",
       "650    13694.0000  52.7143 53.5714         50 1275.7005   \n",
       "\n",
       "      expected_purchase_1_week  expected_purchase_1_month  \\\n",
       "1122                    1.2025                     4.7964   \n",
       "2761                    0.9681                     3.8617   \n",
       "843                     0.7230                     2.8729   \n",
       "36                      0.3780                     1.5074   \n",
       "1257                    3.1250                    12.4661   \n",
       "2458                    0.7448                     2.9711   \n",
       "874                     0.8741                     3.4868   \n",
       "2487                    0.5073                     2.0236   \n",
       "2075                    0.4778                     1.9059   \n",
       "650                     0.7983                     3.1844   \n",
       "\n",
       "      expected_purchase_3_month  expected_average_profit        clv  \n",
       "1122                    14.2869                3654.8148 55557.5685  \n",
       "2761                    11.5046                3870.9969 47385.0930  \n",
       "843                      8.4848                3196.4361 28830.9365  \n",
       "36                       4.4883                5772.1782 27564.0458  \n",
       "1257                    37.1429                 692.3264 27361.5003  \n",
       "2458                     8.8513                2874.1987 27069.0063  \n",
       "874                     10.3884                2110.7542 23331.2157  \n",
       "2487                     6.0289                2950.5801 18927.4448  \n",
       "2075                     5.6768                2223.8850 13432.3751  \n",
       "650                      9.4876                1280.2183 12923.8832  "
      ]
     },
     "execution_count": 37,
     "metadata": {},
     "output_type": "execute_result"
    }
   ],
   "source": [
    "cltv_final = cltv_df.merge(cltv, on=\"Customer ID\", how=\"left\")\n",
    "cltv_final.sort_values(\"clv\", ascending=False).head(10)\n",
    "# Düzenli olan bir müüşteri recency değeri arttıkça müşterinin satın alma olasılığı artıyordur. "
   ]
  },
  {
   "cell_type": "markdown",
   "id": "d8900bad-f63f-450c-8104-9fa05b506c36",
   "metadata": {
    "pycharm": {
     "name": "#%% md\n"
    }
   },
   "source": [
    "## 5. CLTV'ye Göre Segmentlerin Oluşturulması"
   ]
  },
  {
   "cell_type": "code",
   "execution_count": 40,
   "id": "83d8d8ce-83bf-4b6e-85ab-c44fd36323ff",
   "metadata": {
    "pycharm": {
     "name": "#%%\n"
    }
   },
   "outputs": [
    {
     "data": {
      "text/html": [
       "<div>\n",
       "<style scoped>\n",
       "    .dataframe tbody tr th:only-of-type {\n",
       "        vertical-align: middle;\n",
       "    }\n",
       "\n",
       "    .dataframe tbody tr th {\n",
       "        vertical-align: top;\n",
       "    }\n",
       "\n",
       "    .dataframe thead th {\n",
       "        text-align: right;\n",
       "    }\n",
       "</style>\n",
       "<table border=\"1\" class=\"dataframe\">\n",
       "  <thead>\n",
       "    <tr style=\"text-align: right;\">\n",
       "      <th></th>\n",
       "      <th>Customer ID</th>\n",
       "      <th>recency</th>\n",
       "      <th>T</th>\n",
       "      <th>frequency</th>\n",
       "      <th>monetary</th>\n",
       "      <th>expected_purchase_1_week</th>\n",
       "      <th>expected_purchase_1_month</th>\n",
       "      <th>expected_purchase_3_month</th>\n",
       "      <th>expected_average_profit</th>\n",
       "      <th>clv</th>\n",
       "      <th>segment</th>\n",
       "    </tr>\n",
       "  </thead>\n",
       "  <tbody>\n",
       "    <tr>\n",
       "      <th>138</th>\n",
       "      <td>12604.0000</td>\n",
       "      <td>26.0000</td>\n",
       "      <td>37.5714</td>\n",
       "      <td>2</td>\n",
       "      <td>127.0900</td>\n",
       "      <td>0.0771</td>\n",
       "      <td>0.3072</td>\n",
       "      <td>0.9126</td>\n",
       "      <td>141.2065</td>\n",
       "      <td>137.0677</td>\n",
       "      <td>D</td>\n",
       "    </tr>\n",
       "    <tr>\n",
       "      <th>2341</th>\n",
       "      <td>17227.0000</td>\n",
       "      <td>49.8571</td>\n",
       "      <td>52.8571</td>\n",
       "      <td>6</td>\n",
       "      <td>156.5533</td>\n",
       "      <td>0.1242</td>\n",
       "      <td>0.4955</td>\n",
       "      <td>1.4756</td>\n",
       "      <td>161.8560</td>\n",
       "      <td>254.1173</td>\n",
       "      <td>D</td>\n",
       "    </tr>\n",
       "    <tr>\n",
       "      <th>1676</th>\n",
       "      <td>15822.0000</td>\n",
       "      <td>50.8571</td>\n",
       "      <td>51.4286</td>\n",
       "      <td>2</td>\n",
       "      <td>442.7350</td>\n",
       "      <td>0.0642</td>\n",
       "      <td>0.2560</td>\n",
       "      <td>0.7620</td>\n",
       "      <td>486.8408</td>\n",
       "      <td>394.6987</td>\n",
       "      <td>C</td>\n",
       "    </tr>\n",
       "    <tr>\n",
       "      <th>1285</th>\n",
       "      <td>14984.0000</td>\n",
       "      <td>23.0000</td>\n",
       "      <td>26.0000</td>\n",
       "      <td>2</td>\n",
       "      <td>106.6350</td>\n",
       "      <td>0.1064</td>\n",
       "      <td>0.4234</td>\n",
       "      <td>1.2545</td>\n",
       "      <td>118.8080</td>\n",
       "      <td>158.4931</td>\n",
       "      <td>D</td>\n",
       "    </tr>\n",
       "    <tr>\n",
       "      <th>2799</th>\n",
       "      <td>18180.0000</td>\n",
       "      <td>19.5714</td>\n",
       "      <td>20.5714</td>\n",
       "      <td>6</td>\n",
       "      <td>307.2917</td>\n",
       "      <td>0.2500</td>\n",
       "      <td>0.9944</td>\n",
       "      <td>2.9428</td>\n",
       "      <td>317.0839</td>\n",
       "      <td>992.1372</td>\n",
       "      <td>A</td>\n",
       "    </tr>\n",
       "    <tr>\n",
       "      <th>326</th>\n",
       "      <td>12991.0000</td>\n",
       "      <td>12.7143</td>\n",
       "      <td>16.1429</td>\n",
       "      <td>2</td>\n",
       "      <td>251.8800</td>\n",
       "      <td>0.1428</td>\n",
       "      <td>0.5674</td>\n",
       "      <td>1.6749</td>\n",
       "      <td>277.8527</td>\n",
       "      <td>494.6745</td>\n",
       "      <td>C</td>\n",
       "    </tr>\n",
       "    <tr>\n",
       "      <th>2333</th>\n",
       "      <td>17204.0000</td>\n",
       "      <td>12.5714</td>\n",
       "      <td>37.8571</td>\n",
       "      <td>4</td>\n",
       "      <td>391.1400</td>\n",
       "      <td>0.0437</td>\n",
       "      <td>0.1741</td>\n",
       "      <td>0.5175</td>\n",
       "      <td>409.8529</td>\n",
       "      <td>225.6173</td>\n",
       "      <td>D</td>\n",
       "    </tr>\n",
       "    <tr>\n",
       "      <th>116</th>\n",
       "      <td>12567.0000</td>\n",
       "      <td>49.4286</td>\n",
       "      <td>53.0000</td>\n",
       "      <td>10</td>\n",
       "      <td>937.7720</td>\n",
       "      <td>0.1850</td>\n",
       "      <td>0.7381</td>\n",
       "      <td>2.1984</td>\n",
       "      <td>954.7122</td>\n",
       "      <td>2233.1093</td>\n",
       "      <td>A</td>\n",
       "    </tr>\n",
       "    <tr>\n",
       "      <th>172</th>\n",
       "      <td>12673.0000</td>\n",
       "      <td>45.8571</td>\n",
       "      <td>46.8571</td>\n",
       "      <td>2</td>\n",
       "      <td>305.2600</td>\n",
       "      <td>0.0691</td>\n",
       "      <td>0.2757</td>\n",
       "      <td>0.8201</td>\n",
       "      <td>336.3043</td>\n",
       "      <td>293.4078</td>\n",
       "      <td>C</td>\n",
       "    </tr>\n",
       "    <tr>\n",
       "      <th>1452</th>\n",
       "      <td>15351.0000</td>\n",
       "      <td>51.0000</td>\n",
       "      <td>53.0000</td>\n",
       "      <td>7</td>\n",
       "      <td>280.0157</td>\n",
       "      <td>0.1398</td>\n",
       "      <td>0.5574</td>\n",
       "      <td>1.6602</td>\n",
       "      <td>287.6801</td>\n",
       "      <td>508.1584</td>\n",
       "      <td>B</td>\n",
       "    </tr>\n",
       "  </tbody>\n",
       "</table>\n",
       "</div>"
      ],
      "text/plain": [
       "      Customer ID  recency       T  frequency  monetary  \\\n",
       "138    12604.0000  26.0000 37.5714          2  127.0900   \n",
       "2341   17227.0000  49.8571 52.8571          6  156.5533   \n",
       "1676   15822.0000  50.8571 51.4286          2  442.7350   \n",
       "1285   14984.0000  23.0000 26.0000          2  106.6350   \n",
       "2799   18180.0000  19.5714 20.5714          6  307.2917   \n",
       "326    12991.0000  12.7143 16.1429          2  251.8800   \n",
       "2333   17204.0000  12.5714 37.8571          4  391.1400   \n",
       "116    12567.0000  49.4286 53.0000         10  937.7720   \n",
       "172    12673.0000  45.8571 46.8571          2  305.2600   \n",
       "1452   15351.0000  51.0000 53.0000          7  280.0157   \n",
       "\n",
       "      expected_purchase_1_week  expected_purchase_1_month  \\\n",
       "138                     0.0771                     0.3072   \n",
       "2341                    0.1242                     0.4955   \n",
       "1676                    0.0642                     0.2560   \n",
       "1285                    0.1064                     0.4234   \n",
       "2799                    0.2500                     0.9944   \n",
       "326                     0.1428                     0.5674   \n",
       "2333                    0.0437                     0.1741   \n",
       "116                     0.1850                     0.7381   \n",
       "172                     0.0691                     0.2757   \n",
       "1452                    0.1398                     0.5574   \n",
       "\n",
       "      expected_purchase_3_month  expected_average_profit       clv segment  \n",
       "138                      0.9126                 141.2065  137.0677       D  \n",
       "2341                     1.4756                 161.8560  254.1173       D  \n",
       "1676                     0.7620                 486.8408  394.6987       C  \n",
       "1285                     1.2545                 118.8080  158.4931       D  \n",
       "2799                     2.9428                 317.0839  992.1372       A  \n",
       "326                      1.6749                 277.8527  494.6745       C  \n",
       "2333                     0.5175                 409.8529  225.6173       D  \n",
       "116                      2.1984                 954.7122 2233.1093       A  \n",
       "172                      0.8201                 336.3043  293.4078       C  \n",
       "1452                     1.6602                 287.6801  508.1584       B  "
      ]
     },
     "execution_count": 40,
     "metadata": {},
     "output_type": "execute_result"
    }
   ],
   "source": [
    "cltv_final[\"segment\"] = pd.qcut(cltv_final[\"clv\"], q=4, labels=[\"D\", \"C\", \"B\", \"A\"])\n",
    "cltv_final.sample(10)"
   ]
  },
  {
   "cell_type": "code",
   "execution_count": 41,
   "id": "bec02eea-3306-4805-a2e0-c13a25d7ca0f",
   "metadata": {
    "tags": [],
    "pycharm": {
     "name": "#%%\n"
    }
   },
   "outputs": [
    {
     "data": {
      "text/html": [
       "<div>\n",
       "<style scoped>\n",
       "    .dataframe tbody tr th:only-of-type {\n",
       "        vertical-align: middle;\n",
       "    }\n",
       "\n",
       "    .dataframe tbody tr th {\n",
       "        vertical-align: top;\n",
       "    }\n",
       "\n",
       "    .dataframe thead tr th {\n",
       "        text-align: left;\n",
       "    }\n",
       "\n",
       "    .dataframe thead tr:last-of-type th {\n",
       "        text-align: right;\n",
       "    }\n",
       "</style>\n",
       "<table border=\"1\" class=\"dataframe\">\n",
       "  <thead>\n",
       "    <tr>\n",
       "      <th></th>\n",
       "      <th colspan=\"3\" halign=\"left\">Customer ID</th>\n",
       "      <th colspan=\"3\" halign=\"left\">recency</th>\n",
       "      <th colspan=\"3\" halign=\"left\">T</th>\n",
       "      <th colspan=\"3\" halign=\"left\">frequency</th>\n",
       "      <th colspan=\"3\" halign=\"left\">monetary</th>\n",
       "      <th colspan=\"3\" halign=\"left\">expected_purchase_1_week</th>\n",
       "      <th colspan=\"3\" halign=\"left\">expected_purchase_1_month</th>\n",
       "      <th colspan=\"3\" halign=\"left\">expected_purchase_3_month</th>\n",
       "      <th colspan=\"3\" halign=\"left\">expected_average_profit</th>\n",
       "      <th colspan=\"3\" halign=\"left\">clv</th>\n",
       "    </tr>\n",
       "    <tr>\n",
       "      <th></th>\n",
       "      <th>mean</th>\n",
       "      <th>count</th>\n",
       "      <th>sum</th>\n",
       "      <th>mean</th>\n",
       "      <th>count</th>\n",
       "      <th>sum</th>\n",
       "      <th>mean</th>\n",
       "      <th>count</th>\n",
       "      <th>sum</th>\n",
       "      <th>mean</th>\n",
       "      <th>count</th>\n",
       "      <th>sum</th>\n",
       "      <th>mean</th>\n",
       "      <th>count</th>\n",
       "      <th>sum</th>\n",
       "      <th>mean</th>\n",
       "      <th>count</th>\n",
       "      <th>sum</th>\n",
       "      <th>mean</th>\n",
       "      <th>count</th>\n",
       "      <th>sum</th>\n",
       "      <th>mean</th>\n",
       "      <th>count</th>\n",
       "      <th>sum</th>\n",
       "      <th>mean</th>\n",
       "      <th>count</th>\n",
       "      <th>sum</th>\n",
       "      <th>mean</th>\n",
       "      <th>count</th>\n",
       "      <th>sum</th>\n",
       "    </tr>\n",
       "    <tr>\n",
       "      <th>segment</th>\n",
       "      <th></th>\n",
       "      <th></th>\n",
       "      <th></th>\n",
       "      <th></th>\n",
       "      <th></th>\n",
       "      <th></th>\n",
       "      <th></th>\n",
       "      <th></th>\n",
       "      <th></th>\n",
       "      <th></th>\n",
       "      <th></th>\n",
       "      <th></th>\n",
       "      <th></th>\n",
       "      <th></th>\n",
       "      <th></th>\n",
       "      <th></th>\n",
       "      <th></th>\n",
       "      <th></th>\n",
       "      <th></th>\n",
       "      <th></th>\n",
       "      <th></th>\n",
       "      <th></th>\n",
       "      <th></th>\n",
       "      <th></th>\n",
       "      <th></th>\n",
       "      <th></th>\n",
       "      <th></th>\n",
       "      <th></th>\n",
       "      <th></th>\n",
       "      <th></th>\n",
       "    </tr>\n",
       "  </thead>\n",
       "  <tbody>\n",
       "    <tr>\n",
       "      <th>D</th>\n",
       "      <td>15555.7022</td>\n",
       "      <td>712</td>\n",
       "      <td>11075660.0000</td>\n",
       "      <td>22.0343</td>\n",
       "      <td>712</td>\n",
       "      <td>15688.4286</td>\n",
       "      <td>40.5106</td>\n",
       "      <td>712</td>\n",
       "      <td>28843.5714</td>\n",
       "      <td>3.0646</td>\n",
       "      <td>712</td>\n",
       "      <td>2182</td>\n",
       "      <td>184.1492</td>\n",
       "      <td>712</td>\n",
       "      <td>131114.2023</td>\n",
       "      <td>0.0707</td>\n",
       "      <td>712</td>\n",
       "      <td>50.3179</td>\n",
       "      <td>0.2814</td>\n",
       "      <td>712</td>\n",
       "      <td>200.3875</td>\n",
       "      <td>0.8354</td>\n",
       "      <td>712</td>\n",
       "      <td>594.8006</td>\n",
       "      <td>199.6352</td>\n",
       "      <td>712</td>\n",
       "      <td>142140.2893</td>\n",
       "      <td>142.5686</td>\n",
       "      <td>712</td>\n",
       "      <td>101508.8668</td>\n",
       "    </tr>\n",
       "    <tr>\n",
       "      <th>C</th>\n",
       "      <td>15312.4121</td>\n",
       "      <td>711</td>\n",
       "      <td>10887125.0000</td>\n",
       "      <td>30.7093</td>\n",
       "      <td>711</td>\n",
       "      <td>21834.2857</td>\n",
       "      <td>38.2029</td>\n",
       "      <td>711</td>\n",
       "      <td>27162.2857</td>\n",
       "      <td>4.0956</td>\n",
       "      <td>711</td>\n",
       "      <td>2912</td>\n",
       "      <td>271.5084</td>\n",
       "      <td>711</td>\n",
       "      <td>193042.4947</td>\n",
       "      <td>0.1202</td>\n",
       "      <td>711</td>\n",
       "      <td>85.4817</td>\n",
       "      <td>0.4787</td>\n",
       "      <td>711</td>\n",
       "      <td>340.3902</td>\n",
       "      <td>1.4208</td>\n",
       "      <td>711</td>\n",
       "      <td>1010.1551</td>\n",
       "      <td>289.7878</td>\n",
       "      <td>711</td>\n",
       "      <td>206039.1219</td>\n",
       "      <td>379.4306</td>\n",
       "      <td>711</td>\n",
       "      <td>269775.1385</td>\n",
       "    </tr>\n",
       "    <tr>\n",
       "      <th>B</th>\n",
       "      <td>15353.1617</td>\n",
       "      <td>711</td>\n",
       "      <td>10916098.0000</td>\n",
       "      <td>29.4304</td>\n",
       "      <td>711</td>\n",
       "      <td>20925.0000</td>\n",
       "      <td>34.8348</td>\n",
       "      <td>711</td>\n",
       "      <td>24767.5714</td>\n",
       "      <td>5.4233</td>\n",
       "      <td>711</td>\n",
       "      <td>3856</td>\n",
       "      <td>374.5919</td>\n",
       "      <td>711</td>\n",
       "      <td>266334.8306</td>\n",
       "      <td>0.1617</td>\n",
       "      <td>711</td>\n",
       "      <td>114.9746</td>\n",
       "      <td>0.6435</td>\n",
       "      <td>711</td>\n",
       "      <td>457.5536</td>\n",
       "      <td>1.9074</td>\n",
       "      <td>711</td>\n",
       "      <td>1356.1598</td>\n",
       "      <td>395.1890</td>\n",
       "      <td>711</td>\n",
       "      <td>280979.4031</td>\n",
       "      <td>685.8463</td>\n",
       "      <td>711</td>\n",
       "      <td>487636.7313</td>\n",
       "    </tr>\n",
       "    <tr>\n",
       "      <th>A</th>\n",
       "      <td>14947.0155</td>\n",
       "      <td>711</td>\n",
       "      <td>10627328.0000</td>\n",
       "      <td>31.4953</td>\n",
       "      <td>711</td>\n",
       "      <td>22393.1429</td>\n",
       "      <td>34.6022</td>\n",
       "      <td>711</td>\n",
       "      <td>24602.1429</td>\n",
       "      <td>11.3769</td>\n",
       "      <td>711</td>\n",
       "      <td>8089</td>\n",
       "      <td>658.7092</td>\n",
       "      <td>711</td>\n",
       "      <td>468342.2586</td>\n",
       "      <td>0.2728</td>\n",
       "      <td>711</td>\n",
       "      <td>193.9929</td>\n",
       "      <td>1.0862</td>\n",
       "      <td>711</td>\n",
       "      <td>772.2913</td>\n",
       "      <td>3.2221</td>\n",
       "      <td>711</td>\n",
       "      <td>2290.9198</td>\n",
       "      <td>684.6052</td>\n",
       "      <td>711</td>\n",
       "      <td>486754.2640</td>\n",
       "      <td>2214.3096</td>\n",
       "      <td>711</td>\n",
       "      <td>1574374.1353</td>\n",
       "    </tr>\n",
       "  </tbody>\n",
       "</table>\n",
       "</div>"
      ],
      "text/plain": [
       "        Customer ID                     recency                        T  \\\n",
       "               mean count           sum    mean count        sum    mean   \n",
       "segment                                                                    \n",
       "D        15555.7022   712 11075660.0000 22.0343   712 15688.4286 40.5106   \n",
       "C        15312.4121   711 10887125.0000 30.7093   711 21834.2857 38.2029   \n",
       "B        15353.1617   711 10916098.0000 29.4304   711 20925.0000 34.8348   \n",
       "A        14947.0155   711 10627328.0000 31.4953   711 22393.1429 34.6022   \n",
       "\n",
       "                         frequency             monetary                    \\\n",
       "        count        sum      mean count   sum     mean count         sum   \n",
       "segment                                                                     \n",
       "D         712 28843.5714    3.0646   712  2182 184.1492   712 131114.2023   \n",
       "C         711 27162.2857    4.0956   711  2912 271.5084   711 193042.4947   \n",
       "B         711 24767.5714    5.4233   711  3856 374.5919   711 266334.8306   \n",
       "A         711 24602.1429   11.3769   711  8089 658.7092   711 468342.2586   \n",
       "\n",
       "        expected_purchase_1_week                expected_purchase_1_month  \\\n",
       "                            mean count      sum                      mean   \n",
       "segment                                                                     \n",
       "D                         0.0707   712  50.3179                    0.2814   \n",
       "C                         0.1202   711  85.4817                    0.4787   \n",
       "B                         0.1617   711 114.9746                    0.6435   \n",
       "A                         0.2728   711 193.9929                    1.0862   \n",
       "\n",
       "                       expected_purchase_3_month                  \\\n",
       "        count      sum                      mean count       sum   \n",
       "segment                                                            \n",
       "D         712 200.3875                    0.8354   712  594.8006   \n",
       "C         711 340.3902                    1.4208   711 1010.1551   \n",
       "B         711 457.5536                    1.9074   711 1356.1598   \n",
       "A         711 772.2913                    3.2221   711 2290.9198   \n",
       "\n",
       "        expected_average_profit                         clv                     \n",
       "                           mean count         sum      mean count          sum  \n",
       "segment                                                                         \n",
       "D                      199.6352   712 142140.2893  142.5686   712  101508.8668  \n",
       "C                      289.7878   711 206039.1219  379.4306   711  269775.1385  \n",
       "B                      395.1890   711 280979.4031  685.8463   711  487636.7313  \n",
       "A                      684.6052   711 486754.2640 2214.3096   711 1574374.1353  "
      ]
     },
     "execution_count": 41,
     "metadata": {},
     "output_type": "execute_result"
    }
   ],
   "source": [
    "cltv_final.groupby(\"segment\").agg({\"count\", \"mean\", \"sum\"})"
   ]
  },
  {
   "cell_type": "markdown",
   "id": "76715d3c-7b95-4ff4-9eb3-7d4698ebcf3d",
   "metadata": {
    "pycharm": {
     "name": "#%% md\n"
    }
   },
   "source": [
    "## 6. Çalışmanın Fonksiyonlaştırılması"
   ]
  },
  {
   "cell_type": "code",
   "execution_count": 42,
   "id": "9c048b5b-6f50-45f5-a8c1-4b69ff40227e",
   "metadata": {
    "pycharm": {
     "name": "#%%\n"
    }
   },
   "outputs": [],
   "source": [
    "def create_cltv_p(dataframe, month=3):\n",
    "    # 1. Veri Ön İşleme\n",
    "    dataframe.dropna(inplace=True)\n",
    "    dataframe = dataframe[~dataframe[\"Invoice\"].str.contains(\"C\", na=False)]\n",
    "    dataframe = dataframe[dataframe[\"Quantity\"] > 0]\n",
    "    dataframe = dataframe[dataframe[\"Price\"] > 0]\n",
    "    replace_with_thresholds(dataframe, \"Quantity\")\n",
    "    replace_with_thresholds(dataframe, \"Price\")\n",
    "    dataframe[\"TotalPrice\"] = dataframe[\"Quantity\"] * dataframe[\"Price\"]\n",
    "    today_date = dt.datetime(2011, 12, 11)\n",
    "\n",
    "    cltv_df = dataframe.groupby('Customer ID').agg(\n",
    "        {'InvoiceDate': [lambda InvoiceDate: (InvoiceDate.max() - InvoiceDate.min()).days,\n",
    "                         lambda InvoiceDate: (today_date - InvoiceDate.min()).days],\n",
    "         'Invoice': lambda Invoice: Invoice.nunique(),\n",
    "         'TotalPrice': lambda TotalPrice: TotalPrice.sum()})\n",
    "\n",
    "    cltv_df.columns = cltv_df.columns.droplevel(0)\n",
    "    cltv_df.columns = ['recency', 'T', 'frequency', 'monetary']\n",
    "    cltv_df[\"monetary\"] = cltv_df[\"monetary\"] / cltv_df[\"frequency\"]\n",
    "    cltv_df = cltv_df[(cltv_df['frequency'] > 1)]\n",
    "    cltv_df[\"recency\"] = cltv_df[\"recency\"] / 7\n",
    "    cltv_df[\"T\"] = cltv_df[\"T\"] / 7\n",
    "\n",
    "    # 2. BG-NBD Modelinin Kurulması\n",
    "    bgf = BetaGeoFitter(penalizer_coef=0.001)\n",
    "    bgf.fit(cltv_df['frequency'],\n",
    "            cltv_df['recency'],\n",
    "            cltv_df['T'])\n",
    "\n",
    "    cltv_df[\"expected_purc_1_week\"] = bgf.predict(1,\n",
    "                                                  cltv_df['frequency'],\n",
    "                                                  cltv_df['recency'],\n",
    "                                                  cltv_df['T'])\n",
    "\n",
    "    cltv_df[\"expected_purc_1_month\"] = bgf.predict(4,\n",
    "                                                   cltv_df['frequency'],\n",
    "                                                   cltv_df['recency'],\n",
    "                                                   cltv_df['T'])\n",
    "\n",
    "    cltv_df[\"expected_purc_3_month\"] = bgf.predict(12,\n",
    "                                                   cltv_df['frequency'],\n",
    "                                                   cltv_df['recency'],\n",
    "                                                   cltv_df['T'])\n",
    "\n",
    "    # 3. GAMMA-GAMMA Modelinin Kurulması\n",
    "    ggf = GammaGammaFitter(penalizer_coef=0.01)\n",
    "    ggf.fit(cltv_df['frequency'], cltv_df['monetary'])\n",
    "    cltv_df[\"expected_average_profit\"] = ggf.conditional_expected_average_profit(cltv_df['frequency'],\n",
    "                                                                                 cltv_df['monetary'])\n",
    "\n",
    "    # 4. BG-NBD ve GG modeli ile CLTV'nin hesaplanması.\n",
    "    cltv = ggf.customer_lifetime_value(bgf,\n",
    "                                       cltv_df['frequency'],\n",
    "                                       cltv_df['recency'],\n",
    "                                       cltv_df['T'],\n",
    "                                       cltv_df['monetary'],\n",
    "                                       time=month,  # 3 aylık\n",
    "                                       freq=\"W\",  # T'nin frekans bilgisi.\n",
    "                                       discount_rate=0.01)\n",
    "\n",
    "    cltv = cltv.reset_index()\n",
    "    cltv_final = cltv_df.merge(cltv, on=\"Customer ID\", how=\"left\")\n",
    "    cltv_final[\"segment\"] = pd.qcut(cltv_final[\"clv\"], 4, labels=[\"D\", \"C\", \"B\", \"A\"])\n",
    "\n",
    "    return cltv_final\n",
    "\n",
    "\n",
    "df = df_.copy()\n",
    "\n",
    "cltv_final2 = create_cltv_p(df)\n",
    "\n",
    "cltv_final2.to_csv(\"cltv_prediction.csv\")"
   ]
  },
  {
   "cell_type": "code",
   "execution_count": null,
   "id": "4b0a469a-59b9-47a4-9cae-104ad2c3ffe3",
   "metadata": {
    "pycharm": {
     "name": "#%%\n"
    }
   },
   "outputs": [],
   "source": []
  }
 ],
 "metadata": {
  "kernelspec": {
   "display_name": "Python 3 (ipykernel)",
   "language": "python",
   "name": "python3"
  },
  "language_info": {
   "codemirror_mode": {
    "name": "ipython",
    "version": 3
   },
   "file_extension": ".py",
   "mimetype": "text/x-python",
   "name": "python",
   "nbconvert_exporter": "python",
   "pygments_lexer": "ipython3",
   "version": "3.9.13"
  }
 },
 "nbformat": 4,
 "nbformat_minor": 5
}