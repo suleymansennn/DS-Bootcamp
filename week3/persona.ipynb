{
 "cells": [
  {
   "cell_type": "markdown",
   "id": "2f726dd2-a91a-46a5-a6b0-0749de9ff0d8",
   "metadata": {},
   "source": [
    "# <center>Kural Tabanlı Sınıflandırma ile Potansiyel Müşteri Getirisi Hesaplama<center> \n"
   ]
  },
  {
   "cell_type": "markdown",
   "id": "26ba70fc-2927-4d7a-bbbf-68cec5b0b8ce",
   "metadata": {},
   "source": [
    "## İş Problemi: \n",
    "<hr />\n",
    "- Bir oyun şirketi müşterilerinin bazı özelliklerini kullanarak seviye tabanlı (levelbased) yeni müşteri tanımları(persona) oluşturmak ve bu yeni müşteri tanımlarına göre segmentler oluşturup bu segmentlere göre yeni gelebilecek müşterilerin şirkete ortalama ne kadar kazandırabileceğini tahmin etmek istemektedir.Örneğin: Türkiye’den IOS kullanıcısı olan 25 yaşındaki bir erkek kullanıcının ortalama ne kadar kazandırabileceği belirlenmek isteniyor. <br>\n",
    "<img src=\"images\img2.PNG\" width=\"600\" style=\"float: left\"/> <img src=\"images\img1.PNG\" width=\"600\" style=\"float:right\"/>"
   ]
  },
  {
   "cell_type": "markdown",
   "id": "28145f77-2067-4f75-abe8-2a08cd98e9d8",
   "metadata": {},
   "source": [
    "## Veri Setinin Hikayesi\n",
    "<hr />\n",
    "- Persona.csv veri seti uluslararası bir oyun şirketinin sattığı ürünlerin fiyatlarını ve bu ürünleri satın alan kullanıcıların bazı demografik bilgilerini barındırmaktadır. Veri seti her satış işleminde oluşan kayıtlardan meydana gelmektedir. Bunun anlamı tablo tekilleştirilmemiştir. Diğer bir ifade ile belirli demografik özelliklere sahip bir kullanıcı birden fazla alışveriş yapmış olabilir. \n",
    "<br><br><br><br>\n",
    " <img src=\"images\img4.PNG\" width=\"700\" style=\"float:right;margin:250px 40px\"/> <img src=\"images\img3.PNG\" width=\"400\" style=\"float:left;;margin:0px 50px\"/>"
   ]
  },
  {
   "cell_type": "markdown",
   "id": "fb661162-26ff-48e0-9a6e-33ce50421a75",
   "metadata": {},
   "source": [
    "<h1>Değişkenler<h1>\n",
    "    <hr />\n",
    "    <br><br>\n",
    "<p style=\"text-align:left\"><img src=\"images\img5.PNG\" width=\"450\" style=\"float:right;;margin:0px 0px\"/> <b  style='color:green'>Price</b>: müşterinin harcama tutarı<br><b style='color:green'> Source</b>: müşterinin bağlandığı cihaz türü<br><b style='color:green'>Sex</b>: Müşteri cinsiyeti<br><b style='color:green'>Country</b>: Müşterinin ülkesi<br>\n",
    "    <b style='color:green'>Age</b>: Müşteri Yaş<p>"
   ]
  },
  {
   "cell_type": "markdown",
   "id": "74761817-e05e-45ad-a181-22f32a09666c",
   "metadata": {},
   "source": [
    "<h1>Proje Görevi<h1>\n",
    "    <hr />\n",
    "<img src=\"images\img7.PNG\" width=\"1000\" style=\"vertical-align:middle;;margin:0px 500px\"/>"
   ]
  },
  {
   "cell_type": "markdown",
   "id": "bdbbff27-55d2-4412-bbb6-d7f3a09d08ba",
   "metadata": {},
   "source": [
    "### Proje için gerekli kütüphaneleri aktive edelim"
   ]
  },
  {
   "cell_type": "code",
   "execution_count": 1,
   "id": "29938de7-881a-4378-8ea5-d26c230f1fed",
   "metadata": {},
   "outputs": [],
   "source": [
    "import pandas as pd\n",
    "import numpy as np\n",
    "import matplotlib.pyplot as plt # Görselleştirme için\n",
    "import seaborn as sns # Görselleştirme için\n",
    "from termcolor import colored # Text renklendirme için\n",
    "\n",
    "colors = ['#FFB6B9', '#FAE3D9', '#BBDED6', '#61C0BF', \"#CCA8E9\", \"#F67280\"] # Görseller için renk paleti"
   ]
  },
  {
   "cell_type": "markdown",
   "id": "b5f2374a-b103-465b-8dcb-bc8fad3d0ff5",
   "metadata": {},
   "source": [
    "- Veri setinin genel bilgilerini görmek için bir fonksiyon tanımlayalım"
   ]
  },
  {
   "cell_type": "code",
   "execution_count": 2,
   "id": "a225148e-c876-4d2f-a014-3c7bd492a5f5",
   "metadata": {
    "tags": []
   },
   "outputs": [],
   "source": [
    "def check_df(dataframe, head=5, tail=5):\n",
    "    print(colored(\"*\" * 70, \"green\"))\n",
    "    print(colored(\" Shape \".center(70, \"*\"), \"green\"))\n",
    "    print(colored(\"*\" * 70, \"green\"))\n",
    "    print(dataframe.shape)\n",
    "\n",
    "    print(colored(\"*\" * 70, \"green\"))\n",
    "    print(colored(\" Types \".center(70, \"*\"), \"green\"))\n",
    "    print(colored(\"*\" * 70, \"green\"))\n",
    "    print(dataframe.dtypes)\n",
    "\n",
    "    print(colored(\"*\" * 70, \"green\"))\n",
    "    print(colored(\" Head \".center(70, \"*\"), \"green\"))\n",
    "    print(colored(\"*\" * 70, \"green\"))\n",
    "    print(dataframe.head(head))\n",
    "\n",
    "    print(colored(\"*\" * 70, \"green\"))\n",
    "    print(colored(\" Tail \".center(70, \"*\"), \"green\"))\n",
    "    print(colored(\"*\" * 70, \"green\"))\n",
    "    print(dataframe.tail(tail))\n",
    "\n",
    "    print(colored(\"*\" * 70, \"green\"))\n",
    "    print(colored(\" NA \".center(70, \"*\"), \"green\"))\n",
    "    print(colored(\"*\" * 70, \"green\"))\n",
    "    print(dataframe.isnull().sum())\n",
    "\n",
    "    print(colored(\"*\" * 70, \"green\"))\n",
    "    print(colored(\" Quantiles \".center(70, \"*\"), \"green\"))\n",
    "    print(colored(\"*\" * 70, \"green\"))\n",
    "    print(dataframe.describe([.01, .05, .1, .5, .9, .95, .99]).T)\n",
    "\n",
    "    print(colored(\"*\" * 70, \"green\"))\n",
    "    print(colored(\" Duplicated Rows \".center(70, \"*\"), \"green\"))\n",
    "    print(colored(\"*\" * 70, \"green\"))\n",
    "    print(dataframe.duplicated().sum())\n",
    "\n",
    "    print(colored(\"*\" * 70, \"green\"))\n",
    "    print(colored(\" Unique Values \".center(70, \"*\"), \"green\"))\n",
    "    print(colored(\"*\" * 70, \"green\"))\n",
    "    print(dataframe.nunique())"
   ]
  },
  {
   "cell_type": "markdown",
   "id": "e2add4eb-cff4-4f29-81f7-7079d35742c1",
   "metadata": {},
   "source": [
    "- Projede kullanıcak olan veri setini(Persona.csv) dosyasını yükleyelim."
   ]
  },
  {
   "cell_type": "code",
   "execution_count": 3,
   "id": "19b1d616-17ce-488b-82b3-44676711b0f2",
   "metadata": {},
   "outputs": [
    {
     "name": "stdout",
     "output_type": "stream",
     "text": [
      "\u001b[32m**********************************************************************\u001b[0m\n",
      "\u001b[32m******************************* Shape ********************************\u001b[0m\n",
      "\u001b[32m**********************************************************************\u001b[0m\n",
      "(5000, 5)\n",
      "\u001b[32m**********************************************************************\u001b[0m\n",
      "\u001b[32m******************************* Types ********************************\u001b[0m\n",
      "\u001b[32m**********************************************************************\u001b[0m\n",
      "PRICE       int64\n",
      "SOURCE     object\n",
      "SEX        object\n",
      "COUNTRY    object\n",
      "AGE         int64\n",
      "dtype: object\n",
      "\u001b[32m**********************************************************************\u001b[0m\n",
      "\u001b[32m******************************** Head ********************************\u001b[0m\n",
      "\u001b[32m**********************************************************************\u001b[0m\n",
      "   PRICE   SOURCE   SEX COUNTRY  AGE\n",
      "0     39  android  male     bra   17\n",
      "1     39  android  male     bra   17\n",
      "2     49  android  male     bra   17\n",
      "3     29  android  male     tur   17\n",
      "4     49  android  male     tur   17\n",
      "\u001b[32m**********************************************************************\u001b[0m\n",
      "\u001b[32m******************************** Tail ********************************\u001b[0m\n",
      "\u001b[32m**********************************************************************\u001b[0m\n",
      "      PRICE   SOURCE     SEX COUNTRY  AGE\n",
      "4995     29  android  female     bra   31\n",
      "4996     29  android  female     bra   31\n",
      "4997     29  android  female     bra   31\n",
      "4998     39  android  female     bra   31\n",
      "4999     29  android  female     bra   31\n",
      "\u001b[32m**********************************************************************\u001b[0m\n",
      "\u001b[32m********************************* NA *********************************\u001b[0m\n",
      "\u001b[32m**********************************************************************\u001b[0m\n",
      "PRICE      0\n",
      "SOURCE     0\n",
      "SEX        0\n",
      "COUNTRY    0\n",
      "AGE        0\n",
      "dtype: int64\n",
      "\u001b[32m**********************************************************************\u001b[0m\n",
      "\u001b[32m***************************** Quantiles ******************************\u001b[0m\n",
      "\u001b[32m**********************************************************************\u001b[0m\n",
      "        count     mean        std   min    1%    5%   10%   50%   90%   95%  \\\n",
      "PRICE  5000.0  34.1320  12.464897   9.0   9.0  19.0  19.0  39.0  49.0  49.0   \n",
      "AGE    5000.0  23.5814   8.995908  15.0  15.0  15.0  15.0  21.0  36.0  43.0   \n",
      "\n",
      "        99%   max  \n",
      "PRICE  59.0  59.0  \n",
      "AGE    53.0  66.0  \n",
      "\u001b[32m**********************************************************************\u001b[0m\n",
      "\u001b[32m************************** Duplicated Rows ***************************\u001b[0m\n",
      "\u001b[32m**********************************************************************\u001b[0m\n",
      "3616\n",
      "\u001b[32m**********************************************************************\u001b[0m\n",
      "\u001b[32m*************************** Unique Values ****************************\u001b[0m\n",
      "\u001b[32m**********************************************************************\u001b[0m\n",
      "PRICE       6\n",
      "SOURCE      2\n",
      "SEX         2\n",
      "COUNTRY     6\n",
      "AGE        46\n",
      "dtype: int64\n"
     ]
    }
   ],
   "source": [
    "df = pd.read_csv(\"C:/Users/suley/OneDrive/Masaüstü/bootcamp/python_programlama/week3//persona.csv\")\n",
    "check_df(df)"
   ]
  },
  {
   "cell_type": "markdown",
   "id": "8ed3a48f-a7fc-495a-b7ad-859394e5570f",
   "metadata": {},
   "source": [
    "- İleride yapılan işlemleri kolaylaştırması için tüm değişken isimlerini küçük harflerle değiştirelim. Kategorik ve sayısal değişkenleri ayıralım"
   ]
  },
  {
   "cell_type": "code",
   "execution_count": 4,
   "id": "f1a35750-0357-4536-ac30-7327c809d1fb",
   "metadata": {},
   "outputs": [],
   "source": [
    "df.columns = [col.lower() for col in df.columns]\n",
    "num_cols = [\"age\"]\n",
    "cat_cols = [col for col in df.columns if col not in num_cols]"
   ]
  },
  {
   "cell_type": "code",
   "execution_count": 5,
   "id": "64435bb9-57ce-4e99-8e5c-8934eee45588",
   "metadata": {},
   "outputs": [
    {
     "name": "stdout",
     "output_type": "stream",
     "text": [
      "['price', 'source', 'sex', 'country']\n",
      "['age']\n"
     ]
    }
   ],
   "source": [
    "print(cat_cols)\n",
    "print(num_cols)"
   ]
  },
  {
   "cell_type": "markdown",
   "id": "78198777-8325-43fa-8575-f01087505319",
   "metadata": {},
   "source": [
    "- Yapılacak görselleştirmeler için fonksiyon tanımlayalım."
   ]
  },
  {
   "cell_type": "code",
   "execution_count": 6,
   "id": "bbf5b9c7-39f6-46ca-8aec-990d40916877",
   "metadata": {},
   "outputs": [],
   "source": [
    "def cat_plots(dataframe, cat_col):\n",
    "    plt.figure(figsize=(15, 10))\n",
    "    plt.suptitle(cat_col.capitalize(), size=16)\n",
    "    plt.subplot(1, 2, 1)\n",
    "    plt.title(\"Percentages\")\n",
    "    plt.pie(dataframe[cat_col].value_counts().values.tolist(),\n",
    "            labels=dataframe[cat_col].value_counts().keys().tolist(),\n",
    "            labeldistance=1.1,\n",
    "            wedgeprops={'linewidth': 3, 'edgecolor': 'white'},\n",
    "            colors=colors,\n",
    "            autopct='%1.0f%%')\n",
    "\n",
    "    plt.subplot(1, 2, 2)\n",
    "    plt.title(\"Countplot\")\n",
    "    sns.countplot(data=dataframe, x=cat_col, palette=colors)\n",
    "    plt.tight_layout(pad=3)\n",
    "    plt.show(block=True)"
   ]
  },
  {
   "cell_type": "markdown",
   "id": "a5bb6454-bebb-4b0b-956c-79d72cca520c",
   "metadata": {},
   "source": [
    "- Soru 2: Kaç unique source vardır? Frekansları nedir?"
   ]
  },
  {
   "cell_type": "code",
   "execution_count": 7,
   "id": "0d98a400-d8cf-410e-bc6d-b6789c137903",
   "metadata": {},
   "outputs": [
    {
     "data": {
      "image/png": "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\n",
      "text/plain": [
       "<Figure size 1080x720 with 2 Axes>"
      ]
     },
     "metadata": {
      "needs_background": "light"
     },
     "output_type": "display_data"
    },
    {
     "name": "stdout",
     "output_type": "stream",
     "text": [
      "android    2974\n",
      "ios        2026\n",
      "Name: source, dtype: int64\n"
     ]
    }
   ],
   "source": [
    "cat_plots(df, \"source\")\n",
    "print(df[\"source\"].value_counts())"
   ]
  },
  {
   "cell_type": "markdown",
   "id": "c579e1d4-4fcc-45cd-9319-607ff72b8864",
   "metadata": {},
   "source": [
    "- Soru 3: Kaç unique Price vardır?"
   ]
  },
  {
   "cell_type": "code",
   "execution_count": 8,
   "id": "b22512c2-64ca-4aea-8de6-dcc6dfade239",
   "metadata": {},
   "outputs": [
    {
     "data": {
      "image/png": "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\n",
      "text/plain": [
       "<Figure size 1080x720 with 2 Axes>"
      ]
     },
     "metadata": {
      "needs_background": "light"
     },
     "output_type": "display_data"
    },
    {
     "name": "stdout",
     "output_type": "stream",
     "text": [
      "6\n"
     ]
    }
   ],
   "source": [
    "cat_plots(df, \"price\")\n",
    "print(df[\"price\"].nunique())"
   ]
  },
  {
   "cell_type": "markdown",
   "id": "8f18f624-26b4-4234-8a49-3bf0388e6256",
   "metadata": {},
   "source": [
    "- Soru 4: Hangi Price'dan kaçar tane satış gerçekleşmiş?"
   ]
  },
  {
   "cell_type": "code",
   "execution_count": 9,
   "id": "79824914-8d2b-408e-b6ba-1cccdde1b5c6",
   "metadata": {},
   "outputs": [
    {
     "data": {
      "text/plain": [
       "29    1305\n",
       "39    1260\n",
       "49    1031\n",
       "19     992\n",
       "59     212\n",
       "9      200\n",
       "Name: price, dtype: int64"
      ]
     },
     "execution_count": 9,
     "metadata": {},
     "output_type": "execute_result"
    }
   ],
   "source": [
    "df[\"price\"].value_counts()"
   ]
  },
  {
   "cell_type": "markdown",
   "id": "0468dec4-4645-48aa-933e-3054660c4216",
   "metadata": {},
   "source": [
    "- Soru 5: Hangi ülkeden kaçar tane satış olmuş?"
   ]
  },
  {
   "cell_type": "code",
   "execution_count": 10,
   "id": "4f43e7d7-2735-4b1c-8b8c-32d2c8c6b3b3",
   "metadata": {},
   "outputs": [
    {
     "data": {
      "image/png": "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\n",
      "text/plain": [
       "<Figure size 1080x720 with 2 Axes>"
      ]
     },
     "metadata": {
      "needs_background": "light"
     },
     "output_type": "display_data"
    }
   ],
   "source": [
    "cat_plots(df, \"country\")"
   ]
  },
  {
   "cell_type": "markdown",
   "id": "6e55c3f4-7da9-469c-9c02-c71797bfc302",
   "metadata": {},
   "source": [
    "- Soru 6 Ülkelere göre satışlardan toplam ne kadar kazanılmış?"
   ]
  },
  {
   "cell_type": "code",
   "execution_count": 11,
   "id": "cb56b516-9117-4128-b61a-c7a35bbe7e0f",
   "metadata": {},
   "outputs": [],
   "source": [
    "def cat_summary(dataframe, cat_col, target, plot=True):\n",
    "    \n",
    "        print(pd.DataFrame({cat_col: dataframe[cat_col].value_counts(),\n",
    "                            \"Ratio\": 100 * dataframe[cat_col].value_counts() / len(dataframe),\n",
    "                            \"Target_Median\": dataframe.groupby(cat_col)[target].median(),\n",
    "                            \"Target_Mean\": dataframe.groupby(cat_col)[target].mean(),\n",
    "                           \"Target Sum\": dataframe.groupby(cat_col)[target].sum()}))\n",
    "        print(\"\".center(100, \"#\"))\n",
    "        sns.set(rc={'figure.figsize':(15,10)})\n",
    "        sns.set_style(\"whitegrid\")\n",
    "        sns.countplot(data=dataframe, x=cat_col, hue=target, palette=colors)\n",
    "        plt.title(f\"Count plot of {cat_col.capitalize()}\")\n",
    "        plt.show(block=True)"
   ]
  },
  {
   "cell_type": "code",
   "execution_count": 12,
   "id": "12df9c8a-1ee2-4d56-8cfb-99d4bbbc6358",
   "metadata": {},
   "outputs": [
    {
     "name": "stdout",
     "output_type": "stream",
     "text": [
      "     country  Ratio  Target_Median  Target_Mean  Target Sum\n",
      "bra     1496  29.92           39.0    34.327540       51354\n",
      "can      230   4.60           29.0    33.608696        7730\n",
      "deu      455   9.10           39.0    34.032967       15485\n",
      "fra      303   6.06           29.0    33.587459       10177\n",
      "tur      451   9.02           39.0    34.787140       15689\n",
      "usa     2065  41.30           29.0    34.007264       70225\n",
      "####################################################################################################\n"
     ]
    },
    {
     "data": {
      "image/png": "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\n",
      "text/plain": [
       "<Figure size 1080x720 with 1 Axes>"
      ]
     },
     "metadata": {},
     "output_type": "display_data"
    }
   ],
   "source": [
    "cat_summary(df, \"country\", \"price\")"
   ]
  },
  {
   "cell_type": "markdown",
   "id": "29e122cc-ed7b-46d7-af63-8af9045dcd3f",
   "metadata": {},
   "source": [
    "- Soru 7: Source türlerine göre satış sayıları nedir? <br>\n",
    "- Soru 9: Source türlerine göre price ortalaması nedir?"
   ]
  },
  {
   "cell_type": "code",
   "execution_count": 13,
   "id": "4cc36c60-d2fd-4081-8663-e82136f1eaec",
   "metadata": {},
   "outputs": [
    {
     "name": "stdout",
     "output_type": "stream",
     "text": [
      "         source  Ratio  Target_Median  Target_Mean  Target Sum\n",
      "android    2974  59.48           39.0    34.174849      101636\n",
      "ios        2026  40.52           29.0    34.069102       69024\n",
      "####################################################################################################\n"
     ]
    },
    {
     "data": {
      "image/png": "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\n",
      "text/plain": [
       "<Figure size 1080x720 with 1 Axes>"
      ]
     },
     "metadata": {},
     "output_type": "display_data"
    }
   ],
   "source": [
    "cat_summary(df, \"source\", \"price\")"
   ]
  },
  {
   "cell_type": "markdown",
   "id": "a2e5c9c1-b430-429e-967a-f06e5e2a47dc",
   "metadata": {},
   "source": [
    "- Soru 8: Ülkelere göre Price ortalaması nedir?"
   ]
  },
  {
   "cell_type": "code",
   "execution_count": 14,
   "id": "a2af65c8-5cf7-44db-b2ad-c463df0016a8",
   "metadata": {},
   "outputs": [
    {
     "name": "stdout",
     "output_type": "stream",
     "text": [
      "     country  Ratio  Target_Median  Target_Mean  Target Sum\n",
      "bra     1496  29.92           39.0    34.327540       51354\n",
      "can      230   4.60           29.0    33.608696        7730\n",
      "deu      455   9.10           39.0    34.032967       15485\n",
      "fra      303   6.06           29.0    33.587459       10177\n",
      "tur      451   9.02           39.0    34.787140       15689\n",
      "usa     2065  41.30           29.0    34.007264       70225\n",
      "####################################################################################################\n"
     ]
    },
    {
     "data": {
      "image/png": "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\n",
      "text/plain": [
       "<Figure size 1080x720 with 1 Axes>"
      ]
     },
     "metadata": {},
     "output_type": "display_data"
    }
   ],
   "source": [
    "cat_summary(df, \"country\", \"price\")"
   ]
  },
  {
   "cell_type": "markdown",
   "id": "6377e8fe-a24c-4e0f-8f28-ef2e3bd40110",
   "metadata": {},
   "source": [
    "- Soru 10: Country-Source kırılımnda price ortalamaları nedir?"
   ]
  },
  {
   "cell_type": "code",
   "execution_count": 15,
   "id": "8478fa14-0b93-4fc0-a8ad-2c4527558be9",
   "metadata": {},
   "outputs": [
    {
     "name": "stdout",
     "output_type": "stream",
     "text": [
      "                     price\n",
      "country source            \n",
      "bra     android  34.387029\n",
      "        ios      34.222222\n",
      "can     android  33.330709\n",
      "        ios      33.951456\n",
      "deu     android  33.869888\n",
      "        ios      34.268817\n",
      "fra     android  34.312500\n",
      "        ios      32.776224\n",
      "tur     android  36.229437\n",
      "        ios      33.272727\n",
      "usa     android  33.760357\n",
      "        ios      34.371703\n"
     ]
    },
    {
     "data": {
      "image/png": "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\n",
      "text/plain": [
       "<Figure size 1080x720 with 1 Axes>"
      ]
     },
     "metadata": {},
     "output_type": "display_data"
    }
   ],
   "source": [
    "print(df.groupby([\"country\", \"source\"]).agg({\"price\": \"mean\"}))\n",
    "sns.barplot(data=df, y=\"country\", x=\"price\", hue=\"source\", palette=colors, orient=\"h\")\n",
    "plt.show()"
   ]
  },
  {
   "cell_type": "markdown",
   "id": "14251204-36dc-4ac2-957c-5058c43249af",
   "metadata": {},
   "source": [
    "### Görev 2: Country, Source, Sex, Age kırılımında ortalama kazançlar nedir?"
   ]
  },
  {
   "cell_type": "code",
   "execution_count": 16,
   "id": "0b2737d6-a755-4e70-8d2f-aca537b69c7d",
   "metadata": {},
   "outputs": [
    {
     "data": {
      "text/html": [
       "<div>\n",
       "<style scoped>\n",
       "    .dataframe tbody tr th:only-of-type {\n",
       "        vertical-align: middle;\n",
       "    }\n",
       "\n",
       "    .dataframe tbody tr th {\n",
       "        vertical-align: top;\n",
       "    }\n",
       "\n",
       "    .dataframe thead th {\n",
       "        text-align: right;\n",
       "    }\n",
       "</style>\n",
       "<table border=\"1\" class=\"dataframe\">\n",
       "  <thead>\n",
       "    <tr style=\"text-align: right;\">\n",
       "      <th></th>\n",
       "      <th></th>\n",
       "      <th></th>\n",
       "      <th></th>\n",
       "      <th>price</th>\n",
       "    </tr>\n",
       "    <tr>\n",
       "      <th>country</th>\n",
       "      <th>source</th>\n",
       "      <th>sex</th>\n",
       "      <th>age</th>\n",
       "      <th></th>\n",
       "    </tr>\n",
       "  </thead>\n",
       "  <tbody>\n",
       "    <tr>\n",
       "      <th rowspan=\"5\" valign=\"top\">bra</th>\n",
       "      <th rowspan=\"5\" valign=\"top\">android</th>\n",
       "      <th rowspan=\"5\" valign=\"top\">female</th>\n",
       "      <th>15</th>\n",
       "      <td>38.714286</td>\n",
       "    </tr>\n",
       "    <tr>\n",
       "      <th>16</th>\n",
       "      <td>35.944444</td>\n",
       "    </tr>\n",
       "    <tr>\n",
       "      <th>17</th>\n",
       "      <td>35.666667</td>\n",
       "    </tr>\n",
       "    <tr>\n",
       "      <th>18</th>\n",
       "      <td>32.255814</td>\n",
       "    </tr>\n",
       "    <tr>\n",
       "      <th>19</th>\n",
       "      <td>35.206897</td>\n",
       "    </tr>\n",
       "    <tr>\n",
       "      <th>...</th>\n",
       "      <th>...</th>\n",
       "      <th>...</th>\n",
       "      <th>...</th>\n",
       "      <td>...</td>\n",
       "    </tr>\n",
       "    <tr>\n",
       "      <th rowspan=\"5\" valign=\"top\">usa</th>\n",
       "      <th rowspan=\"5\" valign=\"top\">ios</th>\n",
       "      <th rowspan=\"5\" valign=\"top\">male</th>\n",
       "      <th>42</th>\n",
       "      <td>30.250000</td>\n",
       "    </tr>\n",
       "    <tr>\n",
       "      <th>50</th>\n",
       "      <td>39.000000</td>\n",
       "    </tr>\n",
       "    <tr>\n",
       "      <th>53</th>\n",
       "      <td>34.000000</td>\n",
       "    </tr>\n",
       "    <tr>\n",
       "      <th>55</th>\n",
       "      <td>29.000000</td>\n",
       "    </tr>\n",
       "    <tr>\n",
       "      <th>59</th>\n",
       "      <td>46.500000</td>\n",
       "    </tr>\n",
       "  </tbody>\n",
       "</table>\n",
       "<p>348 rows × 1 columns</p>\n",
       "</div>"
      ],
      "text/plain": [
       "                                price\n",
       "country source  sex    age           \n",
       "bra     android female 15   38.714286\n",
       "                       16   35.944444\n",
       "                       17   35.666667\n",
       "                       18   32.255814\n",
       "                       19   35.206897\n",
       "...                               ...\n",
       "usa     ios     male   42   30.250000\n",
       "                       50   39.000000\n",
       "                       53   34.000000\n",
       "                       55   29.000000\n",
       "                       59   46.500000\n",
       "\n",
       "[348 rows x 1 columns]"
      ]
     },
     "execution_count": 16,
     "metadata": {},
     "output_type": "execute_result"
    }
   ],
   "source": [
    "df.groupby([\"country\", \"source\", \"sex\", \"age\"]).agg({\"price\": \"mean\"})"
   ]
  },
  {
   "cell_type": "markdown",
   "id": "942e3a81-12a9-4f0d-9a69-93a34930da65",
   "metadata": {},
   "source": [
    "### Görev 3: Çıktıyı Price'a göre sıralayınız."
   ]
  },
  {
   "cell_type": "code",
   "execution_count": 17,
   "id": "c7eda26e-ef63-41e7-8af9-3dfe16594a61",
   "metadata": {},
   "outputs": [
    {
     "data": {
      "text/html": [
       "<div>\n",
       "<style scoped>\n",
       "    .dataframe tbody tr th:only-of-type {\n",
       "        vertical-align: middle;\n",
       "    }\n",
       "\n",
       "    .dataframe tbody tr th {\n",
       "        vertical-align: top;\n",
       "    }\n",
       "\n",
       "    .dataframe thead th {\n",
       "        text-align: right;\n",
       "    }\n",
       "</style>\n",
       "<table border=\"1\" class=\"dataframe\">\n",
       "  <thead>\n",
       "    <tr style=\"text-align: right;\">\n",
       "      <th></th>\n",
       "      <th></th>\n",
       "      <th></th>\n",
       "      <th></th>\n",
       "      <th>price</th>\n",
       "    </tr>\n",
       "    <tr>\n",
       "      <th>country</th>\n",
       "      <th>source</th>\n",
       "      <th>sex</th>\n",
       "      <th>age</th>\n",
       "      <th></th>\n",
       "    </tr>\n",
       "  </thead>\n",
       "  <tbody>\n",
       "    <tr>\n",
       "      <th>bra</th>\n",
       "      <th>android</th>\n",
       "      <th>male</th>\n",
       "      <th>46</th>\n",
       "      <td>59.0</td>\n",
       "    </tr>\n",
       "    <tr>\n",
       "      <th>usa</th>\n",
       "      <th>android</th>\n",
       "      <th>male</th>\n",
       "      <th>36</th>\n",
       "      <td>59.0</td>\n",
       "    </tr>\n",
       "    <tr>\n",
       "      <th>fra</th>\n",
       "      <th>android</th>\n",
       "      <th>female</th>\n",
       "      <th>24</th>\n",
       "      <td>59.0</td>\n",
       "    </tr>\n",
       "    <tr>\n",
       "      <th>usa</th>\n",
       "      <th>ios</th>\n",
       "      <th>male</th>\n",
       "      <th>32</th>\n",
       "      <td>54.0</td>\n",
       "    </tr>\n",
       "    <tr>\n",
       "      <th>deu</th>\n",
       "      <th>android</th>\n",
       "      <th>female</th>\n",
       "      <th>36</th>\n",
       "      <td>49.0</td>\n",
       "    </tr>\n",
       "    <tr>\n",
       "      <th>...</th>\n",
       "      <th>...</th>\n",
       "      <th>...</th>\n",
       "      <th>...</th>\n",
       "      <td>...</td>\n",
       "    </tr>\n",
       "    <tr>\n",
       "      <th rowspan=\"2\" valign=\"top\">usa</th>\n",
       "      <th rowspan=\"2\" valign=\"top\">ios</th>\n",
       "      <th rowspan=\"2\" valign=\"top\">female</th>\n",
       "      <th>38</th>\n",
       "      <td>19.0</td>\n",
       "    </tr>\n",
       "    <tr>\n",
       "      <th>30</th>\n",
       "      <td>19.0</td>\n",
       "    </tr>\n",
       "    <tr>\n",
       "      <th>can</th>\n",
       "      <th>android</th>\n",
       "      <th>female</th>\n",
       "      <th>27</th>\n",
       "      <td>19.0</td>\n",
       "    </tr>\n",
       "    <tr>\n",
       "      <th>fra</th>\n",
       "      <th>android</th>\n",
       "      <th>male</th>\n",
       "      <th>18</th>\n",
       "      <td>19.0</td>\n",
       "    </tr>\n",
       "    <tr>\n",
       "      <th>deu</th>\n",
       "      <th>android</th>\n",
       "      <th>male</th>\n",
       "      <th>26</th>\n",
       "      <td>9.0</td>\n",
       "    </tr>\n",
       "  </tbody>\n",
       "</table>\n",
       "<p>348 rows × 1 columns</p>\n",
       "</div>"
      ],
      "text/plain": [
       "                            price\n",
       "country source  sex    age       \n",
       "bra     android male   46    59.0\n",
       "usa     android male   36    59.0\n",
       "fra     android female 24    59.0\n",
       "usa     ios     male   32    54.0\n",
       "deu     android female 36    49.0\n",
       "...                           ...\n",
       "usa     ios     female 38    19.0\n",
       "                       30    19.0\n",
       "can     android female 27    19.0\n",
       "fra     android male   18    19.0\n",
       "deu     android male   26     9.0\n",
       "\n",
       "[348 rows x 1 columns]"
      ]
     },
     "execution_count": 17,
     "metadata": {},
     "output_type": "execute_result"
    }
   ],
   "source": [
    "agg_df = df.groupby([\"country\", \"source\", \"sex\", \"age\"]).agg({\"price\": \"mean\"}).sort_values(\"price\", ascending=False)\n",
    "agg_df"
   ]
  },
  {
   "cell_type": "markdown",
   "id": "800675ea-8907-4904-bc8c-2f177a3fe7be",
   "metadata": {},
   "source": [
    "### Görev 4: Indexte yer alan isimleri değişken ismine çeviriniz."
   ]
  },
  {
   "cell_type": "code",
   "execution_count": 18,
   "id": "51a120e2-5fe6-431e-aaca-fd70770f0839",
   "metadata": {},
   "outputs": [
    {
     "data": {
      "text/html": [
       "<div>\n",
       "<style scoped>\n",
       "    .dataframe tbody tr th:only-of-type {\n",
       "        vertical-align: middle;\n",
       "    }\n",
       "\n",
       "    .dataframe tbody tr th {\n",
       "        vertical-align: top;\n",
       "    }\n",
       "\n",
       "    .dataframe thead th {\n",
       "        text-align: right;\n",
       "    }\n",
       "</style>\n",
       "<table border=\"1\" class=\"dataframe\">\n",
       "  <thead>\n",
       "    <tr style=\"text-align: right;\">\n",
       "      <th></th>\n",
       "      <th>country</th>\n",
       "      <th>source</th>\n",
       "      <th>sex</th>\n",
       "      <th>age</th>\n",
       "      <th>price</th>\n",
       "    </tr>\n",
       "  </thead>\n",
       "  <tbody>\n",
       "    <tr>\n",
       "      <th>0</th>\n",
       "      <td>bra</td>\n",
       "      <td>android</td>\n",
       "      <td>male</td>\n",
       "      <td>46</td>\n",
       "      <td>59.0</td>\n",
       "    </tr>\n",
       "    <tr>\n",
       "      <th>1</th>\n",
       "      <td>usa</td>\n",
       "      <td>android</td>\n",
       "      <td>male</td>\n",
       "      <td>36</td>\n",
       "      <td>59.0</td>\n",
       "    </tr>\n",
       "    <tr>\n",
       "      <th>2</th>\n",
       "      <td>fra</td>\n",
       "      <td>android</td>\n",
       "      <td>female</td>\n",
       "      <td>24</td>\n",
       "      <td>59.0</td>\n",
       "    </tr>\n",
       "    <tr>\n",
       "      <th>3</th>\n",
       "      <td>usa</td>\n",
       "      <td>ios</td>\n",
       "      <td>male</td>\n",
       "      <td>32</td>\n",
       "      <td>54.0</td>\n",
       "    </tr>\n",
       "    <tr>\n",
       "      <th>4</th>\n",
       "      <td>deu</td>\n",
       "      <td>android</td>\n",
       "      <td>female</td>\n",
       "      <td>36</td>\n",
       "      <td>49.0</td>\n",
       "    </tr>\n",
       "    <tr>\n",
       "      <th>...</th>\n",
       "      <td>...</td>\n",
       "      <td>...</td>\n",
       "      <td>...</td>\n",
       "      <td>...</td>\n",
       "      <td>...</td>\n",
       "    </tr>\n",
       "    <tr>\n",
       "      <th>343</th>\n",
       "      <td>usa</td>\n",
       "      <td>ios</td>\n",
       "      <td>female</td>\n",
       "      <td>38</td>\n",
       "      <td>19.0</td>\n",
       "    </tr>\n",
       "    <tr>\n",
       "      <th>344</th>\n",
       "      <td>usa</td>\n",
       "      <td>ios</td>\n",
       "      <td>female</td>\n",
       "      <td>30</td>\n",
       "      <td>19.0</td>\n",
       "    </tr>\n",
       "    <tr>\n",
       "      <th>345</th>\n",
       "      <td>can</td>\n",
       "      <td>android</td>\n",
       "      <td>female</td>\n",
       "      <td>27</td>\n",
       "      <td>19.0</td>\n",
       "    </tr>\n",
       "    <tr>\n",
       "      <th>346</th>\n",
       "      <td>fra</td>\n",
       "      <td>android</td>\n",
       "      <td>male</td>\n",
       "      <td>18</td>\n",
       "      <td>19.0</td>\n",
       "    </tr>\n",
       "    <tr>\n",
       "      <th>347</th>\n",
       "      <td>deu</td>\n",
       "      <td>android</td>\n",
       "      <td>male</td>\n",
       "      <td>26</td>\n",
       "      <td>9.0</td>\n",
       "    </tr>\n",
       "  </tbody>\n",
       "</table>\n",
       "<p>348 rows × 5 columns</p>\n",
       "</div>"
      ],
      "text/plain": [
       "    country   source     sex  age  price\n",
       "0       bra  android    male   46   59.0\n",
       "1       usa  android    male   36   59.0\n",
       "2       fra  android  female   24   59.0\n",
       "3       usa      ios    male   32   54.0\n",
       "4       deu  android  female   36   49.0\n",
       "..      ...      ...     ...  ...    ...\n",
       "343     usa      ios  female   38   19.0\n",
       "344     usa      ios  female   30   19.0\n",
       "345     can  android  female   27   19.0\n",
       "346     fra  android    male   18   19.0\n",
       "347     deu  android    male   26    9.0\n",
       "\n",
       "[348 rows x 5 columns]"
      ]
     },
     "execution_count": 18,
     "metadata": {},
     "output_type": "execute_result"
    }
   ],
   "source": [
    "agg_df.reset_index(inplace=True)\n",
    "agg_df"
   ]
  },
  {
   "cell_type": "markdown",
   "id": "b358c49f-fed6-40c8-840d-9003ceeebf92",
   "metadata": {},
   "source": [
    "### Görev 5: Age değişkenini kategorik değişkene çeviriniz ve agg_df'e ekleyiniz."
   ]
  },
  {
   "cell_type": "code",
   "execution_count": 19,
   "id": "98e5d4d4-d26d-4196-81d0-e6ec9d2bb2b5",
   "metadata": {},
   "outputs": [
    {
     "data": {
      "text/html": [
       "<div>\n",
       "<style scoped>\n",
       "    .dataframe tbody tr th:only-of-type {\n",
       "        vertical-align: middle;\n",
       "    }\n",
       "\n",
       "    .dataframe tbody tr th {\n",
       "        vertical-align: top;\n",
       "    }\n",
       "\n",
       "    .dataframe thead th {\n",
       "        text-align: right;\n",
       "    }\n",
       "</style>\n",
       "<table border=\"1\" class=\"dataframe\">\n",
       "  <thead>\n",
       "    <tr style=\"text-align: right;\">\n",
       "      <th></th>\n",
       "      <th>country</th>\n",
       "      <th>source</th>\n",
       "      <th>sex</th>\n",
       "      <th>age</th>\n",
       "      <th>price</th>\n",
       "      <th>new_age_cat</th>\n",
       "    </tr>\n",
       "  </thead>\n",
       "  <tbody>\n",
       "    <tr>\n",
       "      <th>323</th>\n",
       "      <td>bra</td>\n",
       "      <td>android</td>\n",
       "      <td>female</td>\n",
       "      <td>27</td>\n",
       "      <td>26.142857</td>\n",
       "      <td>24_30</td>\n",
       "    </tr>\n",
       "    <tr>\n",
       "      <th>4</th>\n",
       "      <td>deu</td>\n",
       "      <td>android</td>\n",
       "      <td>female</td>\n",
       "      <td>36</td>\n",
       "      <td>49.000000</td>\n",
       "      <td>31_40</td>\n",
       "    </tr>\n",
       "    <tr>\n",
       "      <th>220</th>\n",
       "      <td>usa</td>\n",
       "      <td>android</td>\n",
       "      <td>female</td>\n",
       "      <td>15</td>\n",
       "      <td>32.666667</td>\n",
       "      <td>0_18</td>\n",
       "    </tr>\n",
       "    <tr>\n",
       "      <th>151</th>\n",
       "      <td>usa</td>\n",
       "      <td>android</td>\n",
       "      <td>male</td>\n",
       "      <td>35</td>\n",
       "      <td>34.714286</td>\n",
       "      <td>31_40</td>\n",
       "    </tr>\n",
       "    <tr>\n",
       "      <th>185</th>\n",
       "      <td>fra</td>\n",
       "      <td>android</td>\n",
       "      <td>female</td>\n",
       "      <td>35</td>\n",
       "      <td>34.000000</td>\n",
       "      <td>31_40</td>\n",
       "    </tr>\n",
       "    <tr>\n",
       "      <th>190</th>\n",
       "      <td>usa</td>\n",
       "      <td>ios</td>\n",
       "      <td>female</td>\n",
       "      <td>15</td>\n",
       "      <td>33.857143</td>\n",
       "      <td>0_18</td>\n",
       "    </tr>\n",
       "    <tr>\n",
       "      <th>178</th>\n",
       "      <td>deu</td>\n",
       "      <td>ios</td>\n",
       "      <td>female</td>\n",
       "      <td>22</td>\n",
       "      <td>34.000000</td>\n",
       "      <td>19_23</td>\n",
       "    </tr>\n",
       "    <tr>\n",
       "      <th>7</th>\n",
       "      <td>usa</td>\n",
       "      <td>android</td>\n",
       "      <td>female</td>\n",
       "      <td>47</td>\n",
       "      <td>49.000000</td>\n",
       "      <td>41_70</td>\n",
       "    </tr>\n",
       "    <tr>\n",
       "      <th>177</th>\n",
       "      <td>tur</td>\n",
       "      <td>ios</td>\n",
       "      <td>female</td>\n",
       "      <td>26</td>\n",
       "      <td>34.000000</td>\n",
       "      <td>24_30</td>\n",
       "    </tr>\n",
       "    <tr>\n",
       "      <th>69</th>\n",
       "      <td>can</td>\n",
       "      <td>ios</td>\n",
       "      <td>male</td>\n",
       "      <td>17</td>\n",
       "      <td>37.666667</td>\n",
       "      <td>0_18</td>\n",
       "    </tr>\n",
       "  </tbody>\n",
       "</table>\n",
       "</div>"
      ],
      "text/plain": [
       "    country   source     sex  age      price new_age_cat\n",
       "323     bra  android  female   27  26.142857       24_30\n",
       "4       deu  android  female   36  49.000000       31_40\n",
       "220     usa  android  female   15  32.666667        0_18\n",
       "151     usa  android    male   35  34.714286       31_40\n",
       "185     fra  android  female   35  34.000000       31_40\n",
       "190     usa      ios  female   15  33.857143        0_18\n",
       "178     deu      ios  female   22  34.000000       19_23\n",
       "7       usa  android  female   47  49.000000       41_70\n",
       "177     tur      ios  female   26  34.000000       24_30\n",
       "69      can      ios    male   17  37.666667        0_18"
      ]
     },
     "execution_count": 19,
     "metadata": {},
     "output_type": "execute_result"
    }
   ],
   "source": [
    "agg_df[\"new_age_cat\"] = pd.cut(agg_df[\"age\"], bins=[0, 18, 23, 30, 40, 70], labels=[\"0_18\", \"19_23\", \"24_30\", \"31_40\", \"41_70\"])\n",
    "agg_df.sample(10)"
   ]
  },
  {
   "cell_type": "markdown",
   "id": "0a62cc0f-33fc-4370-bb3c-61e7f30c3243",
   "metadata": {},
   "source": [
    "### Görev 6: Yeni seviye tabanlı müşterileri tnaımlayınız."
   ]
  },
  {
   "cell_type": "code",
   "execution_count": 20,
   "id": "40f38a44-99f5-4661-8776-724c4d39b59f",
   "metadata": {},
   "outputs": [
    {
     "data": {
      "text/plain": [
       "array([['bra', 'android', 'male', 46, 59.0, '41_70'],\n",
       "       ['usa', 'android', 'male', 36, 59.0, '31_40'],\n",
       "       ['fra', 'android', 'female', 24, 59.0, '24_30'],\n",
       "       ...,\n",
       "       ['can', 'android', 'female', 27, 19.0, '24_30'],\n",
       "       ['fra', 'android', 'male', 18, 19.0, '0_18'],\n",
       "       ['deu', 'android', 'male', 26, 9.0, '24_30']], dtype=object)"
      ]
     },
     "execution_count": 20,
     "metadata": {},
     "output_type": "execute_result"
    }
   ],
   "source": [
    "agg_df.values"
   ]
  },
  {
   "cell_type": "code",
   "execution_count": 21,
   "id": "c933abd5-1497-447e-a55e-6f2d752b5630",
   "metadata": {},
   "outputs": [
    {
     "data": {
      "text/html": [
       "<div>\n",
       "<style scoped>\n",
       "    .dataframe tbody tr th:only-of-type {\n",
       "        vertical-align: middle;\n",
       "    }\n",
       "\n",
       "    .dataframe tbody tr th {\n",
       "        vertical-align: top;\n",
       "    }\n",
       "\n",
       "    .dataframe thead th {\n",
       "        text-align: right;\n",
       "    }\n",
       "</style>\n",
       "<table border=\"1\" class=\"dataframe\">\n",
       "  <thead>\n",
       "    <tr style=\"text-align: right;\">\n",
       "      <th></th>\n",
       "      <th>country</th>\n",
       "      <th>source</th>\n",
       "      <th>sex</th>\n",
       "      <th>age</th>\n",
       "      <th>price</th>\n",
       "      <th>new_age_cat</th>\n",
       "      <th>customers_level_based</th>\n",
       "    </tr>\n",
       "  </thead>\n",
       "  <tbody>\n",
       "    <tr>\n",
       "      <th>38</th>\n",
       "      <td>bra</td>\n",
       "      <td>android</td>\n",
       "      <td>male</td>\n",
       "      <td>24</td>\n",
       "      <td>40.428571</td>\n",
       "      <td>24_30</td>\n",
       "      <td>BRA_ANDROID_MALE_24_30</td>\n",
       "    </tr>\n",
       "    <tr>\n",
       "      <th>325</th>\n",
       "      <td>can</td>\n",
       "      <td>android</td>\n",
       "      <td>female</td>\n",
       "      <td>15</td>\n",
       "      <td>25.666667</td>\n",
       "      <td>0_18</td>\n",
       "      <td>CAN_ANDROID_FEMALE_0_18</td>\n",
       "    </tr>\n",
       "    <tr>\n",
       "      <th>58</th>\n",
       "      <td>bra</td>\n",
       "      <td>ios</td>\n",
       "      <td>female</td>\n",
       "      <td>42</td>\n",
       "      <td>39.000000</td>\n",
       "      <td>41_70</td>\n",
       "      <td>BRA_IOS_FEMALE_41_70</td>\n",
       "    </tr>\n",
       "    <tr>\n",
       "      <th>134</th>\n",
       "      <td>usa</td>\n",
       "      <td>ios</td>\n",
       "      <td>female</td>\n",
       "      <td>20</td>\n",
       "      <td>35.000000</td>\n",
       "      <td>19_23</td>\n",
       "      <td>USA_IOS_FEMALE_19_23</td>\n",
       "    </tr>\n",
       "    <tr>\n",
       "      <th>321</th>\n",
       "      <td>fra</td>\n",
       "      <td>android</td>\n",
       "      <td>female</td>\n",
       "      <td>19</td>\n",
       "      <td>27.333333</td>\n",
       "      <td>19_23</td>\n",
       "      <td>FRA_ANDROID_FEMALE_19_23</td>\n",
       "    </tr>\n",
       "    <tr>\n",
       "      <th>274</th>\n",
       "      <td>bra</td>\n",
       "      <td>ios</td>\n",
       "      <td>female</td>\n",
       "      <td>29</td>\n",
       "      <td>30.428571</td>\n",
       "      <td>24_30</td>\n",
       "      <td>BRA_IOS_FEMALE_24_30</td>\n",
       "    </tr>\n",
       "    <tr>\n",
       "      <th>98</th>\n",
       "      <td>usa</td>\n",
       "      <td>android</td>\n",
       "      <td>male</td>\n",
       "      <td>30</td>\n",
       "      <td>36.142857</td>\n",
       "      <td>24_30</td>\n",
       "      <td>USA_ANDROID_MALE_24_30</td>\n",
       "    </tr>\n",
       "    <tr>\n",
       "      <th>250</th>\n",
       "      <td>usa</td>\n",
       "      <td>ios</td>\n",
       "      <td>male</td>\n",
       "      <td>37</td>\n",
       "      <td>31.727273</td>\n",
       "      <td>31_40</td>\n",
       "      <td>USA_IOS_MALE_31_40</td>\n",
       "    </tr>\n",
       "    <tr>\n",
       "      <th>301</th>\n",
       "      <td>deu</td>\n",
       "      <td>android</td>\n",
       "      <td>female</td>\n",
       "      <td>33</td>\n",
       "      <td>29.000000</td>\n",
       "      <td>31_40</td>\n",
       "      <td>DEU_ANDROID_FEMALE_31_40</td>\n",
       "    </tr>\n",
       "    <tr>\n",
       "      <th>15</th>\n",
       "      <td>tur</td>\n",
       "      <td>ios</td>\n",
       "      <td>female</td>\n",
       "      <td>18</td>\n",
       "      <td>44.000000</td>\n",
       "      <td>0_18</td>\n",
       "      <td>TUR_IOS_FEMALE_0_18</td>\n",
       "    </tr>\n",
       "  </tbody>\n",
       "</table>\n",
       "</div>"
      ],
      "text/plain": [
       "    country   source     sex  age      price new_age_cat  \\\n",
       "38      bra  android    male   24  40.428571       24_30   \n",
       "325     can  android  female   15  25.666667        0_18   \n",
       "58      bra      ios  female   42  39.000000       41_70   \n",
       "134     usa      ios  female   20  35.000000       19_23   \n",
       "321     fra  android  female   19  27.333333       19_23   \n",
       "274     bra      ios  female   29  30.428571       24_30   \n",
       "98      usa  android    male   30  36.142857       24_30   \n",
       "250     usa      ios    male   37  31.727273       31_40   \n",
       "301     deu  android  female   33  29.000000       31_40   \n",
       "15      tur      ios  female   18  44.000000        0_18   \n",
       "\n",
       "        customers_level_based  \n",
       "38     BRA_ANDROID_MALE_24_30  \n",
       "325   CAN_ANDROID_FEMALE_0_18  \n",
       "58       BRA_IOS_FEMALE_41_70  \n",
       "134      USA_IOS_FEMALE_19_23  \n",
       "321  FRA_ANDROID_FEMALE_19_23  \n",
       "274      BRA_IOS_FEMALE_24_30  \n",
       "98     USA_ANDROID_MALE_24_30  \n",
       "250        USA_IOS_MALE_31_40  \n",
       "301  DEU_ANDROID_FEMALE_31_40  \n",
       "15        TUR_IOS_FEMALE_0_18  "
      ]
     },
     "execution_count": 21,
     "metadata": {},
     "output_type": "execute_result"
    }
   ],
   "source": [
    "agg_df[\"customers_level_based\"] = [row[0].upper() + \"_\" + row[1].upper() + \"_\" + row[2].upper() + \"_\" + row[5].upper() for row in agg_df.values]\n",
    "agg_df.sample(10)\n",
    "# Dikkat! List comprehension ile customers_level_based değerleri oluşturulduktan sonra bu değerlerin tekilleştirilmesi gerekmektedir.\n",
    "# Örneğin birden fazla şu ifadeden olabilir: USA_ANDROID_MALE_0_18. Bunları groupby'a alıp price ortalamalarını almak gerekmektedir"
   ]
  },
  {
   "cell_type": "code",
   "execution_count": 22,
   "id": "96adc1de-3be3-45b6-8367-64e1ef81b7f4",
   "metadata": {},
   "outputs": [
    {
     "data": {
      "text/html": [
       "<div>\n",
       "<style scoped>\n",
       "    .dataframe tbody tr th:only-of-type {\n",
       "        vertical-align: middle;\n",
       "    }\n",
       "\n",
       "    .dataframe tbody tr th {\n",
       "        vertical-align: top;\n",
       "    }\n",
       "\n",
       "    .dataframe thead th {\n",
       "        text-align: right;\n",
       "    }\n",
       "</style>\n",
       "<table border=\"1\" class=\"dataframe\">\n",
       "  <thead>\n",
       "    <tr style=\"text-align: right;\">\n",
       "      <th></th>\n",
       "      <th>customers_level_based</th>\n",
       "      <th>price</th>\n",
       "    </tr>\n",
       "  </thead>\n",
       "  <tbody>\n",
       "    <tr>\n",
       "      <th>16</th>\n",
       "      <td>DEU_ANDROID_MALE_0_18</td>\n",
       "      <td>37.248792</td>\n",
       "    </tr>\n",
       "    <tr>\n",
       "      <th>3</th>\n",
       "      <td>TUR_ANDROID_FEMALE_31_40</td>\n",
       "      <td>41.833333</td>\n",
       "    </tr>\n",
       "    <tr>\n",
       "      <th>49</th>\n",
       "      <td>USA_ANDROID_MALE_19_23</td>\n",
       "      <td>34.270652</td>\n",
       "    </tr>\n",
       "    <tr>\n",
       "      <th>31</th>\n",
       "      <td>USA_IOS_MALE_41_70</td>\n",
       "      <td>35.750000</td>\n",
       "    </tr>\n",
       "    <tr>\n",
       "      <th>24</th>\n",
       "      <td>DEU_ANDROID_FEMALE_41_70</td>\n",
       "      <td>36.083333</td>\n",
       "    </tr>\n",
       "    <tr>\n",
       "      <th>38</th>\n",
       "      <td>CAN_ANDROID_MALE_24_30</td>\n",
       "      <td>35.009615</td>\n",
       "    </tr>\n",
       "    <tr>\n",
       "      <th>8</th>\n",
       "      <td>TUR_ANDROID_MALE_24_30</td>\n",
       "      <td>39.439103</td>\n",
       "    </tr>\n",
       "    <tr>\n",
       "      <th>75</th>\n",
       "      <td>DEU_IOS_MALE_24_30</td>\n",
       "      <td>33.000000</td>\n",
       "    </tr>\n",
       "    <tr>\n",
       "      <th>66</th>\n",
       "      <td>USA_ANDROID_FEMALE_0_18</td>\n",
       "      <td>33.649390</td>\n",
       "    </tr>\n",
       "    <tr>\n",
       "      <th>67</th>\n",
       "      <td>USA_ANDROID_FEMALE_19_23</td>\n",
       "      <td>33.627634</td>\n",
       "    </tr>\n",
       "  </tbody>\n",
       "</table>\n",
       "</div>"
      ],
      "text/plain": [
       "       customers_level_based      price\n",
       "16     DEU_ANDROID_MALE_0_18  37.248792\n",
       "3   TUR_ANDROID_FEMALE_31_40  41.833333\n",
       "49    USA_ANDROID_MALE_19_23  34.270652\n",
       "31        USA_IOS_MALE_41_70  35.750000\n",
       "24  DEU_ANDROID_FEMALE_41_70  36.083333\n",
       "38    CAN_ANDROID_MALE_24_30  35.009615\n",
       "8     TUR_ANDROID_MALE_24_30  39.439103\n",
       "75        DEU_IOS_MALE_24_30  33.000000\n",
       "66   USA_ANDROID_FEMALE_0_18  33.649390\n",
       "67  USA_ANDROID_FEMALE_19_23  33.627634"
      ]
     },
     "execution_count": 22,
     "metadata": {},
     "output_type": "execute_result"
    }
   ],
   "source": [
    "agg_df = agg_df.groupby(\"customers_level_based\").agg({\"price\": \"mean\"}).sort_values(\"price\", ascending=False).reset_index()\n",
    "agg_df.sample(10)"
   ]
  },
  {
   "cell_type": "markdown",
   "id": "a39faa74-9835-4b78-9378-a8f5c6d65821",
   "metadata": {},
   "source": [
    "### Görev 7: Yeni müşterileri segmentlere ayırınız."
   ]
  },
  {
   "cell_type": "code",
   "execution_count": 23,
   "id": "6a945f60-99f0-4908-abf4-4cfd8573c130",
   "metadata": {},
   "outputs": [
    {
     "data": {
      "text/html": [
       "<div>\n",
       "<style scoped>\n",
       "    .dataframe tbody tr th:only-of-type {\n",
       "        vertical-align: middle;\n",
       "    }\n",
       "\n",
       "    .dataframe tbody tr th {\n",
       "        vertical-align: top;\n",
       "    }\n",
       "\n",
       "    .dataframe thead th {\n",
       "        text-align: right;\n",
       "    }\n",
       "</style>\n",
       "<table border=\"1\" class=\"dataframe\">\n",
       "  <thead>\n",
       "    <tr style=\"text-align: right;\">\n",
       "      <th></th>\n",
       "      <th>customers_level_based</th>\n",
       "      <th>price</th>\n",
       "      <th>segment</th>\n",
       "    </tr>\n",
       "  </thead>\n",
       "  <tbody>\n",
       "    <tr>\n",
       "      <th>0</th>\n",
       "      <td>FRA_ANDROID_FEMALE_24_30</td>\n",
       "      <td>45.428571</td>\n",
       "      <td>A</td>\n",
       "    </tr>\n",
       "    <tr>\n",
       "      <th>1</th>\n",
       "      <td>TUR_IOS_MALE_24_30</td>\n",
       "      <td>45.000000</td>\n",
       "      <td>A</td>\n",
       "    </tr>\n",
       "    <tr>\n",
       "      <th>2</th>\n",
       "      <td>TUR_IOS_MALE_31_40</td>\n",
       "      <td>42.333333</td>\n",
       "      <td>A</td>\n",
       "    </tr>\n",
       "    <tr>\n",
       "      <th>3</th>\n",
       "      <td>TUR_ANDROID_FEMALE_31_40</td>\n",
       "      <td>41.833333</td>\n",
       "      <td>A</td>\n",
       "    </tr>\n",
       "    <tr>\n",
       "      <th>4</th>\n",
       "      <td>CAN_ANDROID_MALE_19_23</td>\n",
       "      <td>40.111111</td>\n",
       "      <td>A</td>\n",
       "    </tr>\n",
       "    <tr>\n",
       "      <th>5</th>\n",
       "      <td>BRA_ANDROID_MALE_41_70</td>\n",
       "      <td>40.041667</td>\n",
       "      <td>A</td>\n",
       "    </tr>\n",
       "    <tr>\n",
       "      <th>6</th>\n",
       "      <td>FRA_IOS_MALE_19_23</td>\n",
       "      <td>39.888889</td>\n",
       "      <td>A</td>\n",
       "    </tr>\n",
       "    <tr>\n",
       "      <th>7</th>\n",
       "      <td>TUR_ANDROID_MALE_0_18</td>\n",
       "      <td>39.873016</td>\n",
       "      <td>A</td>\n",
       "    </tr>\n",
       "    <tr>\n",
       "      <th>8</th>\n",
       "      <td>TUR_ANDROID_MALE_24_30</td>\n",
       "      <td>39.439103</td>\n",
       "      <td>A</td>\n",
       "    </tr>\n",
       "    <tr>\n",
       "      <th>9</th>\n",
       "      <td>USA_ANDROID_FEMALE_41_70</td>\n",
       "      <td>39.250000</td>\n",
       "      <td>A</td>\n",
       "    </tr>\n",
       "  </tbody>\n",
       "</table>\n",
       "</div>"
      ],
      "text/plain": [
       "      customers_level_based      price segment\n",
       "0  FRA_ANDROID_FEMALE_24_30  45.428571       A\n",
       "1        TUR_IOS_MALE_24_30  45.000000       A\n",
       "2        TUR_IOS_MALE_31_40  42.333333       A\n",
       "3  TUR_ANDROID_FEMALE_31_40  41.833333       A\n",
       "4    CAN_ANDROID_MALE_19_23  40.111111       A\n",
       "5    BRA_ANDROID_MALE_41_70  40.041667       A\n",
       "6        FRA_IOS_MALE_19_23  39.888889       A\n",
       "7     TUR_ANDROID_MALE_0_18  39.873016       A\n",
       "8    TUR_ANDROID_MALE_24_30  39.439103       A\n",
       "9  USA_ANDROID_FEMALE_41_70  39.250000       A"
      ]
     },
     "execution_count": 23,
     "metadata": {},
     "output_type": "execute_result"
    }
   ],
   "source": [
    "agg_df[\"segment\"] = pd.qcut(agg_df[\"price\"], q=4, labels=[\"D\", \"C\", \"B\", \"A\"])\n",
    "agg_df.head(10)"
   ]
  },
  {
   "cell_type": "code",
   "execution_count": 24,
   "id": "72194622-d2db-4d3a-98e9-065f50f97039",
   "metadata": {},
   "outputs": [
    {
     "data": {
      "text/plain": [
       "customers_level_based    109\n",
       "price                     96\n",
       "segment                    4\n",
       "dtype: int64"
      ]
     },
     "execution_count": 24,
     "metadata": {},
     "output_type": "execute_result"
    }
   ],
   "source": [
    "agg_df.nunique()"
   ]
  },
  {
   "cell_type": "markdown",
   "id": "97bdf802-097a-4c70-9099-7b157129bd83",
   "metadata": {},
   "source": [
    "### Görev 8: Yeni gelen müşterileri sınıflandırıp, ne kadar gelir getirebileceklerini tahmin ediniz."
   ]
  },
  {
   "cell_type": "code",
   "execution_count": 25,
   "id": "f3efb030-686d-4cbc-b3be-1b62a373d137",
   "metadata": {},
   "outputs": [
    {
     "data": {
      "text/html": [
       "<div>\n",
       "<style scoped>\n",
       "    .dataframe tbody tr th:only-of-type {\n",
       "        vertical-align: middle;\n",
       "    }\n",
       "\n",
       "    .dataframe tbody tr th {\n",
       "        vertical-align: top;\n",
       "    }\n",
       "\n",
       "    .dataframe thead th {\n",
       "        text-align: right;\n",
       "    }\n",
       "</style>\n",
       "<table border=\"1\" class=\"dataframe\">\n",
       "  <thead>\n",
       "    <tr style=\"text-align: right;\">\n",
       "      <th></th>\n",
       "      <th>customers_level_based</th>\n",
       "      <th>price</th>\n",
       "      <th>segment</th>\n",
       "    </tr>\n",
       "  </thead>\n",
       "  <tbody>\n",
       "    <tr>\n",
       "      <th>3</th>\n",
       "      <td>TUR_ANDROID_FEMALE_31_40</td>\n",
       "      <td>41.833333</td>\n",
       "      <td>A</td>\n",
       "    </tr>\n",
       "  </tbody>\n",
       "</table>\n",
       "</div>"
      ],
      "text/plain": [
       "      customers_level_based      price segment\n",
       "3  TUR_ANDROID_FEMALE_31_40  41.833333       A"
      ]
     },
     "execution_count": 25,
     "metadata": {},
     "output_type": "execute_result"
    }
   ],
   "source": [
    "# 33 yaşında ANDROID kullanan bir Türk kadını hangi segmente aittir ve ortalama ne kadar gelir kazandırması beklenir?\n",
    "new_user = \"TUR_ANDROID_FEMALE_31_40\"\n",
    "agg_df[agg_df[\"customers_level_based\"] ==  new_user]"
   ]
  },
  {
   "cell_type": "code",
   "execution_count": 26,
   "id": "0cd32ddf-e029-47bc-ac00-0581dd0eb714",
   "metadata": {},
   "outputs": [
    {
     "data": {
      "text/html": [
       "<div>\n",
       "<style scoped>\n",
       "    .dataframe tbody tr th:only-of-type {\n",
       "        vertical-align: middle;\n",
       "    }\n",
       "\n",
       "    .dataframe tbody tr th {\n",
       "        vertical-align: top;\n",
       "    }\n",
       "\n",
       "    .dataframe thead th {\n",
       "        text-align: right;\n",
       "    }\n",
       "</style>\n",
       "<table border=\"1\" class=\"dataframe\">\n",
       "  <thead>\n",
       "    <tr style=\"text-align: right;\">\n",
       "      <th></th>\n",
       "      <th>customers_level_based</th>\n",
       "      <th>price</th>\n",
       "      <th>segment</th>\n",
       "    </tr>\n",
       "  </thead>\n",
       "  <tbody>\n",
       "    <tr>\n",
       "      <th>78</th>\n",
       "      <td>FRA_IOS_FEMALE_31_40</td>\n",
       "      <td>32.818182</td>\n",
       "      <td>C</td>\n",
       "    </tr>\n",
       "  </tbody>\n",
       "</table>\n",
       "</div>"
      ],
      "text/plain": [
       "   customers_level_based      price segment\n",
       "78  FRA_IOS_FEMALE_31_40  32.818182       C"
      ]
     },
     "execution_count": 26,
     "metadata": {},
     "output_type": "execute_result"
    }
   ],
   "source": [
    "# 35 yaşında IOS kullanan bir Fransız kadını hangi segmente aittir ve ortalama ne kadar gelir kazandırması beklenir?\n",
    "new_user = \"FRA_IOS_FEMALE_31_40\"\n",
    "agg_df[agg_df[\"customers_level_based\"] ==  new_user]"
   ]
  },
  {
   "cell_type": "code",
   "execution_count": null,
   "id": "bb31ec2a-3c17-47dd-b21b-4ffef82d07b7",
   "metadata": {},
   "outputs": [],
   "source": []
  }
 ],
 "metadata": {
  "kernelspec": {
   "display_name": "Python 3 (ipykernel)",
   "language": "python",
   "name": "python3"
  },
  "language_info": {
   "codemirror_mode": {
    "name": "ipython",
    "version": 3
   },
   "file_extension": ".py",
   "mimetype": "text/x-python",
   "name": "python",
   "nbconvert_exporter": "python",
   "pygments_lexer": "ipython3",
   "version": "3.9.12"
  }
 },
 "nbformat": 4,
 "nbformat_minor": 5
}
