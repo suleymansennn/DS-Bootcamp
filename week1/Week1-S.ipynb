{
 "cells": [
  {
   "cell_type": "markdown",
   "id": "3929d6d8",
   "metadata": {},
   "source": [
    "## Anaconda Nedir?"
   ]
  },
  {
   "cell_type": "markdown",
   "id": "36e7e266",
   "metadata": {},
   "source": [
    "- Python'u kullanmak istediğimizde tercih edebileceğimiz arayüzleri bir arada sunan bir araç/arayüzdür"
   ]
  },
  {
   "cell_type": "markdown",
   "id": "c45baa20",
   "metadata": {},
   "source": [
    "## Pycharm Nedir?"
   ]
  },
  {
   "cell_type": "markdown",
   "id": "b85c348a",
   "metadata": {},
   "source": [
    "- Pycharm büyük ölçekli projeler geliştirebilmek için profesyonel bir python yazılım geliştirme ortamıdır. Birçok kolaylık ve imkan sağlamaktadır."
   ]
  },
  {
   "cell_type": "markdown",
   "id": "b279da10",
   "metadata": {},
   "source": [
    "## Virtual Environment Nedir?"
   ]
  },
  {
   "cell_type": "markdown",
   "id": "4f8bec8a",
   "metadata": {},
   "source": [
    "- Projelerimizi birbirinden izole bir şekilde çalıştırabilmek adına kullanılan bir araçtır.\n",
    "- Anaconda, kullanıcılar için base environment oluşturur. İçerisinde bulunan yaygın olarak kullanılan kütüphaneler ve birbiri ile uyumlu sürümler ile projelerimizi hızlı bir şekilde geliştirebiliriz.\n",
    "- Spyder, JupyterLab gibi ortamları sorunsuz kullanmamızın nedeni, Anaconda tarafından oluşturulan base environment ortamı aktif olur ve kolay bir şekilde projelerimizi geliştirme imkanı sunar. Hangi kütüphanenin hangi versiyonunu kullanmalıyım, bunların bağımlılıkları nedir? gibi uzun uğraş gerektirecek işleri bizim için yapmış olur.\n",
    "\n",
    "- Pycharm'da bir proje oluşturduğımuzda 2 temel beklenti vardır:\n",
    "    - Proje dosyası için dizin\n",
    "    - Sanal ortam\n",
    "    \n",
    "- Pycharm'ı hızlı bir şekilde kullanabilmek adına, Anaconda'nın sağladığı base environment'ı kullanabiliriz. Böylece içerisinde sık kullanılan veri bilimi modülleri ve kütüphaneleri kurulu olacağından kolay bir şekilde projelerimizi geliştirebiliriz."
   ]
  },
  {
   "cell_type": "code",
   "execution_count": 1,
   "id": "513b0d2c",
   "metadata": {},
   "outputs": [
    {
     "name": "stdout",
     "output_type": "stream",
     "text": [
      "Hello AI Era!\n"
     ]
    }
   ],
   "source": [
    "print(\"Hello AI Era!\")"
   ]
  },
  {
   "cell_type": "markdown",
   "id": "f514a528",
   "metadata": {},
   "source": [
    "## Sayılar ve Karakter Dizileri"
   ]
  },
  {
   "cell_type": "markdown",
   "id": "78595383",
   "metadata": {},
   "source": [
    "- __Sayılar__ , tam, ondalıklı ve komleks sayıları kapsayan bir veri yapısıdır.\n",
    "    - *int* , Tam sayılar\n",
    "    - *float*, Ondalıklı sayılar\n",
    "    - *Kompleks* Karmaşık sayılar\n",
    "- __String__ , başında ve sonunda tırnaklar olan içerisinde sayılar ve karakter barındırabilen veri yapılarıdır.\n",
    "- __type()__ fonksiyonu ile bir nesnenin tip bilgisini öğrenebiliriz."
   ]
  },
  {
   "cell_type": "code",
   "execution_count": 2,
   "id": "055d9512",
   "metadata": {},
   "outputs": [
    {
     "name": "stdout",
     "output_type": "stream",
     "text": [
      "<class 'int'>\n",
      "<class 'float'>\n",
      "<class 'complex'>\n"
     ]
    }
   ],
   "source": [
    "print(type(9))\n",
    "print(type(9.2))\n",
    "print(type(9j+1))"
   ]
  },
  {
   "cell_type": "code",
   "execution_count": 3,
   "id": "d193dd41",
   "metadata": {},
   "outputs": [
    {
     "name": "stdout",
     "output_type": "stream",
     "text": [
      "<class 'str'>\n"
     ]
    }
   ],
   "source": [
    "print(type(\"Hello!\"))"
   ]
  },
  {
   "cell_type": "markdown",
   "id": "5ef5c5c0",
   "metadata": {},
   "source": [
    "## Atamalar ve Değişkenler"
   ]
  },
  {
   "cell_type": "markdown",
   "id": "7038731b",
   "metadata": {},
   "source": [
    "- Az önce kullanılan 9 sayısını veya \"Hello AI Era\" ifadesini programın kod akışında daha sonra kullanmak isteyelim. Bu durumda her seferinde 9 yazmak yerine bu ifadeyi bir değişkende tutabiliriz. Değişkene değer atamak için \"=\" kullanılır."
   ]
  },
  {
   "cell_type": "code",
   "execution_count": 7,
   "id": "7c604113",
   "metadata": {},
   "outputs": [
    {
     "name": "stdout",
     "output_type": "stream",
     "text": [
      "9\n"
     ]
    }
   ],
   "source": [
    "a = 9\n",
    "print(a)"
   ]
  },
  {
   "cell_type": "markdown",
   "id": "9ea5c1f3",
   "metadata": {},
   "source": [
    "- Artık a değişkeni 9 ifadesinin bir temsilcisi, değişkenidir\n",
    "- Yapılan işlemlerin sonucu sadece ekrana yazdırılır. Eğer sonucu kaydetmek istersek, daha sonra kullanmak istersek tekrar bir değişkene atamalıyız"
   ]
  },
  {
   "cell_type": "code",
   "execution_count": 10,
   "id": "22d517c6",
   "metadata": {},
   "outputs": [
    {
     "name": "stdout",
     "output_type": "stream",
     "text": [
      "90\n"
     ]
    }
   ],
   "source": [
    "c = 10\n",
    "print(a * c)"
   ]
  },
  {
   "cell_type": "code",
   "execution_count": 11,
   "id": "833c3323",
   "metadata": {},
   "outputs": [
    {
     "name": "stdout",
     "output_type": "stream",
     "text": [
      "2\n"
     ]
    }
   ],
   "source": [
    "a = 9\n",
    "b = 7\n",
    "c = a - b\n",
    "print(c)"
   ]
  },
  {
   "cell_type": "markdown",
   "id": "eee83acb",
   "metadata": {},
   "source": [
    "## Sanal Ortam\n",
    "- Nedir bu sanal ortam?\n",
    "    - İzole çalışma ortamları oluşturmak için kullanılan araçlardır.\n",
    "    - Farklı çalışmalar için oluşabilecek farklı kütüphane ve versiyon ihtiyaçlarını, çalışmaları birbirini etkilemeyecek şekilde karşılama imkanı sağlar.\n",
    "    - Bu gibi durumlarda conda ve benzeri araçlar araya girerek, aynı anda birden fazla ortam oluşturarak üzerinde çalışma imkanı sağlar.\n",
    "- Sanal ortam araçları:\n",
    "    - __venv__\n",
    "    - __virtualenv__\n",
    "    - __pipenv__\n",
    "    - __conda__    "
   ]
  },
  {
   "cell_type": "markdown",
   "id": "4636cfe0",
   "metadata": {},
   "source": [
    "## Paket Yönetimi\n",
    "- Python'u bilgisayarımıza kurduğumuz zaman Python ile gelen bazı metod, fonksiyon ve modüller vardır. Bunun dışında bazı kaynaklardan indirilecek olan kütüphaneler vardır. Bu kütüphanelerin indirilmesi, kullanılması, bağımlılıklarının yönetilmesini paket yönetim araçları yapar.\n",
    "- Paket yönetim araçları:\n",
    "    - __pip__\n",
    "    - __pipenv__\n",
    "    - __conda__\n",
    "- Eğer bu yönetim araçları olmasaydı basit bir pandas kurulumu bile bir çok iş yükü getirirdi. Pandas'ın kullanılması için gereken paketleri, versiyonları kontrol etmek gerekirdi.\n",
    "<br>\n",
    "- __venv__ ve __virtualenv__ ortam yönetim araçları paket yönetimi için __pip__ ' i kullanır."
   ]
  },
  {
   "cell_type": "markdown",
   "id": "5db26f3f",
   "metadata": {},
   "source": [
    "## Sanal Ortam ve Paket Yönetimi"
   ]
  },
  {
   "cell_type": "code",
   "execution_count": null,
   "id": "cd0b567b",
   "metadata": {},
   "outputs": [],
   "source": [
    "# Sanal Ortamlarin Listelenmesi\n",
    "# conda env list\n",
    "\n",
    "# Sanal Ortam Olusturma\n",
    "# conda create -n myenv\n",
    "# conda create -n myenv python=3.9\n",
    "\n",
    "# Sanal Ortami Aktif etme\n",
    "# conda activate meyenv\n",
    "\n",
    "# Yuklu paketleri gormek icin;\n",
    "# conda list\n",
    "\n",
    "# Paket Yukleme\n",
    "#conda install numpy\n",
    "#conda install numpy scipy pandas\n",
    "\n",
    "# Paket silme\n",
    "# conda remove\n",
    "\n",
    "# Versiyon yukleme\n",
    "# conda install numpy=1.20.1\n",
    "\n",
    "# Versiyon yukseltme\n",
    "# conda upgrade numpy\n",
    "# conda upgrade --all Tum paketler guncellenir\n",
    "\n",
    "# Paketlerin dosyasini olusturma\n",
    "# conda env export > enviroment.yaml\n",
    "\n",
    "# conda deactivate\n",
    "# conda env remove -n myenv\n",
    "\n",
    "# Dosyadan yukleme\n",
    "# conda env create -f enviroment.yaml\n",
    "\n",
    "#####################\n",
    "\n",
    "# pip install paket_adi\n",
    "# pip install pandas==1.2.1"
   ]
  },
  {
   "cell_type": "markdown",
   "id": "5e80ea5f",
   "metadata": {},
   "source": [
    "## Veri Yapıları\n",
    "- __Veri yapıları__, programlama sürecindeki en küçük yapı taşlarındandır. Kullanıcı olarak bizlerin bilgisayarlara anlatmak istediği durumları temsil eden farklı tiplerde veri tutmamızı sağlayan yapılardır.\n",
    "1. Sayılar ---> int, float, complex"
   ]
  },
  {
   "cell_type": "code",
   "execution_count": 13,
   "id": "24f5c890",
   "metadata": {},
   "outputs": [
    {
     "name": "stdout",
     "output_type": "stream",
     "text": [
      "<class 'int'>\n",
      "<class 'float'>\n",
      "<class 'complex'>\n"
     ]
    }
   ],
   "source": [
    "print(type(9))\n",
    "print(type(9.2))\n",
    "print(type(9j+1))"
   ]
  },
  {
   "cell_type": "markdown",
   "id": "a5850e7e",
   "metadata": {},
   "source": [
    "2. String\n",
    "    - Metin formunda olan verileri tutmak için olan bir veri yapısıdır."
   ]
  },
  {
   "cell_type": "code",
   "execution_count": 14,
   "id": "6c2a59c8",
   "metadata": {},
   "outputs": [
    {
     "name": "stdout",
     "output_type": "stream",
     "text": [
      "<class 'str'>\n"
     ]
    }
   ],
   "source": [
    "print(type(\"Hello!\"))"
   ]
  },
  {
   "cell_type": "code",
   "execution_count": 1,
   "id": "b72e8dc2",
   "metadata": {},
   "outputs": [
    {
     "name": "stdout",
     "output_type": "stream",
     "text": [
      "J\n",
      "n\n",
      "Joh\n",
      "h\n",
      "Jo\n"
     ]
    }
   ],
   "source": [
    "name = \"John\"\n",
    "# Elemanlarına Erişmek\n",
    "print(name[0])\n",
    "print(name[-1])\n",
    "print(name[0:3])\n",
    "print(name[-2:-1])\n",
    "print(name[:2])\n"
   ]
  },
  {
   "cell_type": "code",
   "execution_count": 2,
   "id": "4ef0fafd",
   "metadata": {},
   "outputs": [
    {
     "data": {
      "text/plain": [
       "False"
      ]
     },
     "execution_count": 2,
     "metadata": {},
     "output_type": "execute_result"
    }
   ],
   "source": [
    "# Sorgulama\n",
    "\"jo\" in name # Case Sensetive"
   ]
  },
  {
   "cell_type": "code",
   "execution_count": 29,
   "id": "3496f951",
   "metadata": {},
   "outputs": [
    {
     "data": {
      "text/plain": [
       "'\\nNumbers = int, float, complex\\nString = str\\nList, Dictionary, Tuple, Set\\nBoolean\\n'"
      ]
     },
     "execution_count": 29,
     "metadata": {},
     "output_type": "execute_result"
    }
   ],
   "source": [
    "long_str = \"\"\"\n",
    "Numbers = int, float, complex\n",
    "String = str\n",
    "List, Dictionary, Tuple, Set\n",
    "Boolean\n",
    "\"\"\"\n",
    "long_str"
   ]
  },
  {
   "cell_type": "markdown",
   "id": "e853a3e6",
   "metadata": {},
   "source": [
    "- String Metodları"
   ]
  },
  {
   "cell_type": "code",
   "execution_count": 3,
   "id": "5985d140",
   "metadata": {},
   "outputs": [
    {
     "data": {
      "text/plain": [
       "4"
      ]
     },
     "execution_count": 3,
     "metadata": {},
     "output_type": "execute_result"
    }
   ],
   "source": [
    "# len --> Stringin uzunluğunu gösterir\n",
    "len(name)"
   ]
  },
  {
   "cell_type": "code",
   "execution_count": 6,
   "id": "e3a13b70",
   "metadata": {},
   "outputs": [
    {
     "name": "stdout",
     "output_type": "stream",
     "text": [
      "JOHN\n",
      "john\n"
     ]
    }
   ],
   "source": [
    "# upper - lower --> büyük - küçük harf dönüşümü\n",
    "print(\"john\".upper())\n",
    "print(\"JOHN\".lower())"
   ]
  },
  {
   "cell_type": "code",
   "execution_count": null,
   "id": "2c91909c",
   "metadata": {},
   "outputs": [],
   "source": [
    "# replace --> Karakter değiştirmek için kullanılır"
   ]
  },
  {
   "cell_type": "code",
   "execution_count": 7,
   "id": "c4353f94",
   "metadata": {},
   "outputs": [
    {
     "data": {
      "text/plain": [
       "'joon'"
      ]
     },
     "execution_count": 7,
     "metadata": {},
     "output_type": "execute_result"
    }
   ],
   "source": [
    "\"john\".replace(\"h\", \"o\")"
   ]
  },
  {
   "cell_type": "code",
   "execution_count": 8,
   "id": "7e3f51a2",
   "metadata": {},
   "outputs": [
    {
     "data": {
      "text/plain": [
       "['Hello', 'AI', 'Era']"
      ]
     },
     "execution_count": 8,
     "metadata": {},
     "output_type": "execute_result"
    }
   ],
   "source": [
    "# split --> stringi belirli bir koşula göre bölerek liste formunda döndürür.\n",
    "\"Hello AI Era\".split()"
   ]
  },
  {
   "cell_type": "code",
   "execution_count": 9,
   "id": "9817c479",
   "metadata": {},
   "outputs": [
    {
     "data": {
      "text/plain": [
       "['Hello', 'AI', 'Era']"
      ]
     },
     "execution_count": 9,
     "metadata": {},
     "output_type": "execute_result"
    }
   ],
   "source": [
    "\"Hello,AI,Era\".split(\",\")"
   ]
  },
  {
   "cell_type": "code",
   "execution_count": 10,
   "id": "2987eadf",
   "metadata": {},
   "outputs": [
    {
     "data": {
      "text/plain": [
       "'John'"
      ]
     },
     "execution_count": 10,
     "metadata": {},
     "output_type": "execute_result"
    }
   ],
   "source": [
    "#strip --> stringi kırpmak için kullanılır\n",
    "\"   John   \".strip()"
   ]
  },
  {
   "cell_type": "code",
   "execution_count": 11,
   "id": "c397d549",
   "metadata": {},
   "outputs": [
    {
     "data": {
      "text/plain": [
       "'John'"
      ]
     },
     "execution_count": 11,
     "metadata": {},
     "output_type": "execute_result"
    }
   ],
   "source": [
    "# capitalize --> ilk harfi büyütür\n",
    "\"john\".capitalize()"
   ]
  },
  {
   "cell_type": "markdown",
   "id": "baabecec",
   "metadata": {},
   "source": [
    "3. Boolean"
   ]
  },
  {
   "cell_type": "code",
   "execution_count": 15,
   "id": "aa05fbf5",
   "metadata": {},
   "outputs": [
    {
     "name": "stdout",
     "output_type": "stream",
     "text": [
      "<class 'bool'>\n",
      "<class 'bool'>\n"
     ]
    }
   ],
   "source": [
    "print(type(True)) \n",
    "print(type(False)) "
   ]
  },
  {
   "cell_type": "code",
   "execution_count": 16,
   "id": "7d3f929f",
   "metadata": {},
   "outputs": [
    {
     "data": {
      "text/plain": [
       "(False, True, bool)"
      ]
     },
     "execution_count": 16,
     "metadata": {},
     "output_type": "execute_result"
    }
   ],
   "source": [
    "5 == 4, 1 == 1, type(3 == 2)"
   ]
  },
  {
   "cell_type": "markdown",
   "id": "e70f5d48",
   "metadata": {},
   "source": [
    "## 4. Listeler\n",
    "- Değiştirilebilir\n",
    "- Kapsayıcı\n",
    "- Sıralı"
   ]
  },
  {
   "cell_type": "code",
   "execution_count": 12,
   "id": "a6305e33",
   "metadata": {},
   "outputs": [
    {
     "data": {
      "text/plain": [
       "list"
      ]
     },
     "execution_count": 12,
     "metadata": {},
     "output_type": "execute_result"
    }
   ],
   "source": [
    "# Tanımlamak için köşeli parantez kullanılır.\n",
    "nums = [1, 2, 3, 4]\n",
    "type(nums)"
   ]
  },
  {
   "cell_type": "code",
   "execution_count": 13,
   "id": "233c4d39",
   "metadata": {},
   "outputs": [
    {
     "data": {
      "text/plain": [
       "[11, 12]"
      ]
     },
     "execution_count": 13,
     "metadata": {},
     "output_type": "execute_result"
    }
   ],
   "source": [
    "mylist = [1, 2, \"a\", 2j+8, [11, 12]] # Birden fazla veri yapısı bulundurabilir(Kapsayıcı Özellik)\n",
    "mylist[4]"
   ]
  },
  {
   "cell_type": "code",
   "execution_count": 14,
   "id": "13df5d4a",
   "metadata": {},
   "outputs": [
    {
     "data": {
      "text/plain": [
       "[['c', 99, 88], 2, 'a', (8+2j), [11, 12]]"
      ]
     },
     "execution_count": 14,
     "metadata": {},
     "output_type": "execute_result"
    }
   ],
   "source": [
    "mylist[0] = [\"c\", 99, 88] # Değiştirilebilir Özelliği\n",
    "mylist"
   ]
  },
  {
   "cell_type": "code",
   "execution_count": 15,
   "id": "3d99cc8a",
   "metadata": {},
   "outputs": [
    {
     "data": {
      "text/plain": [
       "99"
      ]
     },
     "execution_count": 15,
     "metadata": {},
     "output_type": "execute_result"
    }
   ],
   "source": [
    "mylist[0][1] # Sıralı özelliği"
   ]
  },
  {
   "cell_type": "markdown",
   "id": "cfb5fe06",
   "metadata": {},
   "source": [
    "- Liste Metodları"
   ]
  },
  {
   "cell_type": "code",
   "execution_count": 16,
   "id": "c92fdbde",
   "metadata": {},
   "outputs": [
    {
     "data": {
      "text/plain": [
       "['__add__',\n",
       " '__class__',\n",
       " '__class_getitem__',\n",
       " '__contains__',\n",
       " '__delattr__',\n",
       " '__delitem__',\n",
       " '__dir__',\n",
       " '__doc__',\n",
       " '__eq__',\n",
       " '__format__',\n",
       " '__ge__',\n",
       " '__getattribute__',\n",
       " '__getitem__',\n",
       " '__gt__',\n",
       " '__hash__',\n",
       " '__iadd__',\n",
       " '__imul__',\n",
       " '__init__',\n",
       " '__init_subclass__',\n",
       " '__iter__',\n",
       " '__le__',\n",
       " '__len__',\n",
       " '__lt__',\n",
       " '__mul__',\n",
       " '__ne__',\n",
       " '__new__',\n",
       " '__reduce__',\n",
       " '__reduce_ex__',\n",
       " '__repr__',\n",
       " '__reversed__',\n",
       " '__rmul__',\n",
       " '__setattr__',\n",
       " '__setitem__',\n",
       " '__sizeof__',\n",
       " '__str__',\n",
       " '__subclasshook__',\n",
       " 'append',\n",
       " 'clear',\n",
       " 'copy',\n",
       " 'count',\n",
       " 'extend',\n",
       " 'index',\n",
       " 'insert',\n",
       " 'pop',\n",
       " 'remove',\n",
       " 'reverse',\n",
       " 'sort']"
      ]
     },
     "execution_count": 16,
     "metadata": {},
     "output_type": "execute_result"
    }
   ],
   "source": [
    "dir(list)"
   ]
  },
  {
   "cell_type": "code",
   "execution_count": 17,
   "id": "e25b3065",
   "metadata": {},
   "outputs": [],
   "source": [
    "# append --> liste sonuna eleman ekler\n",
    "mylist.append(\"q\")"
   ]
  },
  {
   "cell_type": "code",
   "execution_count": 18,
   "id": "00fe867d",
   "metadata": {},
   "outputs": [
    {
     "data": {
      "text/plain": [
       "[2, 'a', (8+2j), [11, 12], 'q']"
      ]
     },
     "execution_count": 18,
     "metadata": {},
     "output_type": "execute_result"
    }
   ],
   "source": [
    "# pop --> indexe göre eleman siler\n",
    "mylist.pop(0)\n",
    "mylist"
   ]
  },
  {
   "cell_type": "code",
   "execution_count": 19,
   "id": "2d363d5f",
   "metadata": {},
   "outputs": [
    {
     "data": {
      "text/plain": [
       "[2, 'a', [66, 44], (8+2j), [11, 12], 'q']"
      ]
     },
     "execution_count": 19,
     "metadata": {},
     "output_type": "execute_result"
    }
   ],
   "source": [
    "# insert --> indexe göre eleman ekler\n",
    "mylist.insert(2, [66, 44])\n",
    "mylist"
   ]
  },
  {
   "cell_type": "markdown",
   "id": "8d0b6a47",
   "metadata": {},
   "source": [
    "## 5. Sözlükler (Dict)\n",
    "- Key - value\n",
    "- Değiştirilebilir\n",
    "- Kapsayıcı\n",
    "- Sırasız"
   ]
  },
  {
   "cell_type": "code",
   "execution_count": 20,
   "id": "5b78ee50",
   "metadata": {},
   "outputs": [
    {
     "data": {
      "text/plain": [
       "{'Name': ['John', 'Scott'], 'Age': [22, 24]}"
      ]
     },
     "execution_count": 20,
     "metadata": {},
     "output_type": "execute_result"
    }
   ],
   "source": [
    "mydict = {\"Name\": [\"John\", \"Scott\"],\n",
    "         \"Age\": [22, 24]}\n",
    "mydict"
   ]
  },
  {
   "cell_type": "code",
   "execution_count": 21,
   "id": "655a7d6d",
   "metadata": {},
   "outputs": [
    {
     "data": {
      "text/plain": [
       "True"
      ]
     },
     "execution_count": 21,
     "metadata": {},
     "output_type": "execute_result"
    }
   ],
   "source": [
    "# Key Sorgulama\n",
    "\"Name\" in mydict"
   ]
  },
  {
   "cell_type": "code",
   "execution_count": 22,
   "id": "922dfcba",
   "metadata": {},
   "outputs": [
    {
     "name": "stdout",
     "output_type": "stream",
     "text": [
      "['John', 'Scott']\n",
      "['John', 'Scott']\n"
     ]
    }
   ],
   "source": [
    "print(mydict[\"Name\"])\n",
    "print(mydict.get(\"Name\"))"
   ]
  },
  {
   "cell_type": "code",
   "execution_count": 24,
   "id": "75bd8ac7",
   "metadata": {},
   "outputs": [
    {
     "data": {
      "text/plain": [
       "dict_keys(['Name', 'Age'])"
      ]
     },
     "execution_count": 24,
     "metadata": {},
     "output_type": "execute_result"
    }
   ],
   "source": [
    "# Tüm key'lere erişim\n",
    "mydict.keys()"
   ]
  },
  {
   "cell_type": "code",
   "execution_count": 25,
   "id": "0a6ec230",
   "metadata": {},
   "outputs": [
    {
     "data": {
      "text/plain": [
       "dict_values([['John', 'Scott'], [22, 24]])"
      ]
     },
     "execution_count": 25,
     "metadata": {},
     "output_type": "execute_result"
    }
   ],
   "source": [
    "# Tüm value'lara erişim\n",
    "mydict.values()"
   ]
  },
  {
   "cell_type": "code",
   "execution_count": 26,
   "id": "3e1b37c5",
   "metadata": {},
   "outputs": [
    {
     "data": {
      "text/plain": [
       "dict_items([('Name', ['John', 'Scott']), ('Age', [22, 24])])"
      ]
     },
     "execution_count": 26,
     "metadata": {},
     "output_type": "execute_result"
    }
   ],
   "source": [
    "mydict.items() #Tüm çifleri tuple halinde liste içinde döner"
   ]
  },
  {
   "cell_type": "code",
   "execution_count": 27,
   "id": "e11a48ce",
   "metadata": {},
   "outputs": [
    {
     "data": {
      "text/plain": [
       "{'Name': ['Ellen', 'Scott'], 'Age': [22, 24]}"
      ]
     },
     "execution_count": 27,
     "metadata": {},
     "output_type": "execute_result"
    }
   ],
   "source": [
    "# Değer değiştirme\n",
    "mydict[\"Name\"][0] = \"Ellen\"\n",
    "mydict"
   ]
  },
  {
   "cell_type": "code",
   "execution_count": 30,
   "id": "c08cf60c",
   "metadata": {},
   "outputs": [
    {
     "data": {
      "text/plain": [
       "{'Name': ['Ellen', 'Scott'], 'Age': [22, 24], 'Salary': [2500, 3250]}"
      ]
     },
     "execution_count": 30,
     "metadata": {},
     "output_type": "execute_result"
    }
   ],
   "source": [
    "mydict[\"Salary\"] = [2500, 3250] # Salary olmadigi icin yeni oluşturulur\n",
    "mydict "
   ]
  },
  {
   "cell_type": "markdown",
   "id": "d99e40fb",
   "metadata": {},
   "source": [
    "## 6. Demet (Tuple)\n",
    "- Değiştirilemez\n",
    "- Kapsayıcı\n",
    "- Sıralı\n",
    "<br>Bazı durumlarda elemanların değişmesini istemeyiz. Bu gibi durumlarda tuple kullanılabilir."
   ]
  },
  {
   "cell_type": "code",
   "execution_count": 28,
   "id": "1905afe0",
   "metadata": {},
   "outputs": [
    {
     "data": {
      "text/plain": [
       "('S', 1, 99, 2.2, ['a', 'b'])"
      ]
     },
     "execution_count": 28,
     "metadata": {},
     "output_type": "execute_result"
    }
   ],
   "source": [
    "mytuple = (\"S\", 1, 99, 2.2, [\"a\", \"b\"])\n",
    "mytuple"
   ]
  },
  {
   "cell_type": "code",
   "execution_count": 31,
   "id": "02b4273c",
   "metadata": {},
   "outputs": [
    {
     "ename": "NameError",
     "evalue": "name 't' is not defined",
     "output_type": "error",
     "traceback": [
      "\u001b[1;31m---------------------------------------------------------------------------\u001b[0m",
      "\u001b[1;31mNameError\u001b[0m                                 Traceback (most recent call last)",
      "Input \u001b[1;32mIn [31]\u001b[0m, in \u001b[0;36m<cell line: 2>\u001b[1;34m()\u001b[0m\n\u001b[0;32m      1\u001b[0m \u001b[38;5;66;03m# Değiştirilemez\u001b[39;00m\n\u001b[1;32m----> 2\u001b[0m \u001b[43mt\u001b[49m[\u001b[38;5;241m1\u001b[39m] \u001b[38;5;241m=\u001b[39m \u001b[38;5;241m99\u001b[39m\n",
      "\u001b[1;31mNameError\u001b[0m: name 't' is not defined"
     ]
    }
   ],
   "source": [
    "# Değiştirilemez\n",
    "t[1] = 99"
   ]
  },
  {
   "cell_type": "markdown",
   "id": "0bc821ee",
   "metadata": {},
   "source": [
    "## Küme (Set)\n",
    "- Değiştirilebilir\n",
    "- Sırasız + Eşşiz\n",
    "- Kapsayıcı"
   ]
  },
  {
   "cell_type": "code",
   "execution_count": 32,
   "id": "9b73bcd6",
   "metadata": {},
   "outputs": [],
   "source": [
    "# Set oluşturma\n",
    "x = {1, 3, 5}\n",
    "y = {1, 2, 3}"
   ]
  },
  {
   "cell_type": "code",
   "execution_count": 34,
   "id": "fcb01a93",
   "metadata": {},
   "outputs": [
    {
     "name": "stdout",
     "output_type": "stream",
     "text": [
      "{5}\n",
      "{2}\n"
     ]
    }
   ],
   "source": [
    "# 2 kume farki\n",
    "print(x.difference(y)) # 1'de olup 2'de olmayan\n",
    "print(y.difference(x)) # 2'de olup 1'de olmayan"
   ]
  },
  {
   "cell_type": "code",
   "execution_count": 35,
   "id": "3f7d86f1",
   "metadata": {},
   "outputs": [
    {
     "name": "stdout",
     "output_type": "stream",
     "text": [
      "{5}\n",
      "{2}\n"
     ]
    }
   ],
   "source": [
    "# 2 kume farki \n",
    "print(x - y)\n",
    "print(y - x)"
   ]
  },
  {
   "cell_type": "code",
   "execution_count": 36,
   "id": "a96ff7f0",
   "metadata": {},
   "outputs": [
    {
     "data": {
      "text/plain": [
       "{2, 5}"
      ]
     },
     "execution_count": 36,
     "metadata": {},
     "output_type": "execute_result"
    }
   ],
   "source": [
    "# 2 kumede de olmayan\n",
    "x.symmetric_difference(y) # x.difference(y) + y.difference(x)"
   ]
  },
  {
   "cell_type": "code",
   "execution_count": 37,
   "id": "74ac0342",
   "metadata": {},
   "outputs": [
    {
     "data": {
      "text/plain": [
       "{1, 3}"
      ]
     },
     "execution_count": 37,
     "metadata": {},
     "output_type": "execute_result"
    }
   ],
   "source": [
    "# 2 Kume kesisimi\n",
    "x.intersection(y)\n",
    "x & y"
   ]
  },
  {
   "cell_type": "code",
   "execution_count": 38,
   "id": "e10b22df",
   "metadata": {},
   "outputs": [
    {
     "data": {
      "text/plain": [
       "{1, 2, 3, 5}"
      ]
     },
     "execution_count": 38,
     "metadata": {},
     "output_type": "execute_result"
    }
   ],
   "source": [
    "# Kume Birlesimi\n",
    "x.union(y)"
   ]
  },
  {
   "cell_type": "code",
   "execution_count": 39,
   "id": "781fb7cc",
   "metadata": {},
   "outputs": [
    {
     "data": {
      "text/plain": [
       "False"
      ]
     },
     "execution_count": 39,
     "metadata": {},
     "output_type": "execute_result"
    }
   ],
   "source": [
    "# Kume kesisimi bos mu?\n",
    "x.isdisjoint(y)\n",
    "\n",
    "# 1. kume 2. kumenin alt kumesi mi?\n",
    "x.issubset(y)\n",
    "\n",
    "# 1. kume 2. kumeyi kapsiyor mu?\n",
    "x.isdisjoint(y)"
   ]
  },
  {
   "cell_type": "markdown",
   "id": "a4b6256d",
   "metadata": {},
   "source": [
    "# Fonksiyonlar\n",
    "- Fonksiyon, belirli görevleri yerine getirmek için kullanılan kod parçasıdır.\n",
    "- Parametre, fonksiyon tanımlanması esnasında ifade edilen değişkenlerdir.\n",
    "- Argüman ise bu fonksiyonlar çağrıldığında bu parametrelere karşılık gelen değerlerdir.\n",
    "- Fonksiyon dökümanlarına \"__docstirng__\" denir.\n",
    "- Return, fonksiyon çıktılarını girdi olarak kullanmak için kullanılır. Fonksiyon return ifadesini görünce sonlanır."
   ]
  },
  {
   "cell_type": "code",
   "execution_count": 40,
   "id": "93e73ef2",
   "metadata": {},
   "outputs": [],
   "source": [
    "?print"
   ]
  },
  {
   "cell_type": "code",
   "execution_count": 41,
   "id": "0ec1218f",
   "metadata": {},
   "outputs": [
    {
     "data": {
      "text/plain": [
       "81"
      ]
     },
     "execution_count": 41,
     "metadata": {},
     "output_type": "execute_result"
    }
   ],
   "source": [
    "def calculate(x):\n",
    "    return x ** 2\n",
    "calculate(9)"
   ]
  },
  {
   "cell_type": "markdown",
   "id": "6659a103",
   "metadata": {},
   "source": [
    "- __Docstring__ fonksiyonlara herkesin anlayabileceği dilde bilgi notu ekleme yoludur."
   ]
  },
  {
   "cell_type": "code",
   "execution_count": 44,
   "id": "2c79b262",
   "metadata": {},
   "outputs": [],
   "source": [
    "def summer(arg1, arg2):\n",
    "    \"\"\"\n",
    "    Sum of two numbers\n",
    "    Args:\n",
    "        arg1: int, float\n",
    "        arg2: int, float\n",
    "\n",
    "    Returns:\n",
    "        int, float\n",
    "\n",
    "    Examples:\n",
    "        summer(3,1) = 3+1 = 4\n",
    "\n",
    "    \"\"\"\n",
    "    print(arg1+arg2)"
   ]
  },
  {
   "cell_type": "code",
   "execution_count": 45,
   "id": "bbd8e651",
   "metadata": {},
   "outputs": [],
   "source": [
    "?summer"
   ]
  },
  {
   "cell_type": "markdown",
   "id": "a96a88de",
   "metadata": {},
   "source": [
    "- Fonksiyonlar birden fazla girdiyi belirli işlemlerden geçirerek birden fazla çıktı verebilen yapılardır.\n",
    "- Fonksiyonları birer kara kutu olarak düşünebiliriz. Kutuya bir girdi göndeririz, kutu içerisinde girdiye belirli işlemler uygulanır ve sonucunda bir çıktı verir.\n",
    "\n",
    "- Kullanıcı tanımlı fonksiyonlara ne zaman ihtiyacımız olur?\n",
    "    - Bir kod bloğunu birden fazla kez kullanmak gerektiğinde\n",
    "    - Fonksiyona verilen anlamlı isimler sayesinde kodu anlamayı kolaylaştırır.\n",
    "    - Kodda bir değişiklik yapılacağı zaman birden fazla yerde değil sadece fonksiyonun içerisinde değişiklik yapmamıza olanak sağlar.\n",
    "    - Kopyala-yapıştır yaparken oluşabilecek hataları önler.\n",
    "- Peki bir fonksiyonu oluştururken dikkat edilmesi gerekenler nelerdir?\n",
    "    - Kısa ama açıklayıcı bir isim seçilmeli, fiiller olabilir\n",
    "    - Fonksiyon ismi seçilirken, yaygın olarak kullanılan diğer fonksiyonların isimleriyle aynı olmamalı."
   ]
  },
  {
   "cell_type": "code",
   "execution_count": 46,
   "id": "0c515528",
   "metadata": {},
   "outputs": [
    {
     "name": "stdout",
     "output_type": "stream",
     "text": [
      "Merhaba\n",
      "Hello\n",
      "Hi\n"
     ]
    }
   ],
   "source": [
    "# Ön tanımlı fonksiyon\n",
    "def say_hi(string=\"Merhaba\"):\n",
    "    print(string)\n",
    "    print(\"Hello\")\n",
    "    print(\"Hi\")\n",
    "\n",
    "\n",
    "say_hi()"
   ]
  },
  {
   "cell_type": "code",
   "execution_count": 47,
   "id": "8e9748c8",
   "metadata": {},
   "outputs": [
    {
     "name": "stdout",
     "output_type": "stream",
     "text": [
      "John\n",
      "Hello\n",
      "Hi\n"
     ]
    }
   ],
   "source": [
    "say_hi(\"John\")"
   ]
  },
  {
   "cell_type": "markdown",
   "id": "08058795",
   "metadata": {},
   "source": [
    "# Koşullar\n",
    "- Program yazımı esnasında akış kontrolü sağlayan ve programların belirli kurallara göre nasıl haraket etmesi gerektiğin, biz kullanıcılar tarafından programa belirtme imkanı sağlayan yapılardır.\n",
    "- İf\n",
    "- Elif\n",
    "- Else"
   ]
  },
  {
   "cell_type": "code",
   "execution_count": 48,
   "id": "891476d7",
   "metadata": {},
   "outputs": [
    {
     "data": {
      "text/plain": [
       "True"
      ]
     },
     "execution_count": 48,
     "metadata": {},
     "output_type": "execute_result"
    }
   ],
   "source": [
    "1 == 1"
   ]
  },
  {
   "cell_type": "code",
   "execution_count": 49,
   "id": "f8c05328",
   "metadata": {},
   "outputs": [
    {
     "data": {
      "text/plain": [
       "False"
      ]
     },
     "execution_count": 49,
     "metadata": {},
     "output_type": "execute_result"
    }
   ],
   "source": [
    "1 == 2"
   ]
  },
  {
   "cell_type": "code",
   "execution_count": 50,
   "id": "3465dd82",
   "metadata": {},
   "outputs": [
    {
     "name": "stdout",
     "output_type": "stream",
     "text": [
      "Wow!\n"
     ]
    }
   ],
   "source": [
    "if 1==1:\n",
    "    print(\"Wow!\")"
   ]
  },
  {
   "cell_type": "code",
   "execution_count": 51,
   "id": "ce46e8a9",
   "metadata": {},
   "outputs": [],
   "source": [
    "if 1!=1:\n",
    "    print(\"Wow!\")"
   ]
  },
  {
   "cell_type": "markdown",
   "id": "878c5a70",
   "metadata": {},
   "source": [
    "- İf koşulu sağlanmadığında programa ne yapacağını ifade etmek için __elif__ veya __else__ yapılarını kullanabiliriz."
   ]
  },
  {
   "cell_type": "code",
   "execution_count": 52,
   "id": "b985aab3",
   "metadata": {},
   "outputs": [
    {
     "name": "stdout",
     "output_type": "stream",
     "text": [
      "greater than 20\n"
     ]
    }
   ],
   "source": [
    "def check_num(x):\n",
    "    if x == 20:\n",
    "        print(\"equal to 20\")\n",
    "    elif x > 20:\n",
    "        print(\"greater than 20\")\n",
    "    else:\n",
    "        print(\"less than 20\")\n",
    "\n",
    "\n",
    "check_num(21)"
   ]
  },
  {
   "cell_type": "code",
   "execution_count": 53,
   "id": "618a0a45",
   "metadata": {},
   "outputs": [
    {
     "name": "stdout",
     "output_type": "stream",
     "text": [
      "Enter your age22\n",
      "You are old enough to learn to drive\n"
     ]
    }
   ],
   "source": [
    "def check_age():\n",
    "    age = int(input(\"Enter your age\"))\n",
    "    if age >= 18:\n",
    "        print(\"You are old enough to learn to drive\")\n",
    "    else:\n",
    "        print(\"You need\", 18-age, \"more years to learn to drive\")\n",
    "\n",
    "\n",
    "check_age()"
   ]
  },
  {
   "cell_type": "code",
   "execution_count": 54,
   "id": "de4b179d",
   "metadata": {},
   "outputs": [
    {
     "name": "stdout",
     "output_type": "stream",
     "text": [
      "Enter your age:18\n",
      "You are 4 years younger than me\n"
     ]
    }
   ],
   "source": [
    "my_age = 22\n",
    "def who_is_older():\n",
    "    your_age = int(input(\"Enter your age:\"))\n",
    "    if your_age == my_age:\n",
    "        print(\"We are the same age!\")\n",
    "    elif your_age > my_age:\n",
    "        print(\"You are\", (your_age - my_age),\"years older than me\")\n",
    "    else:\n",
    "        print(\"You are\", (my_age - your_age), \"years younger than me\")\n",
    "\n",
    "who_is_older()"
   ]
  },
  {
   "cell_type": "markdown",
   "id": "7b62992b",
   "metadata": {},
   "source": [
    "#  Döngüler\n",
    "- Üzerinde iterasyonlar yapılabilen nesneler üzerinde gezinebilmeyi ve bu gezinmeler sonucunda yakalanan elemanlar üzerinde çeşitli işlemler yapabilmeyi sağlar"
   ]
  },
  {
   "cell_type": "code",
   "execution_count": 55,
   "id": "d9a91a6a",
   "metadata": {},
   "outputs": [
    {
     "name": "stdout",
     "output_type": "stream",
     "text": [
      "John\n",
      "Mark\n",
      "Venessa\n",
      "Miriam\n"
     ]
    }
   ],
   "source": [
    "students = [\"John\", \"Mark\", \"Venessa\", \"Miriam\"]\n",
    "# i students üzerinde dolaşarak her bir döngüde bir değeri tutar.\n",
    "# 1. döngü -> i = John\n",
    "# 2. döngü -> i = Mark\n",
    "# 3. döngü -> i = Venessa\n",
    "# 4. döngü -> i = Miriam\n",
    "for i in students:\n",
    "    print(i)"
   ]
  },
  {
   "cell_type": "code",
   "execution_count": 56,
   "id": "9267b71c",
   "metadata": {},
   "outputs": [
    {
     "name": "stdout",
     "output_type": "stream",
     "text": [
      "0 John\n",
      "1 Mark\n",
      "2 Venessa\n",
      "3 Miriam\n"
     ]
    }
   ],
   "source": [
    "# enumarate ile değerlerin indexlerine erişilebilir.\n",
    "# i -> index\n",
    "# j -> değerler\n",
    "for i, j in enumerate(students):\n",
    "    print(i, j)"
   ]
  },
  {
   "cell_type": "code",
   "execution_count": 57,
   "id": "d6db16f5",
   "metadata": {},
   "outputs": [
    {
     "name": "stdout",
     "output_type": "stream",
     "text": [
      "DaTa sCiEnCe\n"
     ]
    }
   ],
   "source": [
    "# range(len(string)) -> 0'dan string uzunlu kadar bir seri oluşturmaya yarar\n",
    "# Ör: range(0,10) 0'dan 10'a kadar bir seri oluşturur.\n",
    "# Ör: range(30, 20, -1) 30'dan 20'ye kadar birer azalan seri oluşturur.\n",
    "def alternating(string):\n",
    "    new_string = \"\"\n",
    "    for i in range(len(string)):\n",
    "        if i % 2 == 0:\n",
    "            new_string += string[i].upper()\n",
    "        else:\n",
    "            new_string += string[i].lower()\n",
    "    print(new_string)\n",
    "    \n",
    "\n",
    "alternating(\"data science\")"
   ]
  },
  {
   "cell_type": "code",
   "execution_count": 59,
   "id": "d856b3b8",
   "metadata": {},
   "outputs": [
    {
     "name": "stdout",
     "output_type": "stream",
     "text": [
      "1000\n",
      "2000\n"
     ]
    }
   ],
   "source": [
    "# Döngü break ifadesini gördüğü zaman döngüyü durdurur\n",
    "salaries = [1000, 2000, 3000, 4000, 5000]\n",
    "for i in salaries:\n",
    "    if i == 3000:\n",
    "        break\n",
    "    print(i)"
   ]
  },
  {
   "cell_type": "code",
   "execution_count": 60,
   "id": "c3bf0133",
   "metadata": {},
   "outputs": [
    {
     "name": "stdout",
     "output_type": "stream",
     "text": [
      "1000\n",
      "2000\n",
      "4000\n",
      "5000\n"
     ]
    }
   ],
   "source": [
    "# Döngü continue ifadesini gördüğü zaman üzerinden atlar ve döngüye devam eder\n",
    "for i in salaries:\n",
    "    if i == 3000:\n",
    "        continue\n",
    "    print(i)"
   ]
  },
  {
   "cell_type": "code",
   "execution_count": 61,
   "id": "a16dce2a",
   "metadata": {},
   "outputs": [
    {
     "name": "stdout",
     "output_type": "stream",
     "text": [
      "Hi mY NaMe iS JoHn aNd i aM LeArNiNg pYtHoN\n"
     ]
    }
   ],
   "source": [
    "def alternating1(string):\n",
    "    new_string = \"\"\n",
    "    for index, i in enumerate(string):\n",
    "        if index % 2 == 0:\n",
    "            new_string += i.upper()\n",
    "        else:\n",
    "            new_string += i.lower()\n",
    "    return new_string\n",
    "\n",
    "alternating(\"hi my name is john and i am learning python\")"
   ]
  },
  {
   "cell_type": "markdown",
   "id": "9d9ff193",
   "metadata": {},
   "source": [
    "## Zip\n",
    "- Birbirinden farklı olan listeleri bir arada değerlendirme imkanı sağlar"
   ]
  },
  {
   "cell_type": "code",
   "execution_count": 62,
   "id": "4ff6a69f",
   "metadata": {},
   "outputs": [
    {
     "data": {
      "text/plain": [
       "[('John', 'math', 23),\n",
       " ('Mark', 'statistics', 30),\n",
       " ('Venessa', 'physics', 26),\n",
       " ('Miriam', 'astronomy', 22)]"
      ]
     },
     "execution_count": 62,
     "metadata": {},
     "output_type": "execute_result"
    }
   ],
   "source": [
    "students = [\"John\", \"Mark\", \"Venessa\", \"Miriam\"]\n",
    "departments = [\"math\", \"statistics\", \"physics\", \"astronomy\"]\n",
    "ages = [23, 30, 26, 22]\n",
    "list(zip(students, departments, ages))"
   ]
  },
  {
   "cell_type": "markdown",
   "id": "1a10e319",
   "metadata": {},
   "source": [
    "## Lambda\n",
    "- Kullan at fonksiyon"
   ]
  },
  {
   "cell_type": "code",
   "execution_count": 66,
   "id": "ccce169b",
   "metadata": {},
   "outputs": [
    {
     "name": "stdout",
     "output_type": "stream",
     "text": [
      "8\n"
     ]
    },
    {
     "data": {
      "text/plain": [
       "7"
      ]
     },
     "execution_count": 66,
     "metadata": {},
     "output_type": "execute_result"
    }
   ],
   "source": [
    "def summer(a, b):\n",
    "    return a + b\n",
    "\n",
    "\n",
    "print(summer(3, 5))\n",
    "# lambda ile isimsiz olarak kendi fonksiyonlarımızı oluşturabiliriz.\n",
    "new_sum = lambda a, b: a + b\n",
    "new_sum(2, 5)"
   ]
  },
  {
   "cell_type": "markdown",
   "id": "6ab54b48",
   "metadata": {},
   "source": [
    "## Map"
   ]
  },
  {
   "cell_type": "code",
   "execution_count": 68,
   "id": "4d7b081b",
   "metadata": {},
   "outputs": [
    {
     "data": {
      "text/plain": [
       "[1200.0, 2400.0, 3600.0, 4800.0, 6000.0]"
      ]
     },
     "execution_count": 68,
     "metadata": {},
     "output_type": "execute_result"
    }
   ],
   "source": [
    "salaries = [1000, 2000, 3000, 4000, 5000]\n",
    "# Map fonksiyonu belirlenen fonksiyonu, belirlenen veri yapısının tüm elemanlarına for döngüsü kullanmadan uygular\n",
    "list(map(lambda x: x * 20 / 100 + x, salaries))"
   ]
  },
  {
   "cell_type": "markdown",
   "id": "b1900747",
   "metadata": {},
   "source": [
    "## Filter"
   ]
  },
  {
   "cell_type": "code",
   "execution_count": 69,
   "id": "695906a2",
   "metadata": {},
   "outputs": [
    {
     "data": {
      "text/plain": [
       "[6, 7, 8, 9, 10]"
      ]
     },
     "execution_count": 69,
     "metadata": {},
     "output_type": "execute_result"
    }
   ],
   "source": [
    "list_store = [1, 2, 3, 4, 5, 6, 7, 8, 9, 10]\n",
    "# Filtreleme yapmamızı sağlar\n",
    "list(filter(lambda x: x % 2 == 0, list_store))\n",
    "list(filter(lambda x: x > 5, list_store))"
   ]
  },
  {
   "cell_type": "markdown",
   "id": "b15a0b86",
   "metadata": {},
   "source": [
    "## Reduce"
   ]
  },
  {
   "cell_type": "code",
   "execution_count": 70,
   "id": "0acd2218",
   "metadata": {},
   "outputs": [
    {
     "data": {
      "text/plain": [
       "10"
      ]
     },
     "execution_count": 70,
     "metadata": {},
     "output_type": "execute_result"
    }
   ],
   "source": [
    "# Reduce\n",
    "from functools import reduce\n",
    "list_store = [1,2,3,4]\n",
    "reduce(lambda a, b: a + b, list_store)"
   ]
  },
  {
   "cell_type": "code",
   "execution_count": null,
   "id": "00351f14",
   "metadata": {},
   "outputs": [],
   "source": []
  },
  {
   "cell_type": "code",
   "execution_count": null,
   "id": "dfa057f8",
   "metadata": {},
   "outputs": [],
   "source": []
  },
  {
   "cell_type": "code",
   "execution_count": 8,
   "id": "bca97193",
   "metadata": {},
   "outputs": [
    {
     "name": "stdout",
     "output_type": "stream",
     "text": [
      "[11, 17, 18, 21, 32, 45, 54, 65]\n"
     ]
    }
   ],
   "source": [
    "l = [21, 54, 11, 32, 18, 17, 65, 45]\n",
    "\n",
    "for i in range(len(l)):\n",
    "    smallest = i\n",
    "    for j in range((i+1), len(l)):\n",
    "        if l[smallest] > l[j]:\n",
    "            smallest = j\n",
    "    (l[i], l[smallest]) = (l[smallest], l[i]) \n",
    "\n",
    "print(l)"
   ]
  }
 ],
 "metadata": {
  "kernelspec": {
   "display_name": "Python 3 (ipykernel)",
   "language": "python",
   "name": "python3"
  },
  "language_info": {
   "codemirror_mode": {
    "name": "ipython",
    "version": 3
   },
   "file_extension": ".py",
   "mimetype": "text/x-python",
   "name": "python",
   "nbconvert_exporter": "python",
   "pygments_lexer": "ipython3",
   "version": "3.9.12"
  }
 },
 "nbformat": 4,
 "nbformat_minor": 5
}
