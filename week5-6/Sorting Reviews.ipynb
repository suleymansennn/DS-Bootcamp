{
 "cells": [
  {
   "cell_type": "markdown",
   "id": "1a96396d-c131-469f-9f17-c338658b2231",
   "metadata": {},
   "source": [
    "# Sorting Reviews"
   ]
  },
  {
   "cell_type": "code",
   "execution_count": 1,
   "id": "55855a23-7e6c-4a48-a0a7-8a5ec1761f3e",
   "metadata": {},
   "outputs": [],
   "source": [
    "import pandas as pd\n",
    "import math\n",
    "import scipy.stats as st\n",
    "\n",
    "pd.set_option(\"display.max_columns\", None)\n",
    "pd.set_option(\"display.expand_frame_repr\", False)\n",
    "pd.set_option(\"display.float_format\", lambda x: \"%.5f\" % x)"
   ]
  },
  {
   "cell_type": "markdown",
   "id": "e8c31478-69f0-4394-aaee-3e3645e858ed",
   "metadata": {},
   "source": [
    "## Up-Down Diff Score = up ratings - down ratings\n",
    "- Review 1: 600 up 400 down total 1000\n",
    "- Review 2: 5500 up 4500 down total 10000\n",
    "#### Yüzdelikler kaçırıldığı için kullanılmaz"
   ]
  },
  {
   "cell_type": "code",
   "execution_count": 15,
   "id": "487e0261-eeac-4922-8af8-fc0c17f3289d",
   "metadata": {},
   "outputs": [],
   "source": [
    "def score_up_down_diff(up, down):\n",
    "    return up - down"
   ]
  },
  {
   "cell_type": "code",
   "execution_count": 16,
   "id": "7ffffcff-53e9-4d9c-bf9a-dd823f182fc5",
   "metadata": {},
   "outputs": [
    {
     "data": {
      "text/plain": [
       "200"
      ]
     },
     "execution_count": 16,
     "metadata": {},
     "output_type": "execute_result"
    }
   ],
   "source": [
    "# Review 1 Score:\n",
    "score_up_down_diff(600, 400)"
   ]
  },
  {
   "cell_type": "code",
   "execution_count": 17,
   "id": "650d285d-b2e1-4530-ac8c-4f3b119e9e0f",
   "metadata": {},
   "outputs": [
    {
     "data": {
      "text/plain": [
       "1000"
      ]
     },
     "execution_count": 17,
     "metadata": {},
     "output_type": "execute_result"
    }
   ],
   "source": [
    "# Review 2 Score:\n",
    "score_up_down_diff(5500, 4500)"
   ]
  },
  {
   "cell_type": "markdown",
   "id": "0aa6ba09-0cef-4b55-9805-9a688e1d5920",
   "metadata": {},
   "source": [
    "## Average Rating = up ratings / down ratings"
   ]
  },
  {
   "cell_type": "code",
   "execution_count": 18,
   "id": "86ac7cf2-882e-4bc1-a4d2-8a4e48713387",
   "metadata": {},
   "outputs": [],
   "source": [
    "def score_average_rating(up, down):\n",
    "    if up + down == 0:\n",
    "        return 0 \n",
    "    return up / (up+down)"
   ]
  },
  {
   "cell_type": "code",
   "execution_count": 19,
   "id": "08520525-e76c-4781-b8de-6ee2f0ac554c",
   "metadata": {},
   "outputs": [
    {
     "data": {
      "text/plain": [
       "0.6"
      ]
     },
     "execution_count": 19,
     "metadata": {},
     "output_type": "execute_result"
    }
   ],
   "source": [
    "# Review 1 Score:\n",
    "score_average_rating(600, 400)"
   ]
  },
  {
   "cell_type": "code",
   "execution_count": 20,
   "id": "1746f0ab-e267-4037-b59a-254ad1f94e5d",
   "metadata": {},
   "outputs": [
    {
     "data": {
      "text/plain": [
       "0.55"
      ]
     },
     "execution_count": 20,
     "metadata": {},
     "output_type": "execute_result"
    }
   ],
   "source": [
    "# Review 2 Score:\n",
    "score_average_rating(5500, 4500)"
   ]
  },
  {
   "cell_type": "markdown",
   "id": "491b9456-f013-4540-a767-ee61225bb747",
   "metadata": {},
   "source": [
    "## Wilson Lower Bound Score\n",
    "- Yorumları sıralama imkanı sağlar."
   ]
  },
  {
   "cell_type": "code",
   "execution_count": 21,
   "id": "91e1948c-7ba7-4f8e-8d41-22e12c628bda",
   "metadata": {},
   "outputs": [
    {
     "data": {
      "text/plain": [
       "0.5693094295142663"
      ]
     },
     "execution_count": 21,
     "metadata": {},
     "output_type": "execute_result"
    }
   ],
   "source": [
    "def wilson_lower_bound(up, down, confidence=0.95):\n",
    "    \"\"\"\n",
    "    Wilson Lower Bound Score hesapla\n",
    "\n",
    "    - Bernoulli parametresi p için hesaplanacak güven aralığının alt sınırı WLB skoru olarak kabul edilir.\n",
    "    - Hesaplanacak skor ürün sıralaması için kullanılır.\n",
    "    - Not:\n",
    "    Eğer skorlar 1-5 arasıdaysa 1-3 negatif, 4-5 pozitif olarak işaretlenir ve bernoulli'ye uygun hale getirilebilir.\n",
    "    Bu beraberinde bazı problemleri de getirir. Bu sebeple bayesian average rating yapmak gerekir.\n",
    "\n",
    "    Parameters\n",
    "    ----------\n",
    "    up: int\n",
    "        up count\n",
    "    down: int\n",
    "        down count\n",
    "    confidence: float\n",
    "        confidence\n",
    "\n",
    "    Returns\n",
    "    -------\n",
    "    wilson score: float\n",
    "\n",
    "    \"\"\"\n",
    "    n = up + down\n",
    "    if n == 0:\n",
    "        return 0\n",
    "    z = st.norm.ppf(1 - (1 - confidence) / 2)\n",
    "    phat = 1.0 * up / n\n",
    "    return (phat + z * z / (2 * n) - z * math.sqrt((phat * (1 - phat) + z * z / (4 * n)) / n)) / (1 + z * z / n)\n",
    "\n",
    "\n",
    "wilson_lower_bound(600, 400)"
   ]
  },
  {
   "cell_type": "code",
   "execution_count": 22,
   "id": "362c42b6-dae5-46a9-99ea-c36cf284eb7f",
   "metadata": {},
   "outputs": [
    {
     "data": {
      "text/plain": [
       "0.5402319557715324"
      ]
     },
     "execution_count": 22,
     "metadata": {},
     "output_type": "execute_result"
    }
   ],
   "source": [
    "wilson_lower_bound(5500, 4500)"
   ]
  },
  {
   "cell_type": "code",
   "execution_count": 23,
   "id": "6197bb0e-daf9-4840-af7e-568e032b50b3",
   "metadata": {},
   "outputs": [
    {
     "data": {
      "text/plain": [
       "0.3423802275066531"
      ]
     },
     "execution_count": 23,
     "metadata": {},
     "output_type": "execute_result"
    }
   ],
   "source": [
    "wilson_lower_bound(2, 0)"
   ]
  },
  {
   "cell_type": "code",
   "execution_count": 24,
   "id": "2ff1b2e7-0293-4757-b44d-ab9e38038d25",
   "metadata": {},
   "outputs": [
    {
     "data": {
      "text/plain": [
       "0.9460328420055449"
      ]
     },
     "execution_count": 24,
     "metadata": {},
     "output_type": "execute_result"
    }
   ],
   "source": [
    "wilson_lower_bound(100, 1)"
   ]
  },
  {
   "cell_type": "code",
   "execution_count": 25,
   "id": "688173cc-4d32-41c0-85eb-bba93de6bf40",
   "metadata": {},
   "outputs": [
    {
     "data": {
      "text/html": [
       "<div>\n",
       "<style scoped>\n",
       "    .dataframe tbody tr th:only-of-type {\n",
       "        vertical-align: middle;\n",
       "    }\n",
       "\n",
       "    .dataframe tbody tr th {\n",
       "        vertical-align: top;\n",
       "    }\n",
       "\n",
       "    .dataframe thead th {\n",
       "        text-align: right;\n",
       "    }\n",
       "</style>\n",
       "<table border=\"1\" class=\"dataframe\">\n",
       "  <thead>\n",
       "    <tr style=\"text-align: right;\">\n",
       "      <th></th>\n",
       "      <th>up</th>\n",
       "      <th>down</th>\n",
       "      <th>score_pos_neg_diff</th>\n",
       "      <th>score_average_rating</th>\n",
       "      <th>wilson_lower_bound</th>\n",
       "    </tr>\n",
       "  </thead>\n",
       "  <tbody>\n",
       "    <tr>\n",
       "      <th>11</th>\n",
       "      <td>147</td>\n",
       "      <td>2</td>\n",
       "      <td>145</td>\n",
       "      <td>0.98658</td>\n",
       "      <td>0.95238</td>\n",
       "    </tr>\n",
       "    <tr>\n",
       "      <th>12</th>\n",
       "      <td>61</td>\n",
       "      <td>1</td>\n",
       "      <td>60</td>\n",
       "      <td>0.98387</td>\n",
       "      <td>0.91413</td>\n",
       "    </tr>\n",
       "    <tr>\n",
       "      <th>1</th>\n",
       "      <td>70</td>\n",
       "      <td>2</td>\n",
       "      <td>68</td>\n",
       "      <td>0.97222</td>\n",
       "      <td>0.90426</td>\n",
       "    </tr>\n",
       "    <tr>\n",
       "      <th>21</th>\n",
       "      <td>68</td>\n",
       "      <td>2</td>\n",
       "      <td>66</td>\n",
       "      <td>0.97143</td>\n",
       "      <td>0.90168</td>\n",
       "    </tr>\n",
       "    <tr>\n",
       "      <th>18</th>\n",
       "      <td>54</td>\n",
       "      <td>2</td>\n",
       "      <td>52</td>\n",
       "      <td>0.96429</td>\n",
       "      <td>0.87881</td>\n",
       "    </tr>\n",
       "    <tr>\n",
       "      <th>15</th>\n",
       "      <td>40</td>\n",
       "      <td>1</td>\n",
       "      <td>39</td>\n",
       "      <td>0.97561</td>\n",
       "      <td>0.87405</td>\n",
       "    </tr>\n",
       "    <tr>\n",
       "      <th>13</th>\n",
       "      <td>30</td>\n",
       "      <td>1</td>\n",
       "      <td>29</td>\n",
       "      <td>0.96774</td>\n",
       "      <td>0.83806</td>\n",
       "    </tr>\n",
       "    <tr>\n",
       "      <th>16</th>\n",
       "      <td>37</td>\n",
       "      <td>2</td>\n",
       "      <td>35</td>\n",
       "      <td>0.94872</td>\n",
       "      <td>0.83114</td>\n",
       "    </tr>\n",
       "    <tr>\n",
       "      <th>19</th>\n",
       "      <td>18</td>\n",
       "      <td>0</td>\n",
       "      <td>18</td>\n",
       "      <td>1.00000</td>\n",
       "      <td>0.82412</td>\n",
       "    </tr>\n",
       "    <tr>\n",
       "      <th>17</th>\n",
       "      <td>61</td>\n",
       "      <td>6</td>\n",
       "      <td>55</td>\n",
       "      <td>0.91045</td>\n",
       "      <td>0.81807</td>\n",
       "    </tr>\n",
       "    <tr>\n",
       "      <th>0</th>\n",
       "      <td>15</td>\n",
       "      <td>0</td>\n",
       "      <td>15</td>\n",
       "      <td>1.00000</td>\n",
       "      <td>0.79612</td>\n",
       "    </tr>\n",
       "    <tr>\n",
       "      <th>9</th>\n",
       "      <td>52</td>\n",
       "      <td>8</td>\n",
       "      <td>44</td>\n",
       "      <td>0.86667</td>\n",
       "      <td>0.75835</td>\n",
       "    </tr>\n",
       "    <tr>\n",
       "      <th>7</th>\n",
       "      <td>37</td>\n",
       "      <td>5</td>\n",
       "      <td>32</td>\n",
       "      <td>0.88095</td>\n",
       "      <td>0.75000</td>\n",
       "    </tr>\n",
       "    <tr>\n",
       "      <th>14</th>\n",
       "      <td>23</td>\n",
       "      <td>5</td>\n",
       "      <td>18</td>\n",
       "      <td>0.82143</td>\n",
       "      <td>0.64409</td>\n",
       "    </tr>\n",
       "    <tr>\n",
       "      <th>2</th>\n",
       "      <td>14</td>\n",
       "      <td>2</td>\n",
       "      <td>12</td>\n",
       "      <td>0.87500</td>\n",
       "      <td>0.63977</td>\n",
       "    </tr>\n",
       "    <tr>\n",
       "      <th>20</th>\n",
       "      <td>12</td>\n",
       "      <td>2</td>\n",
       "      <td>10</td>\n",
       "      <td>0.85714</td>\n",
       "      <td>0.60059</td>\n",
       "    </tr>\n",
       "    <tr>\n",
       "      <th>10</th>\n",
       "      <td>28</td>\n",
       "      <td>12</td>\n",
       "      <td>16</td>\n",
       "      <td>0.70000</td>\n",
       "      <td>0.54570</td>\n",
       "    </tr>\n",
       "    <tr>\n",
       "      <th>5</th>\n",
       "      <td>5</td>\n",
       "      <td>2</td>\n",
       "      <td>3</td>\n",
       "      <td>0.71429</td>\n",
       "      <td>0.35893</td>\n",
       "    </tr>\n",
       "    <tr>\n",
       "      <th>8</th>\n",
       "      <td>21</td>\n",
       "      <td>23</td>\n",
       "      <td>-2</td>\n",
       "      <td>0.47727</td>\n",
       "      <td>0.33755</td>\n",
       "    </tr>\n",
       "    <tr>\n",
       "      <th>6</th>\n",
       "      <td>8</td>\n",
       "      <td>6</td>\n",
       "      <td>2</td>\n",
       "      <td>0.57143</td>\n",
       "      <td>0.32591</td>\n",
       "    </tr>\n",
       "    <tr>\n",
       "      <th>3</th>\n",
       "      <td>4</td>\n",
       "      <td>2</td>\n",
       "      <td>2</td>\n",
       "      <td>0.66667</td>\n",
       "      <td>0.29999</td>\n",
       "    </tr>\n",
       "    <tr>\n",
       "      <th>4</th>\n",
       "      <td>2</td>\n",
       "      <td>15</td>\n",
       "      <td>-13</td>\n",
       "      <td>0.11765</td>\n",
       "      <td>0.03288</td>\n",
       "    </tr>\n",
       "  </tbody>\n",
       "</table>\n",
       "</div>"
      ],
      "text/plain": [
       "     up  down  score_pos_neg_diff  score_average_rating  wilson_lower_bound\n",
       "11  147     2                 145               0.98658             0.95238\n",
       "12   61     1                  60               0.98387             0.91413\n",
       "1    70     2                  68               0.97222             0.90426\n",
       "21   68     2                  66               0.97143             0.90168\n",
       "18   54     2                  52               0.96429             0.87881\n",
       "15   40     1                  39               0.97561             0.87405\n",
       "13   30     1                  29               0.96774             0.83806\n",
       "16   37     2                  35               0.94872             0.83114\n",
       "19   18     0                  18               1.00000             0.82412\n",
       "17   61     6                  55               0.91045             0.81807\n",
       "0    15     0                  15               1.00000             0.79612\n",
       "9    52     8                  44               0.86667             0.75835\n",
       "7    37     5                  32               0.88095             0.75000\n",
       "14   23     5                  18               0.82143             0.64409\n",
       "2    14     2                  12               0.87500             0.63977\n",
       "20   12     2                  10               0.85714             0.60059\n",
       "10   28    12                  16               0.70000             0.54570\n",
       "5     5     2                   3               0.71429             0.35893\n",
       "8    21    23                  -2               0.47727             0.33755\n",
       "6     8     6                   2               0.57143             0.32591\n",
       "3     4     2                   2               0.66667             0.29999\n",
       "4     2    15                 -13               0.11765             0.03288"
      ]
     },
     "execution_count": 25,
     "metadata": {},
     "output_type": "execute_result"
    }
   ],
   "source": [
    "###################################################\n",
    "# Case Study\n",
    "###################################################\n",
    "\n",
    "up = [15, 70, 14, 4, 2, 5, 8, 37, 21, 52, 28, 147, 61, 30, 23, 40, 37, 61, 54, 18, 12, 68]\n",
    "down = [0, 2, 2, 2, 15, 2, 6, 5, 23, 8, 12, 2, 1, 1, 5, 1, 2, 6, 2, 0, 2, 2]\n",
    "comments = pd.DataFrame({\"up\": up, \"down\": down})\n",
    "\n",
    "\n",
    "\n",
    "# score_pos_neg_diff\n",
    "comments[\"score_pos_neg_diff\"] = comments.apply(lambda x: score_up_down_diff(x[\"up\"],\n",
    "                                                                             x[\"down\"]), axis=1)\n",
    "\n",
    "# score_average_rating\n",
    "comments[\"score_average_rating\"] = comments.apply(lambda x: score_average_rating(x[\"up\"], x[\"down\"]), axis=1)\n",
    "\n",
    "# wilson_lower_bound\n",
    "comments[\"wilson_lower_bound\"] = comments.apply(lambda x: wilson_lower_bound(x[\"up\"], x[\"down\"]), axis=1)\n",
    "\n",
    "\n",
    "\n",
    "comments.sort_values(\"wilson_lower_bound\", ascending=False)"
   ]
  },
  {
   "cell_type": "code",
   "execution_count": null,
   "id": "98c70912-6dbf-4d6f-90c2-dadd4ecbe2c7",
   "metadata": {},
   "outputs": [],
   "source": []
  }
 ],
 "metadata": {
  "kernelspec": {
   "display_name": "Python 3 (ipykernel)",
   "language": "python",
   "name": "python3"
  },
  "language_info": {
   "codemirror_mode": {
    "name": "ipython",
    "version": 3
   },
   "file_extension": ".py",
   "mimetype": "text/x-python",
   "name": "python",
   "nbconvert_exporter": "python",
   "pygments_lexer": "ipython3",
   "version": "3.9.13"
  }
 },
 "nbformat": 4,
 "nbformat_minor": 5
}
