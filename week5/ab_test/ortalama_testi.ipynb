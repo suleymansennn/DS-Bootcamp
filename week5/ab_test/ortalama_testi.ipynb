{
 "cells": [
  {
   "cell_type": "markdown",
   "id": "a1a9b5ec-43d5-4f9d-b2e3-192239d04773",
   "metadata": {
    "pycharm": {
     "name": "#%% md\n"
    }
   },
   "source": [
    "# Temel İstatistik Kavramları"
   ]
  },
  {
   "cell_type": "code",
   "execution_count": 1,
   "id": "cddbeb63-26c0-4a03-a02c-02adc6b8d5c1",
   "metadata": {
    "pycharm": {
     "name": "#%%\n"
    }
   },
   "outputs": [],
   "source": [
    "import itertools\n",
    "import numpy as np\n",
    "import pandas as pd\n",
    "import matplotlib.pyplot as plt\n",
    "import seaborn as sns\n",
    "import statsmodels.stats.api as sms\n",
    "from scipy.stats import ttest_1samp, shapiro, levene, ttest_ind, mannwhitneyu, pearsonr, spearmanr, kendalltau, f_oneway, kruskal\n",
    "from statsmodels.stats.proportion import proportions_ztest\n",
    "\n",
    "pd.set_option(\"display.max_columns\", None)\n",
    "pd.set_option(\"display.float_format\", lambda x: \"%.5f\" % x)"
   ]
  },
  {
   "cell_type": "markdown",
   "id": "b41e43de-e9bd-483c-91d7-f988963870be",
   "metadata": {
    "pycharm": {
     "name": "#%% md\n"
    }
   },
   "source": [
    "## Sampling (Örnekleme)"
   ]
  },
  {
   "cell_type": "code",
   "execution_count": 2,
   "id": "374d0f95-1b8b-4155-b6d1-990f5da8351a",
   "metadata": {
    "pycharm": {
     "name": "#%%\n"
    }
   },
   "outputs": [
    {
     "data": {
      "text/plain": [
       "39.207"
      ]
     },
     "execution_count": 2,
     "metadata": {},
     "output_type": "execute_result"
    }
   ],
   "source": [
    "populasyon = np.random.randint(0, 80, 10000)\n",
    "populasyon.mean()"
   ]
  },
  {
   "cell_type": "code",
   "execution_count": 3,
   "id": "7c044592-e849-47e2-a149-167d1d9b52dd",
   "metadata": {
    "pycharm": {
     "name": "#%%\n"
    }
   },
   "outputs": [
    {
     "data": {
      "text/plain": [
       "39.05"
      ]
     },
     "execution_count": 3,
     "metadata": {},
     "output_type": "execute_result"
    }
   ],
   "source": [
    "np.random.seed(115)\n",
    "orneklem = np.random.choice(a=populasyon, size=100)\n",
    "orneklem.mean()"
   ]
  },
  {
   "cell_type": "markdown",
   "id": "9d11f6c0-3b86-41de-954b-460cdf91ae0e",
   "metadata": {
    "pycharm": {
     "name": "#%% md\n"
    }
   },
   "source": [
    "- Uygun şartlar altında ve ana kitleyi iyi temsil ettiğini varsaydığımız örneklemin bize sunduğu daha az veri ile genellemeler yapabilmektir."
   ]
  },
  {
   "cell_type": "code",
   "execution_count": 4,
   "id": "26d1c5cf-28fd-48ff-89a0-fecde3d16247",
   "metadata": {
    "pycharm": {
     "name": "#%%\n"
    }
   },
   "outputs": [
    {
     "data": {
      "text/plain": [
       "39.666999999999994"
      ]
     },
     "execution_count": 4,
     "metadata": {},
     "output_type": "execute_result"
    }
   ],
   "source": [
    "np.random.seed(10)\n",
    "\n",
    "orneklem1 = np.random.choice(a=populasyon, size=100)\n",
    "orneklem2 = np.random.choice(a=populasyon, size=100)\n",
    "orneklem3 = np.random.choice(a=populasyon, size=100)\n",
    "orneklem4 = np.random.choice(a=populasyon, size=100)\n",
    "orneklem5 = np.random.choice(a=populasyon, size=100)\n",
    "orneklem6 = np.random.choice(a=populasyon, size=100)\n",
    "orneklem7 = np.random.choice(a=populasyon, size=100)\n",
    "orneklem8 = np.random.choice(a=populasyon, size=100)\n",
    "orneklem9 = np.random.choice(a=populasyon, size=100)\n",
    "orneklem10 = np.random.choice(a=populasyon, size=100)\n",
    "\n",
    "(orneklem1.mean() + orneklem2.mean() + orneklem3.mean() + orneklem4.mean() + orneklem5.mean() + \n",
    " orneklem6.mean() + orneklem7.mean() + orneklem8.mean() + orneklem9.mean() + orneklem10.mean()) / 10"
   ]
  },
  {
   "cell_type": "markdown",
   "id": "2e76144c-ba16-4f4e-8f40-1bf2c0623a60",
   "metadata": {
    "pycharm": {
     "name": "#%% md\n"
    }
   },
   "source": [
    "## Betimsel İstatistikler (Descriptive Statistics)"
   ]
  },
  {
   "cell_type": "code",
   "execution_count": 5,
   "id": "a827e670-06af-45f9-938d-f485b93525e8",
   "metadata": {
    "pycharm": {
     "name": "#%%\n"
    }
   },
   "outputs": [
    {
     "data": {
      "text/html": [
       "<div>\n",
       "<style scoped>\n",
       "    .dataframe tbody tr th:only-of-type {\n",
       "        vertical-align: middle;\n",
       "    }\n",
       "\n",
       "    .dataframe tbody tr th {\n",
       "        vertical-align: top;\n",
       "    }\n",
       "\n",
       "    .dataframe thead th {\n",
       "        text-align: right;\n",
       "    }\n",
       "</style>\n",
       "<table border=\"1\" class=\"dataframe\">\n",
       "  <thead>\n",
       "    <tr style=\"text-align: right;\">\n",
       "      <th></th>\n",
       "      <th>count</th>\n",
       "      <th>mean</th>\n",
       "      <th>std</th>\n",
       "      <th>min</th>\n",
       "      <th>25%</th>\n",
       "      <th>50%</th>\n",
       "      <th>75%</th>\n",
       "      <th>max</th>\n",
       "    </tr>\n",
       "  </thead>\n",
       "  <tbody>\n",
       "    <tr>\n",
       "      <th>total_bill</th>\n",
       "      <td>244.00000</td>\n",
       "      <td>19.78594</td>\n",
       "      <td>8.90241</td>\n",
       "      <td>3.07000</td>\n",
       "      <td>13.34750</td>\n",
       "      <td>17.79500</td>\n",
       "      <td>24.12750</td>\n",
       "      <td>50.81000</td>\n",
       "    </tr>\n",
       "    <tr>\n",
       "      <th>tip</th>\n",
       "      <td>244.00000</td>\n",
       "      <td>2.99828</td>\n",
       "      <td>1.38364</td>\n",
       "      <td>1.00000</td>\n",
       "      <td>2.00000</td>\n",
       "      <td>2.90000</td>\n",
       "      <td>3.56250</td>\n",
       "      <td>10.00000</td>\n",
       "    </tr>\n",
       "    <tr>\n",
       "      <th>size</th>\n",
       "      <td>244.00000</td>\n",
       "      <td>2.56967</td>\n",
       "      <td>0.95110</td>\n",
       "      <td>1.00000</td>\n",
       "      <td>2.00000</td>\n",
       "      <td>2.00000</td>\n",
       "      <td>3.00000</td>\n",
       "      <td>6.00000</td>\n",
       "    </tr>\n",
       "  </tbody>\n",
       "</table>\n",
       "</div>"
      ],
      "text/plain": [
       "               count     mean     std     min      25%      50%      75%  \\\n",
       "total_bill 244.00000 19.78594 8.90241 3.07000 13.34750 17.79500 24.12750   \n",
       "tip        244.00000  2.99828 1.38364 1.00000  2.00000  2.90000  3.56250   \n",
       "size       244.00000  2.56967 0.95110 1.00000  2.00000  2.00000  3.00000   \n",
       "\n",
       "                max  \n",
       "total_bill 50.81000  \n",
       "tip        10.00000  \n",
       "size        6.00000  "
      ]
     },
     "execution_count": 5,
     "metadata": {},
     "output_type": "execute_result"
    }
   ],
   "source": [
    "df = sns.load_dataset(\"tips\")\n",
    "df.describe().T"
   ]
  },
  {
   "cell_type": "markdown",
   "id": "e022edcd-f6e9-42be-9dd1-47d27260785e",
   "metadata": {
    "pycharm": {
     "name": "#%% md\n"
    }
   },
   "source": [
    "## Güven Aralıkları (Confidence Intervals)\n",
    "- Anakütle parametresinin tahmini değerini kapsayabilecek iki sayıdan oluşan bir aralık bulunmasıdır."
   ]
  },
  {
   "cell_type": "code",
   "execution_count": 6,
   "id": "df547fe5-2d90-4b4d-86f5-9e771279557c",
   "metadata": {
    "pycharm": {
     "name": "#%%\n"
    }
   },
   "outputs": [
    {
     "data": {
      "text/plain": [
       "(18.663331704358473, 20.908553541543167)"
      ]
     },
     "execution_count": 6,
     "metadata": {},
     "output_type": "execute_result"
    }
   ],
   "source": [
    "sms.DescrStatsW(df[\"total_bill\"]).tconfint_mean()"
   ]
  },
  {
   "cell_type": "markdown",
   "id": "873eb497-b10e-4c26-99a6-aa2033ee2b8a",
   "metadata": {
    "pycharm": {
     "name": "#%% md\n"
    }
   },
   "source": [
    "- Hesap ortalamaları istatiski olarak %5 yanılma payı ile 18 ile 21 arasındadır."
   ]
  },
  {
   "cell_type": "code",
   "execution_count": 7,
   "id": "95a92ed0-ee73-402f-963b-006f4c92ddba",
   "metadata": {
    "pycharm": {
     "name": "#%%\n"
    }
   },
   "outputs": [
    {
     "data": {
      "text/plain": [
       "(2.8237993062818205, 3.172758070767359)"
      ]
     },
     "execution_count": 7,
     "metadata": {},
     "output_type": "execute_result"
    }
   ],
   "source": [
    "sms.DescrStatsW(df[\"tip\"]).tconfint_mean()"
   ]
  },
  {
   "cell_type": "code",
   "execution_count": 8,
   "id": "74f46111-4559-4896-9c66-0d1c250d73a1",
   "metadata": {
    "pycharm": {
     "name": "#%%\n"
    }
   },
   "outputs": [
    {
     "data": {
      "text/plain": [
       "(28.631790041821507, 30.766445252296133)"
      ]
     },
     "execution_count": 8,
     "metadata": {},
     "output_type": "execute_result"
    }
   ],
   "source": [
    "df = sns.load_dataset(\"titanic\")\n",
    "sms.DescrStatsW(df[\"age\"].dropna()).tconfint_mean()"
   ]
  },
  {
   "cell_type": "code",
   "execution_count": 9,
   "id": "807421d3-e469-43ab-a7d4-704ecfb5324a",
   "metadata": {
    "pycharm": {
     "name": "#%%\n"
    }
   },
   "outputs": [
    {
     "data": {
      "text/plain": [
       "(28.93683123456734, 35.47158470258195)"
      ]
     },
     "execution_count": 9,
     "metadata": {},
     "output_type": "execute_result"
    }
   ],
   "source": [
    "sms.DescrStatsW(df[\"fare\"].dropna()).tconfint_mean()"
   ]
  },
  {
   "cell_type": "markdown",
   "id": "19d2c716-bbee-4008-a5af-f624300f26b1",
   "metadata": {
    "pycharm": {
     "name": "#%% md\n"
    }
   },
   "source": [
    "## Korelasyon (Correlation)\n",
    "- Değişkenler arasındaki ilişki, bu ilişkinin yönü ve şiddeti ile ilgili bilgiler sağlayan istatistiksel bir yöntemdir."
   ]
  },
  {
   "cell_type": "code",
   "execution_count": 10,
   "id": "8a3f649c-342f-4b4e-8987-143093fcab16",
   "metadata": {
    "pycharm": {
     "name": "#%%\n"
    }
   },
   "outputs": [
    {
     "data": {
      "text/html": [
       "<div>\n",
       "<style scoped>\n",
       "    .dataframe tbody tr th:only-of-type {\n",
       "        vertical-align: middle;\n",
       "    }\n",
       "\n",
       "    .dataframe tbody tr th {\n",
       "        vertical-align: top;\n",
       "    }\n",
       "\n",
       "    .dataframe thead th {\n",
       "        text-align: right;\n",
       "    }\n",
       "</style>\n",
       "<table border=\"1\" class=\"dataframe\">\n",
       "  <thead>\n",
       "    <tr style=\"text-align: right;\">\n",
       "      <th></th>\n",
       "      <th>total_bill</th>\n",
       "      <th>tip</th>\n",
       "      <th>sex</th>\n",
       "      <th>smoker</th>\n",
       "      <th>day</th>\n",
       "      <th>time</th>\n",
       "      <th>size</th>\n",
       "    </tr>\n",
       "  </thead>\n",
       "  <tbody>\n",
       "    <tr>\n",
       "      <th>0</th>\n",
       "      <td>16.99000</td>\n",
       "      <td>1.01000</td>\n",
       "      <td>Female</td>\n",
       "      <td>No</td>\n",
       "      <td>Sun</td>\n",
       "      <td>Dinner</td>\n",
       "      <td>2</td>\n",
       "    </tr>\n",
       "    <tr>\n",
       "      <th>1</th>\n",
       "      <td>10.34000</td>\n",
       "      <td>1.66000</td>\n",
       "      <td>Male</td>\n",
       "      <td>No</td>\n",
       "      <td>Sun</td>\n",
       "      <td>Dinner</td>\n",
       "      <td>3</td>\n",
       "    </tr>\n",
       "    <tr>\n",
       "      <th>2</th>\n",
       "      <td>21.01000</td>\n",
       "      <td>3.50000</td>\n",
       "      <td>Male</td>\n",
       "      <td>No</td>\n",
       "      <td>Sun</td>\n",
       "      <td>Dinner</td>\n",
       "      <td>3</td>\n",
       "    </tr>\n",
       "    <tr>\n",
       "      <th>3</th>\n",
       "      <td>23.68000</td>\n",
       "      <td>3.31000</td>\n",
       "      <td>Male</td>\n",
       "      <td>No</td>\n",
       "      <td>Sun</td>\n",
       "      <td>Dinner</td>\n",
       "      <td>2</td>\n",
       "    </tr>\n",
       "    <tr>\n",
       "      <th>4</th>\n",
       "      <td>24.59000</td>\n",
       "      <td>3.61000</td>\n",
       "      <td>Female</td>\n",
       "      <td>No</td>\n",
       "      <td>Sun</td>\n",
       "      <td>Dinner</td>\n",
       "      <td>4</td>\n",
       "    </tr>\n",
       "  </tbody>\n",
       "</table>\n",
       "</div>"
      ],
      "text/plain": [
       "   total_bill     tip     sex smoker  day    time  size\n",
       "0    16.99000 1.01000  Female     No  Sun  Dinner     2\n",
       "1    10.34000 1.66000    Male     No  Sun  Dinner     3\n",
       "2    21.01000 3.50000    Male     No  Sun  Dinner     3\n",
       "3    23.68000 3.31000    Male     No  Sun  Dinner     2\n",
       "4    24.59000 3.61000  Female     No  Sun  Dinner     4"
      ]
     },
     "execution_count": 10,
     "metadata": {},
     "output_type": "execute_result"
    }
   ],
   "source": [
    "df = sns.load_dataset(\"tips\")\n",
    "df.head()"
   ]
  },
  {
   "cell_type": "code",
   "execution_count": 11,
   "id": "82862147-0dc3-4cef-aaa9-a898ae7d2e1b",
   "metadata": {
    "pycharm": {
     "name": "#%%\n"
    }
   },
   "outputs": [],
   "source": [
    "df[\"total_bill\"] = df[\"total_bill\"] - df[\"tip\"]"
   ]
  },
  {
   "cell_type": "code",
   "execution_count": 12,
   "id": "c44c0156-ffe2-41a8-9071-664cc7e30c6f",
   "metadata": {
    "pycharm": {
     "name": "#%%\n"
    }
   },
   "outputs": [
    {
     "data": {
      "image/png": "[encoded data removed]",
      "text/plain": [
       "<Figure size 640x480 with 1 Axes>"
      ]
     },
     "metadata": {},
     "output_type": "display_data"
    }
   ],
   "source": [
    "sns.scatterplot(data=df, x=\"tip\", y=\"total_bill\")\n",
    "plt.show()"
   ]
  },
  {
   "cell_type": "code",
   "execution_count": 13,
   "id": "31b8f694-ac72-4812-b5e0-afdb647dff40",
   "metadata": {
    "pycharm": {
     "name": "#%%\n"
    }
   },
   "outputs": [
    {
     "data": {
      "text/plain": [
       "0.5766634471096382"
      ]
     },
     "execution_count": 13,
     "metadata": {},
     "output_type": "execute_result"
    }
   ],
   "source": [
    " df[\"tip\"].corr(df[\"total_bill\"])"
   ]
  },
  {
   "attachments": {
    "da044b7e-a84c-4781-8dd5-88491049750e.png": {
     "image/png": "[encoded data removed]"
    }
   },
   "cell_type": "markdown",
   "id": "e67f8777-1062-4967-8dd9-093ae2f960cb",
   "metadata": {
    "pycharm": {
     "name": "#%% md\n"
    }
   },
   "source": [
    "## Hipotez Testleri\n",
    "- Hipotez : Bir inanışı, savı test etmek için kullanılan istatistiksel yöntemlerdir.\n",
    "- Grup karşılaştırmalarında temel amaç olası farklılıkların şans eseri ortaya çıkığ çıkmadığını göstermeye çalışmaktır.\n",
    "### AB Testi Bağımsız İki Örneklem T Testi\n",
    "- İki grup ortalaması arasında karşılaştırma yapılmak istenildiğinde kullanılır.\n",
    "![Screenshot 2022-11-04 233950.png](attachment:da044b7e-a84c-4781-8dd5-88491049750e.png)\n",
    "\n",
    "- !! Normallik Varsayımı\n",
    "- !! Varyans Homejenliği\n",
    "\n",
    "1. Hipotez kur\n",
    "2. Varsayımları incele\n",
    "3. P-Value incele"
   ]
  },
  {
   "cell_type": "markdown",
   "id": "dacf0e9d-9412-4fc5-9b79-1a3c2cc44e1f",
   "metadata": {
    "pycharm": {
     "name": "#%% md\n"
    }
   },
   "source": [
    "1. Hipotezleri Kur\n",
    "2. Varsayım Kontrolü\n",
    "    1. Normallik Varsayımı\n",
    "    2. Varyans Homojenliği\n",
    "3. Hipotezin Uygulanması\n",
    "    1. Varsayımlar sağlanıyorsa bağımsız 2 örneklem t testi (parametrik)\n",
    "    2. Varsayımlar sağlanmıyorsa mannwhitneyu testi (non-parametrik)\n",
    "- Not : Normallik sağlanmıyorsa direk 2 numara. Varyans homojenliği sağlanmıyorsa 1 numaraya argüman girilir.\n",
    "- Not : Normallik incelemesi öncesi aykırı değer incelemesi ve düzeltmesi yapmak faydalı olabilir.\n",
    "\n",
    "### Uygulama 1: Sigara içenler ile içmeyenlerin hesap ortalamaları arasında ista. olarak anlamlı bir fark var mı?"
   ]
  },
  {
   "cell_type": "code",
   "execution_count": 14,
   "id": "b73e1255-cf5e-4af4-9326-048da2fc7a9d",
   "metadata": {
    "pycharm": {
     "name": "#%%\n"
    }
   },
   "outputs": [
    {
     "data": {
      "text/html": [
       "<div>\n",
       "<style scoped>\n",
       "    .dataframe tbody tr th:only-of-type {\n",
       "        vertical-align: middle;\n",
       "    }\n",
       "\n",
       "    .dataframe tbody tr th {\n",
       "        vertical-align: top;\n",
       "    }\n",
       "\n",
       "    .dataframe thead th {\n",
       "        text-align: right;\n",
       "    }\n",
       "</style>\n",
       "<table border=\"1\" class=\"dataframe\">\n",
       "  <thead>\n",
       "    <tr style=\"text-align: right;\">\n",
       "      <th></th>\n",
       "      <th>total_bill</th>\n",
       "      <th>tip</th>\n",
       "      <th>sex</th>\n",
       "      <th>smoker</th>\n",
       "      <th>day</th>\n",
       "      <th>time</th>\n",
       "      <th>size</th>\n",
       "    </tr>\n",
       "  </thead>\n",
       "  <tbody>\n",
       "    <tr>\n",
       "      <th>0</th>\n",
       "      <td>16.99000</td>\n",
       "      <td>1.01000</td>\n",
       "      <td>Female</td>\n",
       "      <td>No</td>\n",
       "      <td>Sun</td>\n",
       "      <td>Dinner</td>\n",
       "      <td>2</td>\n",
       "    </tr>\n",
       "    <tr>\n",
       "      <th>1</th>\n",
       "      <td>10.34000</td>\n",
       "      <td>1.66000</td>\n",
       "      <td>Male</td>\n",
       "      <td>No</td>\n",
       "      <td>Sun</td>\n",
       "      <td>Dinner</td>\n",
       "      <td>3</td>\n",
       "    </tr>\n",
       "    <tr>\n",
       "      <th>2</th>\n",
       "      <td>21.01000</td>\n",
       "      <td>3.50000</td>\n",
       "      <td>Male</td>\n",
       "      <td>No</td>\n",
       "      <td>Sun</td>\n",
       "      <td>Dinner</td>\n",
       "      <td>3</td>\n",
       "    </tr>\n",
       "    <tr>\n",
       "      <th>3</th>\n",
       "      <td>23.68000</td>\n",
       "      <td>3.31000</td>\n",
       "      <td>Male</td>\n",
       "      <td>No</td>\n",
       "      <td>Sun</td>\n",
       "      <td>Dinner</td>\n",
       "      <td>2</td>\n",
       "    </tr>\n",
       "    <tr>\n",
       "      <th>4</th>\n",
       "      <td>24.59000</td>\n",
       "      <td>3.61000</td>\n",
       "      <td>Female</td>\n",
       "      <td>No</td>\n",
       "      <td>Sun</td>\n",
       "      <td>Dinner</td>\n",
       "      <td>4</td>\n",
       "    </tr>\n",
       "  </tbody>\n",
       "</table>\n",
       "</div>"
      ],
      "text/plain": [
       "   total_bill     tip     sex smoker  day    time  size\n",
       "0    16.99000 1.01000  Female     No  Sun  Dinner     2\n",
       "1    10.34000 1.66000    Male     No  Sun  Dinner     3\n",
       "2    21.01000 3.50000    Male     No  Sun  Dinner     3\n",
       "3    23.68000 3.31000    Male     No  Sun  Dinner     2\n",
       "4    24.59000 3.61000  Female     No  Sun  Dinner     4"
      ]
     },
     "execution_count": 14,
     "metadata": {},
     "output_type": "execute_result"
    }
   ],
   "source": [
    "df = sns.load_dataset(\"tips\")\n",
    "df.head()"
   ]
  },
  {
   "cell_type": "code",
   "execution_count": 15,
   "id": "fd007647-69cf-4b3c-bb20-89ceeb6a8881",
   "metadata": {
    "pycharm": {
     "name": "#%%\n"
    }
   },
   "outputs": [
    {
     "data": {
      "text/html": [
       "<div>\n",
       "<style scoped>\n",
       "    .dataframe tbody tr th:only-of-type {\n",
       "        vertical-align: middle;\n",
       "    }\n",
       "\n",
       "    .dataframe tbody tr th {\n",
       "        vertical-align: top;\n",
       "    }\n",
       "\n",
       "    .dataframe thead tr th {\n",
       "        text-align: left;\n",
       "    }\n",
       "\n",
       "    .dataframe thead tr:last-of-type th {\n",
       "        text-align: right;\n",
       "    }\n",
       "</style>\n",
       "<table border=\"1\" class=\"dataframe\">\n",
       "  <thead>\n",
       "    <tr>\n",
       "      <th></th>\n",
       "      <th>total_bill</th>\n",
       "    </tr>\n",
       "    <tr>\n",
       "      <th></th>\n",
       "      <th>mean</th>\n",
       "    </tr>\n",
       "    <tr>\n",
       "      <th>smoker</th>\n",
       "      <th></th>\n",
       "    </tr>\n",
       "  </thead>\n",
       "  <tbody>\n",
       "    <tr>\n",
       "      <th>Yes</th>\n",
       "      <td>20.75634</td>\n",
       "    </tr>\n",
       "    <tr>\n",
       "      <th>No</th>\n",
       "      <td>19.18828</td>\n",
       "    </tr>\n",
       "  </tbody>\n",
       "</table>\n",
       "</div>"
      ],
      "text/plain": [
       "       total_bill\n",
       "             mean\n",
       "smoker           \n",
       "Yes      20.75634\n",
       "No       19.18828"
      ]
     },
     "execution_count": 15,
     "metadata": {},
     "output_type": "execute_result"
    }
   ],
   "source": [
    "df.groupby(\"smoker\").agg({\"total_bill\": [\"mean\"]})"
   ]
  },
  {
   "cell_type": "markdown",
   "id": "c22763af-202e-4a97-9f2f-8d75f0c53cac",
   "metadata": {
    "pycharm": {
     "name": "#%% md\n"
    }
   },
   "source": [
    "## 1. Hipotezi Kur \n",
    "## Ho : M1=M2\n",
    "## Ha : M1!=M2"
   ]
  },
  {
   "cell_type": "markdown",
   "id": "b4c2efd2-0e58-4aef-bd3b-24249206dd1b",
   "metadata": {
    "pycharm": {
     "name": "#%% md\n"
    }
   },
   "source": [
    "## 2. Varsayım Kontrolü\n",
    "    1. Normallik Varsayımı\n",
    "    2. Varyans Homojenliği"
   ]
  },
  {
   "cell_type": "code",
   "execution_count": 16,
   "id": "c38c0cd8-480b-4fa4-a729-32885cd7d548",
   "metadata": {
    "pycharm": {
     "name": "#%%\n"
    }
   },
   "outputs": [
    {
     "name": "stdout",
     "output_type": "stream",
     "text": [
      "Test Stat = 0.9367, pvalue = 0.0002\n"
     ]
    }
   ],
   "source": [
    "# Ho: Normal dağılım varsayımı sağlanmaktadır\n",
    "# Ha: sağlanmamaktadır.\n",
    "test_stat, pvalue = shapiro(df.loc[df[\"smoker\"] == \"Yes\", \"total_bill\"])\n",
    "print(\"Test Stat = %.4f, pvalue = %.4f\" % (test_stat, pvalue))\n",
    "# p vcalue < 0.05 ise Ho red\n",
    "# Ho hipotezi red edildi."
   ]
  },
  {
   "cell_type": "code",
   "execution_count": 17,
   "id": "d39c1e94-7c03-409b-b545-ad7c0448e283",
   "metadata": {
    "pycharm": {
     "name": "#%%\n"
    }
   },
   "outputs": [
    {
     "name": "stdout",
     "output_type": "stream",
     "text": [
      "Test Stat = 0.9045, pvalue = 0.0000\n"
     ]
    }
   ],
   "source": [
    "# Ho: Normal dağılım varsayımı sağlanmaktadır\n",
    "# Ha: sağlanmamaktadır.\n",
    "test_stat, pvalue = shapiro(df.loc[df[\"smoker\"] == \"No\", \"total_bill\"])\n",
    "print(\"Test Stat = %.4f, pvalue = %.4f\" % (test_stat, pvalue))\n",
    "# p vcalue < 0.05 ise Ho red\n",
    "# Ho hipotezi red edildi."
   ]
  },
  {
   "cell_type": "markdown",
   "id": "a75cc986-5a35-44d6-bea4-da9f1b9f9f7b",
   "metadata": {
    "pycharm": {
     "name": "#%% md\n"
    }
   },
   "source": [
    "- Normallik Varsayımının doğru olduğunu kabul edip devam ediyoruz.\n",
    "## Varyans homojenliği Varsayımı"
   ]
  },
  {
   "cell_type": "code",
   "execution_count": 18,
   "id": "2d7db80e-4eb3-4ece-a688-cedf82fd6c57",
   "metadata": {
    "pycharm": {
     "name": "#%%\n"
    }
   },
   "outputs": [
    {
     "name": "stdout",
     "output_type": "stream",
     "text": [
      "Test Stat = 4.0537, pvalue = 0.0452\n"
     ]
    }
   ],
   "source": [
    "# Ho: Varyanslar homojendir\n",
    "# Ha: Varyanslar homojen değildir.\n",
    "test_stat, pvalue = levene(df.loc[df[\"smoker\"]==\"Yes\", \"total_bill\"],\n",
    "                          df.loc[df[\"smoker\"]==\"No\", \"total_bill\"])\n",
    "print(\"Test Stat = %.4f, pvalue = %.4f\" % (test_stat, pvalue))\n",
    "# p value < 0.05 ise Ho red\n",
    "# Ho hipotezi red edildi"
   ]
  },
  {
   "cell_type": "markdown",
   "id": "2a6cd0a1-d1ea-4095-8f29-922e69b1bdc5",
   "metadata": {
    "pycharm": {
     "name": "#%% md\n"
    }
   },
   "source": [
    "3. Hipotezin Uygulanması\n",
    "    1. Parametrik test\n",
    "    2. Non Parametrik Test"
   ]
  },
  {
   "cell_type": "markdown",
   "id": "fd059543-fb87-4e26-8c66-4b89d53c2416",
   "metadata": {
    "pycharm": {
     "name": "#%% md\n"
    }
   },
   "source": [
    "1. Parametrik Test:"
   ]
  },
  {
   "cell_type": "code",
   "execution_count": 19,
   "id": "a549df9d-bee6-4540-a4ad-f12aa045a8c9",
   "metadata": {
    "pycharm": {
     "name": "#%%\n"
    }
   },
   "outputs": [
    {
     "name": "stdout",
     "output_type": "stream",
     "text": [
      "Test Stat = 1.3384, pvalue = 0.1820\n"
     ]
    }
   ],
   "source": [
    "test_stat, pvalue = ttest_ind(df.loc[df[\"smoker\"]==\"Yes\", \"total_bill\"],\n",
    "                          df.loc[df[\"smoker\"]==\"No\", \"total_bill\"], equal_var=True) # varyans homojenliği sağlanmıyorsa False girilmeli\n",
    "print(\"Test Stat = %.4f, pvalue = %.4f\" % (test_stat, pvalue))\n",
    "# p-value < 0.05 ise Ho Red\n",
    "# Ho red edilemez\n",
    "# 2 grup arasında istatistiki olarak bir fark yoktur"
   ]
  },
  {
   "cell_type": "markdown",
   "id": "bcf0e622-618e-4334-a2c9-76df49221c4a",
   "metadata": {
    "pycharm": {
     "name": "#%% md\n"
    }
   },
   "source": [
    "2. Non Parametrik Test"
   ]
  },
  {
   "cell_type": "code",
   "execution_count": 20,
   "id": "c76a1356-54a4-4da8-80f3-63e74390dac7",
   "metadata": {
    "pycharm": {
     "name": "#%%\n"
    }
   },
   "outputs": [
    {
     "name": "stdout",
     "output_type": "stream",
     "text": [
      "Test Stat = 7531.5000, pvalue = 0.3413\n"
     ]
    }
   ],
   "source": [
    "test_stat, pvalue = mannwhitneyu(df.loc[df[\"smoker\"]==\"Yes\", \"total_bill\"],\n",
    "                                 df.loc[df[\"smoker\"]==\"No\", \"total_bill\"])\n",
    "print(\"Test Stat = %.4f, pvalue = %.4f\" % (test_stat, pvalue))\n",
    "# Ho red edilemez"
   ]
  },
  {
   "cell_type": "markdown",
   "id": "9cd74a2b-fb85-4efc-82b4-b467ce7e0123",
   "metadata": {
    "pycharm": {
     "name": "#%% md\n"
    }
   },
   "source": [
    "## Uygulama 2: Titanic Kadın ve Erkek yolcuların yaş ortalamaları arasında istatiksel olarak anlamlı bir fark var mıdır?"
   ]
  },
  {
   "cell_type": "code",
   "execution_count": 21,
   "id": "4fc46564-fd98-44a6-8d74-24293a5836a6",
   "metadata": {
    "pycharm": {
     "name": "#%%\n"
    }
   },
   "outputs": [
    {
     "data": {
      "text/html": [
       "<div>\n",
       "<style scoped>\n",
       "    .dataframe tbody tr th:only-of-type {\n",
       "        vertical-align: middle;\n",
       "    }\n",
       "\n",
       "    .dataframe tbody tr th {\n",
       "        vertical-align: top;\n",
       "    }\n",
       "\n",
       "    .dataframe thead th {\n",
       "        text-align: right;\n",
       "    }\n",
       "</style>\n",
       "<table border=\"1\" class=\"dataframe\">\n",
       "  <thead>\n",
       "    <tr style=\"text-align: right;\">\n",
       "      <th></th>\n",
       "      <th>survived</th>\n",
       "      <th>pclass</th>\n",
       "      <th>sex</th>\n",
       "      <th>age</th>\n",
       "      <th>sibsp</th>\n",
       "      <th>parch</th>\n",
       "      <th>fare</th>\n",
       "      <th>embarked</th>\n",
       "      <th>class</th>\n",
       "      <th>who</th>\n",
       "      <th>adult_male</th>\n",
       "      <th>deck</th>\n",
       "      <th>embark_town</th>\n",
       "      <th>alive</th>\n",
       "      <th>alone</th>\n",
       "    </tr>\n",
       "  </thead>\n",
       "  <tbody>\n",
       "    <tr>\n",
       "      <th>0</th>\n",
       "      <td>0</td>\n",
       "      <td>3</td>\n",
       "      <td>male</td>\n",
       "      <td>22.00000</td>\n",
       "      <td>1</td>\n",
       "      <td>0</td>\n",
       "      <td>7.25000</td>\n",
       "      <td>S</td>\n",
       "      <td>Third</td>\n",
       "      <td>man</td>\n",
       "      <td>True</td>\n",
       "      <td>NaN</td>\n",
       "      <td>Southampton</td>\n",
       "      <td>no</td>\n",
       "      <td>False</td>\n",
       "    </tr>\n",
       "    <tr>\n",
       "      <th>1</th>\n",
       "      <td>1</td>\n",
       "      <td>1</td>\n",
       "      <td>female</td>\n",
       "      <td>38.00000</td>\n",
       "      <td>1</td>\n",
       "      <td>0</td>\n",
       "      <td>71.28330</td>\n",
       "      <td>C</td>\n",
       "      <td>First</td>\n",
       "      <td>woman</td>\n",
       "      <td>False</td>\n",
       "      <td>C</td>\n",
       "      <td>Cherbourg</td>\n",
       "      <td>yes</td>\n",
       "      <td>False</td>\n",
       "    </tr>\n",
       "    <tr>\n",
       "      <th>2</th>\n",
       "      <td>1</td>\n",
       "      <td>3</td>\n",
       "      <td>female</td>\n",
       "      <td>26.00000</td>\n",
       "      <td>0</td>\n",
       "      <td>0</td>\n",
       "      <td>7.92500</td>\n",
       "      <td>S</td>\n",
       "      <td>Third</td>\n",
       "      <td>woman</td>\n",
       "      <td>False</td>\n",
       "      <td>NaN</td>\n",
       "      <td>Southampton</td>\n",
       "      <td>yes</td>\n",
       "      <td>True</td>\n",
       "    </tr>\n",
       "    <tr>\n",
       "      <th>3</th>\n",
       "      <td>1</td>\n",
       "      <td>1</td>\n",
       "      <td>female</td>\n",
       "      <td>35.00000</td>\n",
       "      <td>1</td>\n",
       "      <td>0</td>\n",
       "      <td>53.10000</td>\n",
       "      <td>S</td>\n",
       "      <td>First</td>\n",
       "      <td>woman</td>\n",
       "      <td>False</td>\n",
       "      <td>C</td>\n",
       "      <td>Southampton</td>\n",
       "      <td>yes</td>\n",
       "      <td>False</td>\n",
       "    </tr>\n",
       "    <tr>\n",
       "      <th>4</th>\n",
       "      <td>0</td>\n",
       "      <td>3</td>\n",
       "      <td>male</td>\n",
       "      <td>35.00000</td>\n",
       "      <td>0</td>\n",
       "      <td>0</td>\n",
       "      <td>8.05000</td>\n",
       "      <td>S</td>\n",
       "      <td>Third</td>\n",
       "      <td>man</td>\n",
       "      <td>True</td>\n",
       "      <td>NaN</td>\n",
       "      <td>Southampton</td>\n",
       "      <td>no</td>\n",
       "      <td>True</td>\n",
       "    </tr>\n",
       "  </tbody>\n",
       "</table>\n",
       "</div>"
      ],
      "text/plain": [
       "   survived  pclass     sex      age  sibsp  parch     fare embarked  class  \\\n",
       "0         0       3    male 22.00000      1      0  7.25000        S  Third   \n",
       "1         1       1  female 38.00000      1      0 71.28330        C  First   \n",
       "2         1       3  female 26.00000      0      0  7.92500        S  Third   \n",
       "3         1       1  female 35.00000      1      0 53.10000        S  First   \n",
       "4         0       3    male 35.00000      0      0  8.05000        S  Third   \n",
       "\n",
       "     who  adult_male deck  embark_town alive  alone  \n",
       "0    man        True  NaN  Southampton    no  False  \n",
       "1  woman       False    C    Cherbourg   yes  False  \n",
       "2  woman       False  NaN  Southampton   yes   True  \n",
       "3  woman       False    C  Southampton   yes  False  \n",
       "4    man        True  NaN  Southampton    no   True  "
      ]
     },
     "execution_count": 21,
     "metadata": {},
     "output_type": "execute_result"
    }
   ],
   "source": [
    "df = sns.load_dataset(\"titanic\")\n",
    "df.head()"
   ]
  },
  {
   "cell_type": "code",
   "execution_count": 22,
   "id": "683487d1-453a-4336-b43e-c65af24a0196",
   "metadata": {
    "pycharm": {
     "name": "#%%\n"
    }
   },
   "outputs": [
    {
     "data": {
      "text/html": [
       "<div>\n",
       "<style scoped>\n",
       "    .dataframe tbody tr th:only-of-type {\n",
       "        vertical-align: middle;\n",
       "    }\n",
       "\n",
       "    .dataframe tbody tr th {\n",
       "        vertical-align: top;\n",
       "    }\n",
       "\n",
       "    .dataframe thead th {\n",
       "        text-align: right;\n",
       "    }\n",
       "</style>\n",
       "<table border=\"1\" class=\"dataframe\">\n",
       "  <thead>\n",
       "    <tr style=\"text-align: right;\">\n",
       "      <th></th>\n",
       "      <th>age</th>\n",
       "    </tr>\n",
       "    <tr>\n",
       "      <th>sex</th>\n",
       "      <th></th>\n",
       "    </tr>\n",
       "  </thead>\n",
       "  <tbody>\n",
       "    <tr>\n",
       "      <th>female</th>\n",
       "      <td>27.91571</td>\n",
       "    </tr>\n",
       "    <tr>\n",
       "      <th>male</th>\n",
       "      <td>30.72664</td>\n",
       "    </tr>\n",
       "  </tbody>\n",
       "</table>\n",
       "</div>"
      ],
      "text/plain": [
       "            age\n",
       "sex            \n",
       "female 27.91571\n",
       "male   30.72664"
      ]
     },
     "execution_count": 22,
     "metadata": {},
     "output_type": "execute_result"
    }
   ],
   "source": [
    "df.groupby(\"sex\").agg({\"age\": \"mean\"})"
   ]
  },
  {
   "cell_type": "markdown",
   "id": "ac345051-901d-4211-a91c-54a462415dec",
   "metadata": {
    "pycharm": {
     "name": "#%% md\n"
    }
   },
   "source": [
    "#### Adım 1. Hipotezleri Kur:\n",
    "- Ho: Kadın ve erkek yolcuların yaş ortalamaları arasında fark yoktur. M! = M2\n",
    "- Ha: Kadın ve erkek yolcuların yaş ortalamaları arasında fark vardır. M1 != M2"
   ]
  },
  {
   "cell_type": "markdown",
   "id": "bbf24244-59fb-446a-9e2c-1e995bf51a88",
   "metadata": {
    "pycharm": {
     "name": "#%% md\n"
    }
   },
   "source": [
    "#### Adım 2. Varsayımları İncele\n",
    "- Normallik Varsayımı"
   ]
  },
  {
   "cell_type": "code",
   "execution_count": 23,
   "id": "b59980d7-5a61-4a40-a528-120b81eb444f",
   "metadata": {
    "pycharm": {
     "name": "#%%\n"
    }
   },
   "outputs": [
    {
     "name": "stdout",
     "output_type": "stream",
     "text": [
      "Test Stat = 0.9848, pvalue = 0.0071\n"
     ]
    }
   ],
   "source": [
    "# Ho: Normal dağılım varsayımı sağlanmaktadır\n",
    "# Ha: sağlanmamaktadır.\n",
    "test_stat, pvalue = shapiro(df.loc[df[\"sex\"] == \"female\", \"age\"].dropna())\n",
    "print(\"Test Stat = %.4f, pvalue = %.4f\" % (test_stat, pvalue))\n",
    "# p value < 0.05 ise Ho red\n",
    "# Ho red edildi"
   ]
  },
  {
   "cell_type": "code",
   "execution_count": 24,
   "id": "7f3d3681-4cd6-4e9d-b831-af66ebb02549",
   "metadata": {
    "pycharm": {
     "name": "#%%\n"
    }
   },
   "outputs": [
    {
     "name": "stdout",
     "output_type": "stream",
     "text": [
      "Test Stat = 0.9747, pvalue = 0.0000\n"
     ]
    }
   ],
   "source": [
    "# Ho: Normal dağılım varsayımı sağlanmaktadır\n",
    "# Ha: sağlanmamaktadır.\n",
    "test_stat, pvalue = shapiro(df.loc[df[\"sex\"] == \"male\", \"age\"].dropna())\n",
    "print(\"Test Stat = %.4f, pvalue = %.4f\" % (test_stat, pvalue))\n",
    "# p value < 0.05 ise Ho red\n",
    "# Ho red edildi"
   ]
  },
  {
   "cell_type": "markdown",
   "id": "9c1dcd5e-024b-4ac7-95ce-a5688c7d77d2",
   "metadata": {
    "pycharm": {
     "name": "#%% md\n"
    }
   },
   "source": [
    "- Varyans Homojenliği"
   ]
  },
  {
   "cell_type": "code",
   "execution_count": 25,
   "id": "56550c95-bcab-45f0-8a17-5858e41c701e",
   "metadata": {
    "pycharm": {
     "name": "#%%\n"
    }
   },
   "outputs": [
    {
     "name": "stdout",
     "output_type": "stream",
     "text": [
      "Test Stat = 0.0013, pvalue = 0.9712\n"
     ]
    }
   ],
   "source": [
    "# Ho: Varyanslar homojendir\n",
    "# Ha: Varyanslar homojen değildir.\n",
    "test_stat, pvalue = levene(df.loc[df[\"sex\"]==\"male\", \"age\"].dropna(),\n",
    "                          df.loc[df[\"sex\"]==\"female\", \"age\"].dropna())\n",
    "print(\"Test Stat = %.4f, pvalue = %.4f\" % (test_stat, pvalue))\n",
    "# p value < 0.05 ise Ho red\n",
    "# Ho hipotezi red edilemez"
   ]
  },
  {
   "cell_type": "markdown",
   "id": "a4e29b2d-0ac2-48c1-aacd-b655c566ca79",
   "metadata": {
    "pycharm": {
     "name": "#%% md\n"
    }
   },
   "source": [
    "### Varyanslar sağlanmadığı için nonparametrik test uygulanır."
   ]
  },
  {
   "cell_type": "code",
   "execution_count": 26,
   "id": "2c6ebf64-3ac7-4cab-aa91-997c8b5846af",
   "metadata": {
    "pycharm": {
     "name": "#%%\n"
    }
   },
   "outputs": [
    {
     "name": "stdout",
     "output_type": "stream",
     "text": [
      "Test Stat = 53212.5000, pvalue = 0.0261\n"
     ]
    }
   ],
   "source": [
    "test_stat, pvalue = mannwhitneyu(df.loc[df[\"sex\"]==\"female\", \"age\"].dropna(),\n",
    "                                 df.loc[df[\"sex\"]==\"male\", \"age\"].dropna())\n",
    "print(\"Test Stat = %.4f, pvalue = %.4f\" % (test_stat, pvalue))\n",
    "# Ho red edildi\n",
    "# Yaşlar arasında ist. olarak fark vardır."
   ]
  },
  {
   "cell_type": "markdown",
   "id": "dcb24a93-d8c7-4fd2-9682-d1116e16c0d3",
   "metadata": {
    "pycharm": {
     "name": "#%% md\n"
    }
   },
   "source": [
    "### Uygulama 3: Fiyabet hastası olan ve olmayanların yaşları arasında ist. olarak fark var mıdır?"
   ]
  },
  {
   "cell_type": "code",
   "execution_count": 27,
   "id": "13943342-b68e-4384-9ae2-5c95d13469e2",
   "metadata": {
    "pycharm": {
     "name": "#%%\n"
    }
   },
   "outputs": [
    {
     "data": {
      "text/html": [
       "<div>\n",
       "<style scoped>\n",
       "    .dataframe tbody tr th:only-of-type {\n",
       "        vertical-align: middle;\n",
       "    }\n",
       "\n",
       "    .dataframe tbody tr th {\n",
       "        vertical-align: top;\n",
       "    }\n",
       "\n",
       "    .dataframe thead th {\n",
       "        text-align: right;\n",
       "    }\n",
       "</style>\n",
       "<table border=\"1\" class=\"dataframe\">\n",
       "  <thead>\n",
       "    <tr style=\"text-align: right;\">\n",
       "      <th></th>\n",
       "      <th>Pregnancies</th>\n",
       "      <th>Glucose</th>\n",
       "      <th>BloodPressure</th>\n",
       "      <th>SkinThickness</th>\n",
       "      <th>Insulin</th>\n",
       "      <th>BMI</th>\n",
       "      <th>DiabetesPedigreeFunction</th>\n",
       "      <th>Age</th>\n",
       "      <th>Outcome</th>\n",
       "    </tr>\n",
       "  </thead>\n",
       "  <tbody>\n",
       "    <tr>\n",
       "      <th>0</th>\n",
       "      <td>6</td>\n",
       "      <td>148</td>\n",
       "      <td>72</td>\n",
       "      <td>35</td>\n",
       "      <td>0</td>\n",
       "      <td>33.60000</td>\n",
       "      <td>0.62700</td>\n",
       "      <td>50</td>\n",
       "      <td>1</td>\n",
       "    </tr>\n",
       "    <tr>\n",
       "      <th>1</th>\n",
       "      <td>1</td>\n",
       "      <td>85</td>\n",
       "      <td>66</td>\n",
       "      <td>29</td>\n",
       "      <td>0</td>\n",
       "      <td>26.60000</td>\n",
       "      <td>0.35100</td>\n",
       "      <td>31</td>\n",
       "      <td>0</td>\n",
       "    </tr>\n",
       "    <tr>\n",
       "      <th>2</th>\n",
       "      <td>8</td>\n",
       "      <td>183</td>\n",
       "      <td>64</td>\n",
       "      <td>0</td>\n",
       "      <td>0</td>\n",
       "      <td>23.30000</td>\n",
       "      <td>0.67200</td>\n",
       "      <td>32</td>\n",
       "      <td>1</td>\n",
       "    </tr>\n",
       "    <tr>\n",
       "      <th>3</th>\n",
       "      <td>1</td>\n",
       "      <td>89</td>\n",
       "      <td>66</td>\n",
       "      <td>23</td>\n",
       "      <td>94</td>\n",
       "      <td>28.10000</td>\n",
       "      <td>0.16700</td>\n",
       "      <td>21</td>\n",
       "      <td>0</td>\n",
       "    </tr>\n",
       "    <tr>\n",
       "      <th>4</th>\n",
       "      <td>0</td>\n",
       "      <td>137</td>\n",
       "      <td>40</td>\n",
       "      <td>35</td>\n",
       "      <td>168</td>\n",
       "      <td>43.10000</td>\n",
       "      <td>2.28800</td>\n",
       "      <td>33</td>\n",
       "      <td>1</td>\n",
       "    </tr>\n",
       "  </tbody>\n",
       "</table>\n",
       "</div>"
      ],
      "text/plain": [
       "   Pregnancies  Glucose  BloodPressure  SkinThickness  Insulin      BMI  \\\n",
       "0            6      148             72             35        0 33.60000   \n",
       "1            1       85             66             29        0 26.60000   \n",
       "2            8      183             64              0        0 23.30000   \n",
       "3            1       89             66             23       94 28.10000   \n",
       "4            0      137             40             35      168 43.10000   \n",
       "\n",
       "   DiabetesPedigreeFunction  Age  Outcome  \n",
       "0                   0.62700   50        1  \n",
       "1                   0.35100   31        0  \n",
       "2                   0.67200   32        1  \n",
       "3                   0.16700   21        0  \n",
       "4                   2.28800   33        1  "
      ]
     },
     "execution_count": 27,
     "metadata": {},
     "output_type": "execute_result"
    }
   ],
   "source": [
    "df = pd.read_csv(\"C:/measurement_problems/datasets/diabetes.csv\")\n",
    "df.head()"
   ]
  },
  {
   "cell_type": "markdown",
   "id": "1ae1c565-2e89-4927-8281-113ef1804e13",
   "metadata": {
    "pycharm": {
     "name": "#%% md\n"
    }
   },
   "source": [
    "## Adım 1. Hipotezleri Kur:\n",
    "- M1=M2 (Diyabet hastası olan ve olamayanların yaşları arasında isst. olarak fark yoktur.)\n",
    "- M1!=M2 (...fark vardır)"
   ]
  },
  {
   "cell_type": "code",
   "execution_count": 28,
   "id": "32a0f381-8e3a-4d71-ab81-5ac0bc7e5692",
   "metadata": {
    "pycharm": {
     "name": "#%%\n"
    }
   },
   "outputs": [
    {
     "data": {
      "text/html": [
       "<div>\n",
       "<style scoped>\n",
       "    .dataframe tbody tr th:only-of-type {\n",
       "        vertical-align: middle;\n",
       "    }\n",
       "\n",
       "    .dataframe tbody tr th {\n",
       "        vertical-align: top;\n",
       "    }\n",
       "\n",
       "    .dataframe thead th {\n",
       "        text-align: right;\n",
       "    }\n",
       "</style>\n",
       "<table border=\"1\" class=\"dataframe\">\n",
       "  <thead>\n",
       "    <tr style=\"text-align: right;\">\n",
       "      <th></th>\n",
       "      <th>Age</th>\n",
       "    </tr>\n",
       "    <tr>\n",
       "      <th>Outcome</th>\n",
       "      <th></th>\n",
       "    </tr>\n",
       "  </thead>\n",
       "  <tbody>\n",
       "    <tr>\n",
       "      <th>0</th>\n",
       "      <td>31.19000</td>\n",
       "    </tr>\n",
       "    <tr>\n",
       "      <th>1</th>\n",
       "      <td>37.06716</td>\n",
       "    </tr>\n",
       "  </tbody>\n",
       "</table>\n",
       "</div>"
      ],
      "text/plain": [
       "             Age\n",
       "Outcome         \n",
       "0       31.19000\n",
       "1       37.06716"
      ]
     },
     "execution_count": 28,
     "metadata": {},
     "output_type": "execute_result"
    }
   ],
   "source": [
    "df.groupby(\"Outcome\").agg({\"Age\": \"mean\"})"
   ]
  },
  {
   "cell_type": "markdown",
   "id": "ec5c4bb9-8f79-42b7-b91c-853f598a5836",
   "metadata": {
    "pycharm": {
     "name": "#%% md\n"
    }
   },
   "source": [
    "### Adım 2. Varsayım Kontrolü\n",
    "- Normallik Varsayımı"
   ]
  },
  {
   "cell_type": "code",
   "execution_count": 29,
   "id": "024edf88-f836-4c34-9356-1f38027bf3df",
   "metadata": {
    "pycharm": {
     "name": "#%%\n"
    }
   },
   "outputs": [
    {
     "name": "stdout",
     "output_type": "stream",
     "text": [
      "Test Stat = 0.9546, pvalue = 0.0000\n"
     ]
    }
   ],
   "source": [
    "test_stat, pvalue = shapiro(df.loc[df[\"Outcome\"]==1, \"Age\"].dropna())\n",
    "print(\"Test Stat = %.4f, pvalue = %.4f\" % (test_stat, pvalue))\n",
    "# Normal dağılıma uygun değil"
   ]
  },
  {
   "cell_type": "code",
   "execution_count": 30,
   "id": "949a18eb-afda-4453-b836-78c4fe59c380",
   "metadata": {
    "pycharm": {
     "name": "#%%\n"
    }
   },
   "outputs": [
    {
     "name": "stdout",
     "output_type": "stream",
     "text": [
      "Test Stat = 0.8012, pvalue = 0.0000\n"
     ]
    }
   ],
   "source": [
    "test_stat, pvalue = shapiro(df.loc[df[\"Outcome\"]==0, \"Age\"].dropna())\n",
    "print(\"Test Stat = %.4f, pvalue = %.4f\" % (test_stat, pvalue))\n",
    "# Normal dağılıma uygun değil"
   ]
  },
  {
   "cell_type": "markdown",
   "id": "b683796b-899b-451e-b3d6-1534a2710cda",
   "metadata": {
    "pycharm": {
     "name": "#%% md\n"
    }
   },
   "source": [
    "### Adım 3. NonParametrik Test"
   ]
  },
  {
   "cell_type": "code",
   "execution_count": 31,
   "id": "6a48bf57-8fc5-4a46-89f1-00352c5d1d37",
   "metadata": {
    "pycharm": {
     "name": "#%%\n"
    }
   },
   "outputs": [
    {
     "name": "stdout",
     "output_type": "stream",
     "text": [
      "Test Stat = 41950.0000, pvalue = 0.0000\n"
     ]
    }
   ],
   "source": [
    "test_stat, pvalue = mannwhitneyu(df.loc[df[\"Outcome\"]==0, \"Age\"].dropna(),\n",
    "                                 df.loc[df[\"Outcome\"]==1, \"Age\"].dropna())\n",
    "print(\"Test Stat = %.4f, pvalue = %.4f\" % (test_stat, pvalue))\n",
    "# Ho red edildi\n",
    "# Yaşlar arasında ist. olarak fark vardır."
   ]
  },
  {
   "cell_type": "markdown",
   "id": "1ee7500c-46ce-4ff1-8008-0bf4e323c52a",
   "metadata": {
    "pycharm": {
     "name": "#%% md\n"
    }
   },
   "source": [
    "### Uygulama 4: Kursun büyük çoğunluğunu izleyenler ile izlemeyenlerin puanları birbirinden farklı mı?\n",
    "- Ho: M1=M2\n",
    "- Ha: M1!=M2"
   ]
  },
  {
   "cell_type": "code",
   "execution_count": 32,
   "id": "14bb2aa1-4c78-465e-a4b0-27174ace9112",
   "metadata": {
    "pycharm": {
     "name": "#%%\n"
    }
   },
   "outputs": [
    {
     "data": {
      "text/html": [
       "<div>\n",
       "<style scoped>\n",
       "    .dataframe tbody tr th:only-of-type {\n",
       "        vertical-align: middle;\n",
       "    }\n",
       "\n",
       "    .dataframe tbody tr th {\n",
       "        vertical-align: top;\n",
       "    }\n",
       "\n",
       "    .dataframe thead th {\n",
       "        text-align: right;\n",
       "    }\n",
       "</style>\n",
       "<table border=\"1\" class=\"dataframe\">\n",
       "  <thead>\n",
       "    <tr style=\"text-align: right;\">\n",
       "      <th></th>\n",
       "      <th>Rating</th>\n",
       "      <th>Timestamp</th>\n",
       "      <th>Enrolled</th>\n",
       "      <th>Progress</th>\n",
       "      <th>Questions Asked</th>\n",
       "      <th>Questions Answered</th>\n",
       "    </tr>\n",
       "  </thead>\n",
       "  <tbody>\n",
       "    <tr>\n",
       "      <th>0</th>\n",
       "      <td>5.00000</td>\n",
       "      <td>2021-02-05 07:45:55</td>\n",
       "      <td>2021-01-25 15:12:08</td>\n",
       "      <td>5.00000</td>\n",
       "      <td>0.00000</td>\n",
       "      <td>0.00000</td>\n",
       "    </tr>\n",
       "    <tr>\n",
       "      <th>1</th>\n",
       "      <td>5.00000</td>\n",
       "      <td>2021-02-04 21:05:32</td>\n",
       "      <td>2021-02-04 20:43:40</td>\n",
       "      <td>1.00000</td>\n",
       "      <td>0.00000</td>\n",
       "      <td>0.00000</td>\n",
       "    </tr>\n",
       "    <tr>\n",
       "      <th>2</th>\n",
       "      <td>4.50000</td>\n",
       "      <td>2021-02-04 20:34:03</td>\n",
       "      <td>2019-07-04 23:23:27</td>\n",
       "      <td>1.00000</td>\n",
       "      <td>0.00000</td>\n",
       "      <td>0.00000</td>\n",
       "    </tr>\n",
       "    <tr>\n",
       "      <th>3</th>\n",
       "      <td>5.00000</td>\n",
       "      <td>2021-02-04 16:56:28</td>\n",
       "      <td>2021-02-04 14:41:29</td>\n",
       "      <td>10.00000</td>\n",
       "      <td>0.00000</td>\n",
       "      <td>0.00000</td>\n",
       "    </tr>\n",
       "    <tr>\n",
       "      <th>4</th>\n",
       "      <td>4.00000</td>\n",
       "      <td>2021-02-04 15:00:24</td>\n",
       "      <td>2020-10-13 03:10:07</td>\n",
       "      <td>10.00000</td>\n",
       "      <td>0.00000</td>\n",
       "      <td>0.00000</td>\n",
       "    </tr>\n",
       "  </tbody>\n",
       "</table>\n",
       "</div>"
      ],
      "text/plain": [
       "   Rating            Timestamp             Enrolled  Progress  \\\n",
       "0 5.00000  2021-02-05 07:45:55  2021-01-25 15:12:08   5.00000   \n",
       "1 5.00000  2021-02-04 21:05:32  2021-02-04 20:43:40   1.00000   \n",
       "2 4.50000  2021-02-04 20:34:03  2019-07-04 23:23:27   1.00000   \n",
       "3 5.00000  2021-02-04 16:56:28  2021-02-04 14:41:29  10.00000   \n",
       "4 4.00000  2021-02-04 15:00:24  2020-10-13 03:10:07  10.00000   \n",
       "\n",
       "   Questions Asked  Questions Answered  \n",
       "0          0.00000             0.00000  \n",
       "1          0.00000             0.00000  \n",
       "2          0.00000             0.00000  \n",
       "3          0.00000             0.00000  \n",
       "4          0.00000             0.00000  "
      ]
     },
     "execution_count": 32,
     "metadata": {},
     "output_type": "execute_result"
    }
   ],
   "source": [
    "df = pd.read_csv(\"C:/measurement_problems/datasets/course_reviews.csv\")\n",
    "df.head()"
   ]
  },
  {
   "cell_type": "code",
   "execution_count": 33,
   "id": "20e65912-53eb-420c-8f77-4da08e3ddc84",
   "metadata": {
    "pycharm": {
     "name": "#%%\n"
    }
   },
   "outputs": [
    {
     "data": {
      "text/plain": [
       "4.860491071428571"
      ]
     },
     "execution_count": 33,
     "metadata": {},
     "output_type": "execute_result"
    }
   ],
   "source": [
    "df.loc[df[\"Progress\"]>75, \"Rating\"].mean()"
   ]
  },
  {
   "cell_type": "code",
   "execution_count": 34,
   "id": "8a17ebdf-0cf5-4028-a067-b422410badc3",
   "metadata": {
    "pycharm": {
     "name": "#%%\n"
    }
   },
   "outputs": [
    {
     "data": {
      "text/plain": [
       "4.7225029148853475"
      ]
     },
     "execution_count": 34,
     "metadata": {},
     "output_type": "execute_result"
    }
   ],
   "source": [
    "df.loc[df[\"Progress\"]<25, \"Rating\"].mean()"
   ]
  },
  {
   "cell_type": "code",
   "execution_count": 35,
   "id": "d5fd5575-52d2-405c-93b4-e7d9e0c84506",
   "metadata": {
    "pycharm": {
     "name": "#%%\n"
    }
   },
   "outputs": [
    {
     "data": {
      "text/plain": [
       "4.700895713371721"
      ]
     },
     "execution_count": 35,
     "metadata": {},
     "output_type": "execute_result"
    }
   ],
   "source": [
    "df.loc[df[\"Progress\"]<10, \"Rating\"].mean()"
   ]
  },
  {
   "cell_type": "code",
   "execution_count": 36,
   "id": "49b37958-13b9-42d6-acb6-ed0822a5679c",
   "metadata": {
    "pycharm": {
     "name": "#%%\n"
    }
   },
   "outputs": [
    {
     "name": "stdout",
     "output_type": "stream",
     "text": [
      "Test Stat = 0.3160, pvalue = 0.0000\n"
     ]
    }
   ],
   "source": [
    "test_stat, pvalue = shapiro(df.loc[df[\"Progress\"]>75, \"Rating\"])\n",
    "print(\"Test Stat = %.4f, pvalue = %.4f\" % (test_stat, pvalue))\n",
    "# Normal değil"
   ]
  },
  {
   "cell_type": "code",
   "execution_count": 37,
   "id": "837954e9-9f0f-44f4-8f52-22f24f84daa7",
   "metadata": {
    "pycharm": {
     "name": "#%%\n"
    }
   },
   "outputs": [
    {
     "name": "stdout",
     "output_type": "stream",
     "text": [
      "Test Stat = 0.5710, pvalue = 0.0000\n"
     ]
    }
   ],
   "source": [
    "test_stat, pvalue = shapiro(df.loc[df[\"Progress\"]<25, \"Rating\"])\n",
    "print(\"Test Stat = %.4f, pvalue = %.4f\" % (test_stat, pvalue))\n",
    "# Normal değil"
   ]
  },
  {
   "cell_type": "code",
   "execution_count": 38,
   "id": "3b1b2d08-91bd-4c5d-97e3-bf804d8cab36",
   "metadata": {
    "pycharm": {
     "name": "#%%\n"
    }
   },
   "outputs": [
    {
     "name": "stdout",
     "output_type": "stream",
     "text": [
      "Test Stat = 661481.5000, pvalue = 0.0000\n"
     ]
    }
   ],
   "source": [
    "test_stat, pvalue = mannwhitneyu(df.loc[df[\"Progress\"]>75, \"Rating\"],\n",
    "                                df.loc[df[\"Progress\"]<25, \"Rating\"])\n",
    "print(\"Test Stat = %.4f, pvalue = %.4f\" % (test_stat, pvalue))\n",
    "# Ho red edildi\n",
    "# İzleme durumları arasında rating ile ilgili bir fark vardır.."
   ]
  },
  {
   "cell_type": "markdown",
   "id": "d5ae64f5-38f2-41e6-8956-f443f3208e8b",
   "metadata": {
    "pycharm": {
     "name": "#%% md\n"
    }
   },
   "source": [
    "# iki Grup Oran Karşılaştırma\n",
    "- Ho: p1=p2 (Yeni tasarımın dönüşüm oranı ile eski tasarımın dönüşüm oranı arsında ist. olarak fark yoktur.)\n",
    "- Ha: p1!=p2 (...vardır.)"
   ]
  },
  {
   "cell_type": "code",
   "execution_count": 39,
   "id": "484776f6-5370-4997-81a5-22607ef20617",
   "metadata": {
    "pycharm": {
     "name": "#%%\n"
    }
   },
   "outputs": [],
   "source": [
    "basari_sayisi = np.array([300, 250])\n",
    "gozlem_sayilari = np.array([1000, 1100])"
   ]
  },
  {
   "cell_type": "code",
   "execution_count": 40,
   "id": "3220389d-3097-455d-b4bc-afef78bc1cfa",
   "metadata": {
    "pycharm": {
     "name": "#%%\n"
    }
   },
   "outputs": [
    {
     "data": {
      "text/plain": [
       "(3.7857863233209255, 0.0001532232957772221)"
      ]
     },
     "execution_count": 40,
     "metadata": {},
     "output_type": "execute_result"
    }
   ],
   "source": [
    "proportions_ztest(count=basari_sayisi, nobs=gozlem_sayilari)\n",
    "# p value 0.05'ten küçük\n",
    "# Anlamlı bir fark vardır."
   ]
  },
  {
   "cell_type": "code",
   "execution_count": 41,
   "id": "29374b1a-9454-472f-98ce-f5296661e8d8",
   "metadata": {
    "pycharm": {
     "name": "#%%\n"
    }
   },
   "outputs": [
    {
     "data": {
      "text/plain": [
       "array([0.3       , 0.22727273])"
      ]
     },
     "execution_count": 41,
     "metadata": {},
     "output_type": "execute_result"
    }
   ],
   "source": [
    "basari_sayisi / gozlem_sayilari"
   ]
  },
  {
   "cell_type": "markdown",
   "id": "a4e231eb-d665-4041-8a1c-bb69dc19e950",
   "metadata": {
    "pycharm": {
     "name": "#%% md\n"
    }
   },
   "source": [
    "### Uygulama: Kadın ve erkeklerin hayatta kalma oranları arasında ist. olarak fark var mıdır?\n",
    "- Ho: p1=p2\n",
    "- Ha: p1!=p2"
   ]
  },
  {
   "cell_type": "code",
   "execution_count": 42,
   "id": "a873faf3-3152-4594-9cfb-f6e4e1098dd2",
   "metadata": {
    "pycharm": {
     "name": "#%%\n"
    }
   },
   "outputs": [
    {
     "data": {
      "text/html": [
       "<div>\n",
       "<style scoped>\n",
       "    .dataframe tbody tr th:only-of-type {\n",
       "        vertical-align: middle;\n",
       "    }\n",
       "\n",
       "    .dataframe tbody tr th {\n",
       "        vertical-align: top;\n",
       "    }\n",
       "\n",
       "    .dataframe thead th {\n",
       "        text-align: right;\n",
       "    }\n",
       "</style>\n",
       "<table border=\"1\" class=\"dataframe\">\n",
       "  <thead>\n",
       "    <tr style=\"text-align: right;\">\n",
       "      <th></th>\n",
       "      <th>survived</th>\n",
       "      <th>pclass</th>\n",
       "      <th>sex</th>\n",
       "      <th>age</th>\n",
       "      <th>sibsp</th>\n",
       "      <th>parch</th>\n",
       "      <th>fare</th>\n",
       "      <th>embarked</th>\n",
       "      <th>class</th>\n",
       "      <th>who</th>\n",
       "      <th>adult_male</th>\n",
       "      <th>deck</th>\n",
       "      <th>embark_town</th>\n",
       "      <th>alive</th>\n",
       "      <th>alone</th>\n",
       "    </tr>\n",
       "  </thead>\n",
       "  <tbody>\n",
       "    <tr>\n",
       "      <th>0</th>\n",
       "      <td>0</td>\n",
       "      <td>3</td>\n",
       "      <td>male</td>\n",
       "      <td>22.00000</td>\n",
       "      <td>1</td>\n",
       "      <td>0</td>\n",
       "      <td>7.25000</td>\n",
       "      <td>S</td>\n",
       "      <td>Third</td>\n",
       "      <td>man</td>\n",
       "      <td>True</td>\n",
       "      <td>NaN</td>\n",
       "      <td>Southampton</td>\n",
       "      <td>no</td>\n",
       "      <td>False</td>\n",
       "    </tr>\n",
       "    <tr>\n",
       "      <th>1</th>\n",
       "      <td>1</td>\n",
       "      <td>1</td>\n",
       "      <td>female</td>\n",
       "      <td>38.00000</td>\n",
       "      <td>1</td>\n",
       "      <td>0</td>\n",
       "      <td>71.28330</td>\n",
       "      <td>C</td>\n",
       "      <td>First</td>\n",
       "      <td>woman</td>\n",
       "      <td>False</td>\n",
       "      <td>C</td>\n",
       "      <td>Cherbourg</td>\n",
       "      <td>yes</td>\n",
       "      <td>False</td>\n",
       "    </tr>\n",
       "    <tr>\n",
       "      <th>2</th>\n",
       "      <td>1</td>\n",
       "      <td>3</td>\n",
       "      <td>female</td>\n",
       "      <td>26.00000</td>\n",
       "      <td>0</td>\n",
       "      <td>0</td>\n",
       "      <td>7.92500</td>\n",
       "      <td>S</td>\n",
       "      <td>Third</td>\n",
       "      <td>woman</td>\n",
       "      <td>False</td>\n",
       "      <td>NaN</td>\n",
       "      <td>Southampton</td>\n",
       "      <td>yes</td>\n",
       "      <td>True</td>\n",
       "    </tr>\n",
       "    <tr>\n",
       "      <th>3</th>\n",
       "      <td>1</td>\n",
       "      <td>1</td>\n",
       "      <td>female</td>\n",
       "      <td>35.00000</td>\n",
       "      <td>1</td>\n",
       "      <td>0</td>\n",
       "      <td>53.10000</td>\n",
       "      <td>S</td>\n",
       "      <td>First</td>\n",
       "      <td>woman</td>\n",
       "      <td>False</td>\n",
       "      <td>C</td>\n",
       "      <td>Southampton</td>\n",
       "      <td>yes</td>\n",
       "      <td>False</td>\n",
       "    </tr>\n",
       "    <tr>\n",
       "      <th>4</th>\n",
       "      <td>0</td>\n",
       "      <td>3</td>\n",
       "      <td>male</td>\n",
       "      <td>35.00000</td>\n",
       "      <td>0</td>\n",
       "      <td>0</td>\n",
       "      <td>8.05000</td>\n",
       "      <td>S</td>\n",
       "      <td>Third</td>\n",
       "      <td>man</td>\n",
       "      <td>True</td>\n",
       "      <td>NaN</td>\n",
       "      <td>Southampton</td>\n",
       "      <td>no</td>\n",
       "      <td>True</td>\n",
       "    </tr>\n",
       "  </tbody>\n",
       "</table>\n",
       "</div>"
      ],
      "text/plain": [
       "   survived  pclass     sex      age  sibsp  parch     fare embarked  class  \\\n",
       "0         0       3    male 22.00000      1      0  7.25000        S  Third   \n",
       "1         1       1  female 38.00000      1      0 71.28330        C  First   \n",
       "2         1       3  female 26.00000      0      0  7.92500        S  Third   \n",
       "3         1       1  female 35.00000      1      0 53.10000        S  First   \n",
       "4         0       3    male 35.00000      0      0  8.05000        S  Third   \n",
       "\n",
       "     who  adult_male deck  embark_town alive  alone  \n",
       "0    man        True  NaN  Southampton    no  False  \n",
       "1  woman       False    C    Cherbourg   yes  False  \n",
       "2  woman       False  NaN  Southampton   yes   True  \n",
       "3  woman       False    C  Southampton   yes  False  \n",
       "4    man        True  NaN  Southampton    no   True  "
      ]
     },
     "execution_count": 42,
     "metadata": {},
     "output_type": "execute_result"
    }
   ],
   "source": [
    "df = sns.load_dataset(\"titanic\")\n",
    "df.head()"
   ]
  },
  {
   "cell_type": "code",
   "execution_count": 43,
   "id": "dd976bab-fb5d-4ab9-ab96-bf67906245ec",
   "metadata": {
    "pycharm": {
     "name": "#%%\n"
    }
   },
   "outputs": [
    {
     "data": {
      "text/plain": [
       "survived   0.74204\n",
       "dtype: float64"
      ]
     },
     "execution_count": 43,
     "metadata": {},
     "output_type": "execute_result"
    }
   ],
   "source": [
    "df.loc[df[\"sex\"]==\"female\"].agg({\"survived\": \"mean\"})"
   ]
  },
  {
   "cell_type": "code",
   "execution_count": 44,
   "id": "94405c37-86bb-4791-bba9-549ced5808d3",
   "metadata": {
    "pycharm": {
     "name": "#%%\n"
    }
   },
   "outputs": [
    {
     "name": "stdout",
     "output_type": "stream",
     "text": [
      "Test Stat = 16.2188, pvalue = 0.0000\n"
     ]
    }
   ],
   "source": [
    "female_succ_count = df.loc[df[\"sex\"]==\"female\", \"survived\"].sum()\n",
    "male_succ_count = df.loc[df[\"sex\"]==\"male\", \"survived\"].sum()\n",
    "\n",
    "test_stat, pvalue = proportions_ztest(count=[female_succ_count, male_succ_count],\n",
    "                                     nobs=[df.loc[df[\"sex\"]==\"female\", \"survived\"].shape[0],\n",
    "                                          df.loc[df[\"sex\"]==\"male\", \"survived\"].shape[0]])\n",
    "print(\"Test Stat = %.4f, pvalue = %.4f\" % (test_stat, pvalue))\n",
    "# Ho red\n",
    "# Fark vardır."
   ]
  },
  {
   "cell_type": "markdown",
   "id": "abe774d3-9eaf-4fb7-a12f-3f8a9c328e9c",
   "metadata": {
    "pycharm": {
     "name": "#%% md\n"
    }
   },
   "source": [
    "# İkiden Fazla Grup Ortalaması Karşılaştırma (Anova - Anlaysis of Variance)\n",
    "- Ho: m1=m2=m3"
   ]
  },
  {
   "cell_type": "code",
   "execution_count": 45,
   "id": "761bc27d-b007-4432-8bef-d4878f3fded3",
   "metadata": {
    "pycharm": {
     "name": "#%%\n"
    }
   },
   "outputs": [
    {
     "data": {
      "text/html": [
       "<div>\n",
       "<style scoped>\n",
       "    .dataframe tbody tr th:only-of-type {\n",
       "        vertical-align: middle;\n",
       "    }\n",
       "\n",
       "    .dataframe tbody tr th {\n",
       "        vertical-align: top;\n",
       "    }\n",
       "\n",
       "    .dataframe thead th {\n",
       "        text-align: right;\n",
       "    }\n",
       "</style>\n",
       "<table border=\"1\" class=\"dataframe\">\n",
       "  <thead>\n",
       "    <tr style=\"text-align: right;\">\n",
       "      <th></th>\n",
       "      <th>total_bill</th>\n",
       "      <th>tip</th>\n",
       "      <th>sex</th>\n",
       "      <th>smoker</th>\n",
       "      <th>day</th>\n",
       "      <th>time</th>\n",
       "      <th>size</th>\n",
       "    </tr>\n",
       "  </thead>\n",
       "  <tbody>\n",
       "    <tr>\n",
       "      <th>0</th>\n",
       "      <td>16.99000</td>\n",
       "      <td>1.01000</td>\n",
       "      <td>Female</td>\n",
       "      <td>No</td>\n",
       "      <td>Sun</td>\n",
       "      <td>Dinner</td>\n",
       "      <td>2</td>\n",
       "    </tr>\n",
       "    <tr>\n",
       "      <th>1</th>\n",
       "      <td>10.34000</td>\n",
       "      <td>1.66000</td>\n",
       "      <td>Male</td>\n",
       "      <td>No</td>\n",
       "      <td>Sun</td>\n",
       "      <td>Dinner</td>\n",
       "      <td>3</td>\n",
       "    </tr>\n",
       "    <tr>\n",
       "      <th>2</th>\n",
       "      <td>21.01000</td>\n",
       "      <td>3.50000</td>\n",
       "      <td>Male</td>\n",
       "      <td>No</td>\n",
       "      <td>Sun</td>\n",
       "      <td>Dinner</td>\n",
       "      <td>3</td>\n",
       "    </tr>\n",
       "    <tr>\n",
       "      <th>3</th>\n",
       "      <td>23.68000</td>\n",
       "      <td>3.31000</td>\n",
       "      <td>Male</td>\n",
       "      <td>No</td>\n",
       "      <td>Sun</td>\n",
       "      <td>Dinner</td>\n",
       "      <td>2</td>\n",
       "    </tr>\n",
       "    <tr>\n",
       "      <th>4</th>\n",
       "      <td>24.59000</td>\n",
       "      <td>3.61000</td>\n",
       "      <td>Female</td>\n",
       "      <td>No</td>\n",
       "      <td>Sun</td>\n",
       "      <td>Dinner</td>\n",
       "      <td>4</td>\n",
       "    </tr>\n",
       "  </tbody>\n",
       "</table>\n",
       "</div>"
      ],
      "text/plain": [
       "   total_bill     tip     sex smoker  day    time  size\n",
       "0    16.99000 1.01000  Female     No  Sun  Dinner     2\n",
       "1    10.34000 1.66000    Male     No  Sun  Dinner     3\n",
       "2    21.01000 3.50000    Male     No  Sun  Dinner     3\n",
       "3    23.68000 3.31000    Male     No  Sun  Dinner     2\n",
       "4    24.59000 3.61000  Female     No  Sun  Dinner     4"
      ]
     },
     "execution_count": 45,
     "metadata": {},
     "output_type": "execute_result"
    }
   ],
   "source": [
    "df = sns.load_dataset(\"tips\")\n",
    "df.head()"
   ]
  },
  {
   "cell_type": "markdown",
   "id": "8ad7049d-5eae-42c4-9d18-e8ab58b56ecb",
   "metadata": {
    "pycharm": {
     "name": "#%% md\n"
    }
   },
   "source": [
    "#### Haftanın günleri arasında ödenen hesap arasında ist. olarak fark var mıdır?"
   ]
  },
  {
   "cell_type": "code",
   "execution_count": 46,
   "id": "e6b2aff6-c109-4e27-ae66-47089b4faf84",
   "metadata": {
    "pycharm": {
     "name": "#%%\n"
    }
   },
   "outputs": [
    {
     "data": {
      "text/plain": [
       "day\n",
       "Thur   17.68274\n",
       "Fri    17.15158\n",
       "Sat    20.44138\n",
       "Sun    21.41000\n",
       "Name: total_bill, dtype: float64"
      ]
     },
     "execution_count": 46,
     "metadata": {},
     "output_type": "execute_result"
    }
   ],
   "source": [
    "df.groupby(\"day\")[\"total_bill\"].mean()"
   ]
  },
  {
   "cell_type": "markdown",
   "id": "7eb20c7d-f80f-4b8e-89cf-1f570967c139",
   "metadata": {
    "pycharm": {
     "name": "#%% md\n"
    }
   },
   "source": [
    "- Ho: m1=m2=m3=m4\n",
    "- Ha: fark vardır."
   ]
  },
  {
   "cell_type": "markdown",
   "id": "1950cea8-cc2d-4ee2-ab43-ed2e11a1ff4b",
   "metadata": {
    "pycharm": {
     "name": "#%% md\n"
    }
   },
   "source": [
    "#### 2. Varsayım Kontrolü\n",
    "- Varsayım sağlanıyorsa one way anova\n",
    "- Sağlanmıyorsa kruskal"
   ]
  },
  {
   "cell_type": "code",
   "execution_count": 49,
   "id": "2d589857-2999-4d18-adab-43c25252c680",
   "metadata": {
    "pycharm": {
     "name": "#%%\n"
    }
   },
   "outputs": [
    {
     "name": "stdout",
     "output_type": "stream",
     "text": [
      "Sun p-value: 0.0036\n",
      "Sat p-value: 0.0000\n",
      "Thur p-value: 0.0000\n",
      "Fri p-value: 0.0409\n"
     ]
    }
   ],
   "source": [
    "for group in list(df[\"day\"].unique()):\n",
    "    pvalue = shapiro(df.loc[df[\"day\"]==group, \"total_bill\"])[1]\n",
    "    print(group, \"p-value: %.4f\" % pvalue)\n",
    "\n",
    "# Ho red edildi\n",
    "# Normallik varsayımı sağlanmıyor"
   ]
  },
  {
   "cell_type": "code",
   "execution_count": 51,
   "id": "392ca012-9a60-4342-a14f-d054b1d199b8",
   "metadata": {
    "pycharm": {
     "name": "#%%\n"
    }
   },
   "outputs": [
    {
     "data": {
      "text/plain": [
       "3.3244529351605934e-10"
      ]
     },
     "execution_count": 51,
     "metadata": {},
     "output_type": "execute_result"
    }
   ],
   "source": [
    "pvalue = shapiro(df[\"total_bill\"])[1]\n",
    "pvalue"
   ]
  },
  {
   "cell_type": "code",
   "execution_count": 54,
   "id": "88e7bde9-d9d3-4709-94f9-b6a9eb4192ac",
   "metadata": {
    "pycharm": {
     "name": "#%%\n"
    }
   },
   "outputs": [
    {
     "name": "stdout",
     "output_type": "stream",
     "text": [
      "Test Stat = 0.6654, pvalue = 0.5741\n"
     ]
    }
   ],
   "source": [
    "test_stat, pvalue = levene(df.loc[df[\"day\"]==\"Sun\", \"total_bill\"],\n",
    "                          df.loc[df[\"day\"]==\"Sat\", \"total_bill\"],\n",
    "                          df.loc[df[\"day\"]==\"Thur\", \"total_bill\"],\n",
    "                          df.loc[df[\"day\"]==\"Fri\", \"total_bill\"])\n",
    "\n",
    "print(\"Test Stat = %.4f, pvalue = %.4f\" % (test_stat, pvalue))\n",
    "# Ho red edilemez\n",
    "# Varysan homojenliği vardır"
   ]
  },
  {
   "cell_type": "code",
   "execution_count": 55,
   "id": "df7c4b45-83ab-45a9-88a1-47674f7690c6",
   "metadata": {
    "pycharm": {
     "name": "#%%\n"
    }
   },
   "outputs": [
    {
     "data": {
      "text/html": [
       "<div>\n",
       "<style scoped>\n",
       "    .dataframe tbody tr th:only-of-type {\n",
       "        vertical-align: middle;\n",
       "    }\n",
       "\n",
       "    .dataframe tbody tr th {\n",
       "        vertical-align: top;\n",
       "    }\n",
       "\n",
       "    .dataframe thead tr th {\n",
       "        text-align: left;\n",
       "    }\n",
       "\n",
       "    .dataframe thead tr:last-of-type th {\n",
       "        text-align: right;\n",
       "    }\n",
       "</style>\n",
       "<table border=\"1\" class=\"dataframe\">\n",
       "  <thead>\n",
       "    <tr>\n",
       "      <th></th>\n",
       "      <th colspan=\"2\" halign=\"left\">total_bill</th>\n",
       "    </tr>\n",
       "    <tr>\n",
       "      <th></th>\n",
       "      <th>mean</th>\n",
       "      <th>median</th>\n",
       "    </tr>\n",
       "    <tr>\n",
       "      <th>day</th>\n",
       "      <th></th>\n",
       "      <th></th>\n",
       "    </tr>\n",
       "  </thead>\n",
       "  <tbody>\n",
       "    <tr>\n",
       "      <th>Thur</th>\n",
       "      <td>17.68274</td>\n",
       "      <td>16.20000</td>\n",
       "    </tr>\n",
       "    <tr>\n",
       "      <th>Fri</th>\n",
       "      <td>17.15158</td>\n",
       "      <td>15.38000</td>\n",
       "    </tr>\n",
       "    <tr>\n",
       "      <th>Sat</th>\n",
       "      <td>20.44138</td>\n",
       "      <td>18.24000</td>\n",
       "    </tr>\n",
       "    <tr>\n",
       "      <th>Sun</th>\n",
       "      <td>21.41000</td>\n",
       "      <td>19.63000</td>\n",
       "    </tr>\n",
       "  </tbody>\n",
       "</table>\n",
       "</div>"
      ],
      "text/plain": [
       "     total_bill         \n",
       "           mean   median\n",
       "day                     \n",
       "Thur   17.68274 16.20000\n",
       "Fri    17.15158 15.38000\n",
       "Sat    20.44138 18.24000\n",
       "Sun    21.41000 19.63000"
      ]
     },
     "execution_count": 55,
     "metadata": {},
     "output_type": "execute_result"
    }
   ],
   "source": [
    "df.groupby(\"day\").agg({\"total_bill\": [\"mean\", \"median\"]})"
   ]
  },
  {
   "cell_type": "code",
   "execution_count": 56,
   "id": "46221b22-a84c-4d43-9180-921d4347beeb",
   "metadata": {
    "pycharm": {
     "name": "#%%\n"
    }
   },
   "outputs": [
    {
     "data": {
      "text/plain": [
       "F_onewayResult(statistic=2.7674794432863363, pvalue=0.04245383328952047)"
      ]
     },
     "execution_count": 56,
     "metadata": {},
     "output_type": "execute_result"
    }
   ],
   "source": [
    "# Parametrik Anova Testi\n",
    "\n",
    "f_oneway(df.loc[df[\"day\"]==\"Sun\", \"total_bill\"],\n",
    "                df.loc[df[\"day\"]==\"Sat\", \"total_bill\"],\n",
    "                df.loc[df[\"day\"]==\"Thur\", \"total_bill\"],\n",
    "                df.loc[df[\"day\"]==\"Fri\", \"total_bill\"])\n",
    "\n",
    "# Ho red edildi\n",
    "# ist. olarak fark vardır"
   ]
  },
  {
   "cell_type": "code",
   "execution_count": 57,
   "id": "997b5974-b33b-42e1-a787-bf499949646f",
   "metadata": {
    "pycharm": {
     "name": "#%%\n"
    }
   },
   "outputs": [
    {
     "data": {
      "text/plain": [
       "KruskalResult(statistic=10.403076391436972, pvalue=0.015433008201042065)"
      ]
     },
     "execution_count": 57,
     "metadata": {},
     "output_type": "execute_result"
    }
   ],
   "source": [
    "# Non Parametrik Anova Testi\n",
    "\n",
    "kruskal(df.loc[df[\"day\"]==\"Sun\", \"total_bill\"],\n",
    "                df.loc[df[\"day\"]==\"Sat\", \"total_bill\"],\n",
    "                df.loc[df[\"day\"]==\"Thur\", \"total_bill\"],\n",
    "                df.loc[df[\"day\"]==\"Fri\", \"total_bill\"])\n",
    "\n",
    "# Ho red edildi\n",
    "# ist. olarak fark vardır"
   ]
  },
  {
   "cell_type": "markdown",
   "id": "2ceae085-8dd4-4e3d-9524-8522a4b2a14b",
   "metadata": {
    "pycharm": {
     "name": "#%% md\n"
    }
   },
   "source": [
    "#### Farklılık Hangi Gruptan Kaynaklanıyor?"
   ]
  },
  {
   "cell_type": "code",
   "execution_count": 59,
   "id": "b94ca1ad-25da-4a88-acd5-c6bd4ee007d8",
   "metadata": {
    "pycharm": {
     "name": "#%%\n"
    }
   },
   "outputs": [],
   "source": [
    "from statsmodels.stats.multicomp import MultiComparison\n",
    "\n",
    "comparison = MultiComparison(df[\"total_bill\"], df[\"day\"])\n",
    "tukey = comparison.tukeyhsd(0.05)"
   ]
  },
  {
   "cell_type": "code",
   "execution_count": 60,
   "id": "19e8af32-0cd5-4fec-bbb3-e7604eb5c2a1",
   "metadata": {
    "pycharm": {
     "name": "#%%\n"
    }
   },
   "outputs": [
    {
     "data": {
      "text/html": [
       "<table class=\"simpletable\">\n",
       "<caption>Multiple Comparison of Means - Tukey HSD, FWER=0.05</caption>\n",
       "<tr>\n",
       "  <th>group1</th> <th>group2</th> <th>meandiff</th>  <th>p-adj</th>  <th>lower</th>   <th>upper</th>  <th>reject</th>\n",
       "</tr>\n",
       "<tr>\n",
       "    <td>Fri</td>    <td>Sat</td>   <td>3.2898</td>  <td>0.4541</td> <td>-2.4799</td> <td>9.0595</td>   <td>False</td>\n",
       "</tr>\n",
       "<tr>\n",
       "    <td>Fri</td>    <td>Sun</td>   <td>4.2584</td>  <td>0.2371</td> <td>-1.5856</td> <td>10.1025</td>  <td>False</td>\n",
       "</tr>\n",
       "<tr>\n",
       "    <td>Fri</td>   <td>Thur</td>   <td>0.5312</td>  <td>0.9957</td> <td>-5.4434</td> <td>6.5057</td>   <td>False</td>\n",
       "</tr>\n",
       "<tr>\n",
       "    <td>Sat</td>    <td>Sun</td>   <td>0.9686</td>  <td>0.8968</td> <td>-2.6088</td>  <td>4.546</td>   <td>False</td>\n",
       "</tr>\n",
       "<tr>\n",
       "    <td>Sat</td>   <td>Thur</td>   <td>-2.7586</td> <td>0.2374</td> <td>-6.5455</td> <td>1.0282</td>   <td>False</td>\n",
       "</tr>\n",
       "<tr>\n",
       "    <td>Sun</td>   <td>Thur</td>   <td>-3.7273</td> <td>0.0668</td> <td>-7.6264</td> <td>0.1719</td>   <td>False</td>\n",
       "</tr>\n",
       "</table>"
      ],
      "text/plain": [
       "<class 'statsmodels.iolib.table.SimpleTable'>"
      ]
     },
     "execution_count": 60,
     "metadata": {},
     "output_type": "execute_result"
    }
   ],
   "source": [
    "tukey.summary()"
   ]
  },
  {
   "cell_type": "code",
   "execution_count": 61,
   "id": "14968d98-c343-45b7-b0c8-570529a4688e",
   "metadata": {
    "pycharm": {
     "name": "#%%\n"
    }
   },
   "outputs": [
    {
     "data": {
      "text/html": [
       "<table class=\"simpletable\">\n",
       "<caption>Multiple Comparison of Means - Tukey HSD, FWER=0.10</caption>\n",
       "<tr>\n",
       "  <th>group1</th> <th>group2</th> <th>meandiff</th>  <th>p-adj</th>  <th>lower</th>   <th>upper</th> <th>reject</th>\n",
       "</tr>\n",
       "<tr>\n",
       "    <td>Fri</td>    <td>Sat</td>   <td>3.2898</td>  <td>0.4541</td> <td>-1.8481</td> <td>8.4277</td>  <td>False</td>\n",
       "</tr>\n",
       "<tr>\n",
       "    <td>Fri</td>    <td>Sun</td>   <td>4.2584</td>  <td>0.2371</td> <td>-0.9457</td> <td>9.4626</td>  <td>False</td>\n",
       "</tr>\n",
       "<tr>\n",
       "    <td>Fri</td>   <td>Thur</td>   <td>0.5312</td>  <td>0.9957</td> <td>-4.7892</td> <td>5.8515</td>  <td>False</td>\n",
       "</tr>\n",
       "<tr>\n",
       "    <td>Sat</td>    <td>Sun</td>   <td>0.9686</td>  <td>0.8968</td> <td>-2.217</td>  <td>4.1543</td>  <td>False</td>\n",
       "</tr>\n",
       "<tr>\n",
       "    <td>Sat</td>   <td>Thur</td>   <td>-2.7586</td> <td>0.2374</td> <td>-6.1308</td> <td>0.6135</td>  <td>False</td>\n",
       "</tr>\n",
       "<tr>\n",
       "    <td>Sun</td>   <td>Thur</td>   <td>-3.7273</td> <td>0.0668</td> <td>-7.1995</td> <td>-0.255</td>  <td>True</td> \n",
       "</tr>\n",
       "</table>"
      ],
      "text/plain": [
       "<class 'statsmodels.iolib.table.SimpleTable'>"
      ]
     },
     "execution_count": 61,
     "metadata": {},
     "output_type": "execute_result"
    }
   ],
   "source": [
    "comparison = MultiComparison(df[\"total_bill\"], df[\"day\"])\n",
    "tukey = comparison.tukeyhsd(0.1)\n",
    "tukey.summary()"
   ]
  },
  {
   "cell_type": "code",
   "execution_count": null,
   "id": "4cd6463c-aa60-4edd-9a49-084681b5663e",
   "metadata": {
    "pycharm": {
     "name": "#%%\n"
    }
   },
   "outputs": [],
   "source": []
  }
 ],
 "metadata": {
  "kernelspec": {
   "display_name": "Python 3 (ipykernel)",
   "language": "python",
   "name": "python3"
  },
  "language_info": {
   "codemirror_mode": {
    "name": "ipython",
    "version": 3
   },
   "file_extension": ".py",
   "mimetype": "text/x-python",
   "name": "python",
   "nbconvert_exporter": "python",
   "pygments_lexer": "ipython3",
   "version": "3.9.13"
  }
 },
 "nbformat": 4,
 "nbformat_minor": 5
}